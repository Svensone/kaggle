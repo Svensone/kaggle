{
  "nbformat": 4,
  "nbformat_minor": 0,
  "metadata": {
    "colab": {
      "name": "06.04.21-[fastaiv2]-DICOM-Melanoma-Ver.5.ipynb",
      "provenance": [],
      "collapsed_sections": [
        "dfBsuAkWiKur",
        "lGSmZY6TQHsP"
      ],
      "toc_visible": true,
      "include_colab_link": true
    },
    "kernelspec": {
      "display_name": "Python 3",
      "language": "python",
      "name": "python3"
    },
    "language_info": {
      "codemirror_mode": {
        "name": "ipython",
        "version": 3
      },
      "file_extension": ".py",
      "mimetype": "text/x-python",
      "name": "python",
      "nbconvert_exporter": "python",
      "pygments_lexer": "ipython3",
      "version": "3.7.6"
    },
    "accelerator": "GPU"
  },
  "cells": [
    {
      "cell_type": "markdown",
      "metadata": {
        "id": "view-in-github",
        "colab_type": "text"
      },
      "source": [
        "<a href=\"https://colab.research.google.com/github/Svensone/kaggle/blob/main/06_04_21_%5Bfastaiv2%5D_DICOM_Melanoma_Ver_5.ipynb\" target=\"_parent\"><img src=\"https://colab.research.google.com/assets/colab-badge.svg\" alt=\"Open In Colab\"/></a>"
      ]
    },
    {
      "cell_type": "markdown",
      "metadata": {
        "id": "bODMf2MDQHrz"
      },
      "source": [
        ""
      ]
    },
    {
      "cell_type": "markdown",
      "metadata": {
        "id": "UWwG56dfQHsA"
      },
      "source": [
        "## 1. Setup"
      ]
    },
    {
      "cell_type": "code",
      "metadata": {
        "id": "QCNP-Kn6QHsA",
        "colab": {
          "base_uri": "https://localhost:8080/"
        },
        "outputId": "89fb9a67-6e9c-45cf-d3d4-a5f6633dde82"
      },
      "source": [
        "!pip install pydicom kornia opencv-python scikit-image nbdev\n",
        "!pip install fastcore\n",
        "#Install/upgrade fastai package\n",
        "!pip install --upgrade fastai"
      ],
      "execution_count": null,
      "outputs": [
        {
          "output_type": "stream",
          "text": [
            "\u001b[K     |████████████████████████████████| 776.8MB 23kB/s \n",
            "\u001b[?25hRequirement already satisfied, skipping upgrade: spacy<3 in /usr/local/lib/python3.7/dist-packages (from fastai) (2.2.4)\n",
            "Requirement already satisfied, skipping upgrade: pandas in /usr/local/lib/python3.7/dist-packages (from fastai) (1.1.5)\n",
            "Requirement already satisfied, skipping upgrade: pillow>6.0.0 in /usr/local/lib/python3.7/dist-packages (from fastai) (7.1.2)\n",
            "Collecting torchvision<0.9,>=0.8\n",
            "\u001b[?25l  Downloading https://files.pythonhosted.org/packages/94/df/969e69a94cff1c8911acb0688117f95e1915becc1e01c73e7960a2c76ec8/torchvision-0.8.2-cp37-cp37m-manylinux1_x86_64.whl (12.8MB)\n",
            "\u001b[K     |████████████████████████████████| 12.8MB 246kB/s \n",
            "\u001b[?25hRequirement already satisfied, skipping upgrade: fastprogress>=0.2.4 in /usr/local/lib/python3.7/dist-packages (from fastai) (1.0.0)\n",
            "Requirement already satisfied, skipping upgrade: pyyaml in /usr/local/lib/python3.7/dist-packages (from fastai) (3.13)\n",
            "Requirement already satisfied, skipping upgrade: packaging in /usr/local/lib/python3.7/dist-packages (from fastai) (20.9)\n",
            "Requirement already satisfied, skipping upgrade: matplotlib in /usr/local/lib/python3.7/dist-packages (from fastai) (3.2.2)\n",
            "Requirement already satisfied, skipping upgrade: pip in /usr/local/lib/python3.7/dist-packages (from fastai) (19.3.1)\n",
            "Requirement already satisfied, skipping upgrade: scikit-learn in /usr/local/lib/python3.7/dist-packages (from fastai) (0.22.2.post1)\n",
            "Requirement already satisfied, skipping upgrade: fastcore<1.4,>=1.3.8 in /usr/local/lib/python3.7/dist-packages (from fastai) (1.3.19)\n",
            "Requirement already satisfied, skipping upgrade: numpy>=1.13.3 in /usr/local/lib/python3.7/dist-packages (from scipy->fastai) (1.19.5)\n",
            "Requirement already satisfied, skipping upgrade: urllib3!=1.25.0,!=1.25.1,<1.26,>=1.21.1 in /usr/local/lib/python3.7/dist-packages (from requests->fastai) (1.24.3)\n",
            "Requirement already satisfied, skipping upgrade: idna<3,>=2.5 in /usr/local/lib/python3.7/dist-packages (from requests->fastai) (2.10)\n",
            "Requirement already satisfied, skipping upgrade: certifi>=2017.4.17 in /usr/local/lib/python3.7/dist-packages (from requests->fastai) (2020.12.5)\n",
            "Requirement already satisfied, skipping upgrade: chardet<4,>=3.0.2 in /usr/local/lib/python3.7/dist-packages (from requests->fastai) (3.0.4)\n",
            "Requirement already satisfied, skipping upgrade: typing-extensions in /usr/local/lib/python3.7/dist-packages (from torch<1.8,>=1.7.0->fastai) (3.7.4.3)\n",
            "Requirement already satisfied, skipping upgrade: blis<0.5.0,>=0.4.0 in /usr/local/lib/python3.7/dist-packages (from spacy<3->fastai) (0.4.1)\n",
            "Requirement already satisfied, skipping upgrade: murmurhash<1.1.0,>=0.28.0 in /usr/local/lib/python3.7/dist-packages (from spacy<3->fastai) (1.0.5)\n",
            "Requirement already satisfied, skipping upgrade: preshed<3.1.0,>=3.0.2 in /usr/local/lib/python3.7/dist-packages (from spacy<3->fastai) (3.0.5)\n",
            "Requirement already satisfied, skipping upgrade: srsly<1.1.0,>=1.0.2 in /usr/local/lib/python3.7/dist-packages (from spacy<3->fastai) (1.0.5)\n",
            "Requirement already satisfied, skipping upgrade: setuptools in /usr/local/lib/python3.7/dist-packages (from spacy<3->fastai) (54.2.0)\n",
            "Requirement already satisfied, skipping upgrade: thinc==7.4.0 in /usr/local/lib/python3.7/dist-packages (from spacy<3->fastai) (7.4.0)\n",
            "Requirement already satisfied, skipping upgrade: wasabi<1.1.0,>=0.4.0 in /usr/local/lib/python3.7/dist-packages (from spacy<3->fastai) (0.8.2)\n",
            "Requirement already satisfied, skipping upgrade: plac<1.2.0,>=0.9.6 in /usr/local/lib/python3.7/dist-packages (from spacy<3->fastai) (1.1.3)\n",
            "Requirement already satisfied, skipping upgrade: catalogue<1.1.0,>=0.0.7 in /usr/local/lib/python3.7/dist-packages (from spacy<3->fastai) (1.0.0)\n",
            "Requirement already satisfied, skipping upgrade: tqdm<5.0.0,>=4.38.0 in /usr/local/lib/python3.7/dist-packages (from spacy<3->fastai) (4.41.1)\n",
            "Requirement already satisfied, skipping upgrade: cymem<2.1.0,>=2.0.2 in /usr/local/lib/python3.7/dist-packages (from spacy<3->fastai) (2.0.5)\n",
            "Requirement already satisfied, skipping upgrade: pytz>=2017.2 in /usr/local/lib/python3.7/dist-packages (from pandas->fastai) (2018.9)\n",
            "Requirement already satisfied, skipping upgrade: python-dateutil>=2.7.3 in /usr/local/lib/python3.7/dist-packages (from pandas->fastai) (2.8.1)\n",
            "Requirement already satisfied, skipping upgrade: pyparsing>=2.0.2 in /usr/local/lib/python3.7/dist-packages (from packaging->fastai) (2.4.7)\n",
            "Requirement already satisfied, skipping upgrade: cycler>=0.10 in /usr/local/lib/python3.7/dist-packages (from matplotlib->fastai) (0.10.0)\n",
            "Requirement already satisfied, skipping upgrade: kiwisolver>=1.0.1 in /usr/local/lib/python3.7/dist-packages (from matplotlib->fastai) (1.3.1)\n",
            "Requirement already satisfied, skipping upgrade: joblib>=0.11 in /usr/local/lib/python3.7/dist-packages (from scikit-learn->fastai) (1.0.1)\n",
            "Requirement already satisfied, skipping upgrade: importlib-metadata>=0.20; python_version < \"3.8\" in /usr/local/lib/python3.7/dist-packages (from catalogue<1.1.0,>=0.0.7->spacy<3->fastai) (3.8.1)\n",
            "Requirement already satisfied, skipping upgrade: six>=1.5 in /usr/local/lib/python3.7/dist-packages (from python-dateutil>=2.7.3->pandas->fastai) (1.15.0)\n",
            "Requirement already satisfied, skipping upgrade: zipp>=0.5 in /usr/local/lib/python3.7/dist-packages (from importlib-metadata>=0.20; python_version < \"3.8\"->catalogue<1.1.0,>=0.0.7->spacy<3->fastai) (3.4.1)\n",
            "\u001b[31mERROR: torchtext 0.9.1 has requirement torch==1.8.1, but you'll have torch 1.7.1 which is incompatible.\u001b[0m\n",
            "Installing collected packages: torch, torchvision, fastai\n",
            "  Found existing installation: torch 1.8.1+cu101\n",
            "    Uninstalling torch-1.8.1+cu101:\n",
            "      Successfully uninstalled torch-1.8.1+cu101\n",
            "  Found existing installation: torchvision 0.9.1+cu101\n",
            "    Uninstalling torchvision-0.9.1+cu101:\n",
            "      Successfully uninstalled torchvision-0.9.1+cu101\n",
            "  Found existing installation: fastai 1.0.61\n",
            "    Uninstalling fastai-1.0.61:\n",
            "      Successfully uninstalled fastai-1.0.61\n",
            "Successfully installed fastai-2.3.0 torch-1.7.1 torchvision-0.8.2\n"
          ],
          "name": "stdout"
        }
      ]
    },
    {
      "cell_type": "code",
      "metadata": {
        "id": "BBZidOi395Pk",
        "colab": {
          "base_uri": "https://localhost:8080/"
        },
        "outputId": "fb9fa037-f862-44f4-bf90-30d6c4515b1f"
      },
      "source": [
        "!pip install -Uqq fastbook"
      ],
      "execution_count": null,
      "outputs": [
        {
          "output_type": "stream",
          "text": [
            "\u001b[K     |████████████████████████████████| 727kB 8.4MB/s \n",
            "\u001b[K     |████████████████████████████████| 1.2MB 17.6MB/s \n",
            "\u001b[?25h"
          ],
          "name": "stdout"
        }
      ]
    },
    {
      "cell_type": "markdown",
      "metadata": {
        "id": "GR7HnICs9NM_"
      },
      "source": [
        "### performance hacks"
      ]
    },
    {
      "cell_type": "code",
      "metadata": {
        "id": "QB6Hs5FFonoG"
      },
      "source": [
        "# get more RAM\n",
        "# i = []\n",
        "# while(True):\n",
        "#     i.append('a')\n",
        "\n",
        "# not working. no pop_up windows where you can click \"get more RAM\" :()"
      ],
      "execution_count": null,
      "outputs": []
    },
    {
      "cell_type": "code",
      "metadata": {
        "id": "yLG9ea2L9LPp"
      },
      "source": [
        "# add this to console so colab does not disconnect since idle"
      ],
      "execution_count": null,
      "outputs": []
    },
    {
      "cell_type": "code",
      "metadata": {
        "id": "uduMP8ADoxka"
      },
      "source": [
        "# function KeepClicking(){\n",
        "#    console.log(\"Clicking\");\n",
        "#    document.querySelector(\"colab-toolbar-button#connect\").click()\n",
        "# }setInterval(KeepClicking,60000)"
      ],
      "execution_count": null,
      "outputs": []
    },
    {
      "cell_type": "markdown",
      "metadata": {
        "id": "FtHkL0E_9RfU"
      },
      "source": [
        "### load dependencies etc."
      ]
    },
    {
      "cell_type": "code",
      "metadata": {
        "id": "A52bgpLt-Er4"
      },
      "source": [
        "# connect to GoogleDrive\n",
        "import fastbook\n",
        "fastbook.setup_book()"
      ],
      "execution_count": null,
      "outputs": []
    },
    {
      "cell_type": "code",
      "metadata": {
        "id": "EI7dGwL3QHsD"
      },
      "source": [
        "%reload_ext autoreload\n",
        "%autoreload 2\n",
        "%matplotlib inline\n",
        "\n",
        "# load dependancies\n",
        "import torch, torchvision\n",
        "import fastcore\n",
        "import fastai\n",
        "from fastai.basics import *\n",
        "from fastai.data.all import *\n",
        "from fastai.callback.all import *\n",
        "from fastai.vision.all import *\n",
        "from fastai.medical.imaging import *\n",
        "\n",
        "import pydicom\n",
        "\n",
        "import seaborn as sns\n",
        "\n",
        "import numpy as np\n",
        "import pandas as pd\n",
        "import os\n",
        "\n",
        "print(f'Notebook last run on {datetime.fromtimestamp(time.time()).strftime(\"%Y-%m-%d, %H:%M:%S UTC\")}')\n",
        "print('Using fastai version ',fastai.__version__)\n",
        "print(f'fastcore version {fastcore.__version__} installed.')\n",
        "print('And torch version ',torch.__version__)\n",
        "print(\"PyDicom\", pydicom.__version__)\n",
        "print(\"GPU available\", torch.cuda.is_available())\n",
        "print(\" GPU\", torch.cuda.get_device_name(0))\n",
        "print(\"GPU \", torch.backends.cudnn.enabled)\n",
        "\n",
        "\n",
        "# ignore warnings\n",
        "import warnings\n",
        "warnings.filterwarnings('ignore')\n",
        "warnings.filterwarnings(\"ignore\", category=UserWarning, module=\"torch.nn.functional\")"
      ],
      "execution_count": null,
      "outputs": []
    },
    {
      "cell_type": "code",
      "metadata": {
        "id": "90K-L4xs9dVt"
      },
      "source": [
        "## for reproducability set seed\n",
        "# def seed_everything(seed=0):\n",
        "#   random.seed(seed)\n",
        "#   os.environ[\"PYTHONHASHSEED\"] = str(seed)\n",
        "#   np.random.seed(seed)\n",
        "#   torch.manual_seed(seed)\n",
        "#   torch.cuda.manual_seed(seed)\n",
        "#   torch.backends.cudnn.deterministic = True\n",
        "# seed_everything()"
      ],
      "execution_count": null,
      "outputs": []
    },
    {
      "cell_type": "code",
      "metadata": {
        "id": "-g8Y3sEFRNvr"
      },
      "source": [
        "# Setup Kaggle\n",
        "# # connect kaggle\n",
        "# from google.colab import files\n",
        "# files.upload()\n",
        "\n",
        "# !mkdir -p ~/.kaggle\n",
        "# !cp kaggle.json ~/.kaggle/\n",
        "# !chmod 600 ~/.kaggle/kaggle.json\n"
      ],
      "execution_count": null,
      "outputs": []
    },
    {
      "cell_type": "markdown",
      "metadata": {
        "id": "Tq6-sTizQHsE"
      },
      "source": [
        "## 2. Data\n",
        "\n",
        "* using DICOM files from train folder"
      ]
    },
    {
      "cell_type": "code",
      "metadata": {
        "id": "S2CDL0QgQHsE"
      },
      "source": [
        "path = Path('/content/gdrive/MyDrive/Colab Notebooks/kaggle/melanoma')\n",
        "dicom_path = os.path.join(path, 'DICOM')\n",
        "# dicom_path = Path('/content/gdrive/MyDrive/Colab Notebooks/kaggle/melanoma/DICOM')\n",
        "print(path)\n",
        "print(dicom_path)\n",
        "# files = os.listdir(path)"
      ],
      "execution_count": null,
      "outputs": []
    },
    {
      "cell_type": "markdown",
      "metadata": {
        "id": "dfBsuAkWiKur"
      },
      "source": [
        "### 2.1 Get data \n",
        "run only once"
      ]
    },
    {
      "cell_type": "code",
      "metadata": {
        "id": "bxn7dmZJSiA0"
      },
      "source": [
        "### Get partial Data (since Dataset w. 100+GB to big)\n",
        "\n",
        "# !kaggle competitions list -s siim"
      ],
      "execution_count": null,
      "outputs": []
    },
    {
      "cell_type": "code",
      "metadata": {
        "id": "hv6Hp256U1dC"
      },
      "source": [
        "# !pip install wget"
      ],
      "execution_count": null,
      "outputs": []
    },
    {
      "cell_type": "code",
      "metadata": {
        "id": "uu7gFNL9SXXE"
      },
      "source": [
        "## workaround to download only part of dataset\n",
        "# import wget\n",
        "# import zipfile as zf\n",
        "\n",
        "# url = \"https://storage.googleapis.com/kaggle-competitions-data/kaggle-v2/20270/1222630/compressed/train.zip?GoogleAccessId=web-data@kaggle-161607.iam.gserviceaccount.com&Expires=1617571181&Signature=SsQA86XYEjTMGnUs27nnNTAcl9n%2BrY%2FJH1Csj08he1XQj%2F4iq6rR2xHuzgp0cF%2FHxqHUpjab2iNtcaydVBmGTXq7rneKFfEoTKkhORO8nJkPGbBhQCz2IOwFlpibpYh1EZlAdhmsvnyUccHp6tqq%2Bph59q9sSafm%2B8gh7jRIBH6Y5xOrpHxgy81NVs9h%2FUHllCDBf%2F2NZxIaTiynleYG9zzV30HoQ3pM6SHeLYB1VZnkR9V%2BUTFLcze%2FNFjxxrWW92%2B49edLE1SkKzIMYMLHbbf7AoMMK3UAvkwxmktJmSJujFzBxugiVzMry2A5chagUsXSVw2Fp9eHH880FbR2Aw%3D%3D&response-content-disposition=attachment%3B+filename%3Dtrain.zip\"\n",
        "# path_dicom = path/'DICOM'\n",
        "# wget.download(url , '/content/gdrive/MyDrive/Colab Notebooks/kaggle/melanoma/DICOM/train.zip')\n"
      ],
      "execution_count": null,
      "outputs": []
    },
    {
      "cell_type": "code",
      "metadata": {
        "id": "qzAfepzvVWYd"
      },
      "source": [
        "# unzip\n",
        "# dicom_images = Path(path/'dicom_train.zip')\n",
        "\n",
        "# # # not enough space on gdrive for extraction / 04.01.2021\n",
        "# with zipfile.ZipFile(dicom_images, 'r') as zip_ref:\n",
        "#   zip_ref.extractall(dicom_path)"
      ],
      "execution_count": null,
      "outputs": []
    },
    {
      "cell_type": "code",
      "metadata": {
        "id": "mg8ycPYKVEzV"
      },
      "source": [
        "# Download only DICOM relevant csv files\n",
        "# !kaggle competitions download -c \"siim-isic-melanoma-classification\" -f test.csv\n",
        "# !kaggle competitions download -c \"siim-isic-melanoma-classification\" -p 'sample_data/melanoma-data' -f test.csv"
      ],
      "execution_count": null,
      "outputs": []
    },
    {
      "cell_type": "markdown",
      "metadata": {
        "id": "fbqYz50kzwbO"
      },
      "source": [
        "### 2.2. Check images and data"
      ]
    },
    {
      "cell_type": "code",
      "metadata": {
        "id": "bjFkuyEUejKN"
      },
      "source": [
        "# dicom_img = os.listdir(dicom_path)\n",
        "# len(dicom_img)"
      ],
      "execution_count": null,
      "outputs": []
    },
    {
      "cell_type": "code",
      "metadata": {
        "id": "jRxu3cuaV2JW"
      },
      "source": [
        "# check if only dicom files in folder\n",
        "assert len(glob.glob(os.path.join(dicom_path, '*.dcm'))) == len(os.listdir(dicom_path))"
      ],
      "execution_count": null,
      "outputs": []
    },
    {
      "cell_type": "code",
      "metadata": {
        "id": "MietsmwkQHsF"
      },
      "source": [
        "# only 2/3 of DICOM dataset since limited space on Colab\n",
        "train = dicom_path\n",
        "train_files = get_dicom_files(train)\n",
        "train_files"
      ],
      "execution_count": null,
      "outputs": []
    },
    {
      "cell_type": "code",
      "metadata": {
        "id": "sVqI_hCKQHsF"
      },
      "source": [
        "# Check img \n",
        "patient1 = (train_files[7])\n",
        "dimg = patient1.dcmread()\n",
        "# dimg"
      ],
      "execution_count": null,
      "outputs": []
    },
    {
      "cell_type": "code",
      "metadata": {
        "id": "DQ9kUIGHQHsG"
      },
      "source": [
        "# create function to display dicom image and specific tags of DICOM Header\n",
        "def show_one_patient(file):\n",
        "    pat = file.dcmread()\n",
        "    print(f'patient Name {pat.PatientName}')\n",
        "    print(f'patient ID {pat.PatientID}')\n",
        "    print(f'patient Age {pat.PatientAge}')\n",
        "    print(f'patient Sex {pat.PatientSex}')\n",
        "\n",
        "    trans = Transform(Resize(256))\n",
        "    dicom_create = PILDicom.create(str(file))\n",
        "    dicom_transform = trans(dicom_create)\n",
        "    return show_image(dicom_transform)"
      ],
      "execution_count": null,
      "outputs": []
    },
    {
      "cell_type": "code",
      "metadata": {
        "id": "l_rxZAxAQHsI"
      },
      "source": [
        "show_one_patient(train_files[7])"
      ],
      "execution_count": null,
      "outputs": []
    },
    {
      "cell_type": "code",
      "metadata": {
        "id": "0G_3MA7dQHsJ"
      },
      "source": [
        "# transform from colorspace YBR_FULL_422 format to RGB\n",
        "from pydicom.pixel_data_handlers.util import convert_color_space\n",
        "\n",
        "arr = dimg.pixel_array\n",
        "convert = convert_color_space(arr, 'YBR_FULL_422', \"RGB\")\n",
        "show_image(convert)"
      ],
      "execution_count": null,
      "outputs": []
    },
    {
      "cell_type": "code",
      "metadata": {
        "id": "NcfKYJUXQHsJ"
      },
      "source": [
        "# view pixel distribution\n",
        "# px = dimg.pixels.flatten()\n",
        "# plt.hist(px, color='orange')"
      ],
      "execution_count": null,
      "outputs": []
    },
    {
      "cell_type": "code",
      "metadata": {
        "id": "ovwgG9ScQHsK"
      },
      "source": [
        "df = pd.read_csv(path/'train.csv')\n",
        "df.head()"
      ],
      "execution_count": null,
      "outputs": []
    },
    {
      "cell_type": "code",
      "metadata": {
        "id": "zFyXuMqHil7z"
      },
      "source": [
        "df.shape"
      ],
      "execution_count": null,
      "outputs": []
    },
    {
      "cell_type": "code",
      "metadata": {
        "id": "BMNxu8HYkjrB"
      },
      "source": [
        "####################\n",
        "# since only partial train set download\n",
        "# -> create df with only img names in DICOM dir\n",
        "####################\n",
        "df_test = df.copy()\n",
        "df_test = df_test[:-2] #since unzip interupted since lack of space, last files might be corupted\n",
        "\n",
        "img_list_part = os.listdir(dicom_path)\n",
        "len(img_list_part)\n",
        "\n",
        "mapping = {f.split(\".\")[0]: f for f in img_list_part}\n",
        "\n",
        "df_test['image_file'] = pd.Series() # create empty new column in df\n",
        "\n",
        "for img_name, img_file in mapping.items():\n",
        "  df_test.loc[df_test.image_name == img_name, 'image_file'] = img_file"
      ],
      "execution_count": null,
      "outputs": []
    },
    {
      "cell_type": "code",
      "metadata": {
        "id": "Is01FCh91pun"
      },
      "source": [
        "df_test.tail()\n",
        "print(df_test.shape)"
      ],
      "execution_count": null,
      "outputs": []
    },
    {
      "cell_type": "code",
      "metadata": {
        "id": "HoWH0jBN2Cfr"
      },
      "source": [
        "df_partial = df_test[df_test['image_file'].notnull()]\n",
        "df_partial.shape"
      ],
      "execution_count": null,
      "outputs": []
    },
    {
      "cell_type": "code",
      "metadata": {
        "id": "8vmSzq290iLS"
      },
      "source": [
        "#########################\n",
        "## for testing\n",
        "#########################\n",
        "\n",
        "# create dataframe from dicom files\n",
        "# see : https://docs.fast.ai/tutorial.medical_imaging.html\n",
        "\n",
        "# items = get_dicom_files(dicom_path)\n",
        "# items\n",
        "# # dicom_df = pd.DataFrame.from_dicoms(items)\n",
        "# # dicom_df[:5]\n",
        "# # dicom_dataframe = pd.DataFrame.from_dicoms(items)\n",
        "# dicom_dataframe[:5]"
      ],
      "execution_count": null,
      "outputs": []
    },
    {
      "cell_type": "markdown",
      "metadata": {
        "id": "oaZqodkCQHsK"
      },
      "source": [
        "### 2.2 EDA\n"
      ]
    },
    {
      "cell_type": "code",
      "metadata": {
        "id": "hB1VAOOkQHsL"
      },
      "source": [
        "sns.set(style = 'whitegrid')\n",
        "sns.set_context('paper')\n",
        "sns.set_palette('Blues')"
      ],
      "execution_count": null,
      "outputs": []
    },
    {
      "cell_type": "code",
      "metadata": {
        "id": "z-kooKjhQHsL"
      },
      "source": [
        "# create Plot to compare features\n",
        "\n",
        "def plot_comparison(df, feature1, feature2, feature3):\n",
        "    fig, (ax1, ax2, ax3) = plt.subplots(1,3, figsize=(20, 8))\n",
        "    \n",
        "    s1 = sns.countplot(df[feature1], ax=ax1)\n",
        "    s1.set_title(feature1)\n",
        "    \n",
        "    s2 = sns.countplot(df[feature2], ax=ax2)\n",
        "    s2.set_title(feature2)\n",
        "    \n",
        "    s3 = sns.countplot(df[feature3], ax= ax3)\n",
        "    s3.set_title(feature3)\n",
        "    \n",
        "    plt.show()"
      ],
      "execution_count": null,
      "outputs": []
    },
    {
      "cell_type": "code",
      "metadata": {
        "id": "FqaMKWf_QHsM"
      },
      "source": [
        "# plot_comparison(df, \"sex\", 'age_approx', 'benign_malignant')\n",
        "# plot_comparison(df_partial, \"sex\", 'age_approx', 'benign_malignant')"
      ],
      "execution_count": null,
      "outputs": []
    },
    {
      "cell_type": "code",
      "metadata": {
        "id": "HHzUldKEQHsM"
      },
      "source": [
        "def plot_comparison1(df, feature):\n",
        "    \n",
        "    fig, (ax) = plt.subplots(1,1, figsize=(20, 8))\n",
        "    \n",
        "    s1 = sns.countplot(df[feature], ax = ax)\n",
        "    s1.set_title(feature)\n",
        "    \n",
        "    plt.show()"
      ],
      "execution_count": null,
      "outputs": []
    },
    {
      "cell_type": "code",
      "metadata": {
        "id": "FOZBMHynQHsN"
      },
      "source": [
        "plot_comparison1(df_partial, 'diagnosis')"
      ],
      "execution_count": null,
      "outputs": []
    },
    {
      "cell_type": "code",
      "metadata": {
        "id": "PImHBfBhQHsN"
      },
      "source": [
        "plot_comparison1(df, 'target')"
      ],
      "execution_count": null,
      "outputs": []
    },
    {
      "cell_type": "code",
      "metadata": {
        "id": "2UgqcsVdQHsO"
      },
      "source": [
        "## Dataframe for EDA \n",
        "eda_df = df_partial[['sex', 'age_approx', 'anatom_site_general_challenge', 'diagnosis', 'target']]\n",
        "eda_df.head()"
      ],
      "execution_count": null,
      "outputs": []
    },
    {
      "cell_type": "code",
      "metadata": {
        "id": "7uLkRcqKQHsO"
      },
      "source": [
        "len(eda_df)"
      ],
      "execution_count": null,
      "outputs": []
    },
    {
      "cell_type": "markdown",
      "metadata": {
        "id": "lGSmZY6TQHsP"
      },
      "source": [
        "### 2.3 Data Cleaning for further EDA"
      ]
    },
    {
      "cell_type": "code",
      "metadata": {
        "id": "Wp0mCiHUQHsP"
      },
      "source": [
        "# check for NAN and delete rows\n",
        "sex_na = eda_df['sex'].isna().sum()\n",
        "age_na = eda_df['age_approx'].isna().sum()\n",
        "anatom_na = eda_df['anatom_site_general_challenge'].isna().sum()\n",
        "print(f'length of eda_df {len(eda_df)}, number of NAN in sex column {sex_na} number of NAN in age column {age_na}, number of NAN in anatom column {anatom_na}')"
      ],
      "execution_count": null,
      "outputs": []
    },
    {
      "cell_type": "code",
      "metadata": {
        "id": "1lIf8nw_QHsQ"
      },
      "source": [
        "df_drop = eda_df.dropna()\n",
        "len(df_drop)"
      ],
      "execution_count": null,
      "outputs": []
    },
    {
      "cell_type": "code",
      "metadata": {
        "id": "r_28e2cGQHsQ"
      },
      "source": [
        "## convert categorical values to labels\n",
        "\n",
        "from sklearn.preprocessing import LabelEncoder\n",
        "\n",
        "le = LabelEncoder()\n",
        "edaa_df = df_drop.apply(lambda col: le.fit_transform(col.astype(str)), axis=0, result_type='expand')\n",
        "edaa_df.head()"
      ],
      "execution_count": null,
      "outputs": []
    },
    {
      "cell_type": "code",
      "metadata": {
        "id": "VBitLCxcQHsR"
      },
      "source": [
        "# sns.pairplot(eda_df, hue= 'target', height = 5, aspect=2, palette = 'gist_rainbow_r')"
      ],
      "execution_count": null,
      "outputs": []
    },
    {
      "cell_type": "code",
      "metadata": {
        "id": "9NcxfJA6QHsR"
      },
      "source": [
        "sns.pairplot(eda_df, hue= 'age_approx', height = 5, aspect=3) \n",
        "# since ValueError: `bw_method` should be 'scott', 'silverman', a scalar or a callable\n",
        "# diag_kws={'bw': '0.05'} -> deleted"
      ],
      "execution_count": null,
      "outputs": []
    },
    {
      "cell_type": "markdown",
      "metadata": {
        "id": "r4_LeVbHQHsR"
      },
      "source": [
        "### 2.4 Data Preparation for Training"
      ]
    },
    {
      "cell_type": "code",
      "metadata": {
        "id": "xrZgKt2G6Euz"
      },
      "source": [
        "# since limited space, not able to download and extract all 200GB\n",
        "# using 22.000 Img\n",
        "df_complete = df.copy()\n",
        "df_complete_noNaN = df_complete.dropna()\n",
        "df = df_partial.copy()\n",
        "df = df_partial.dropna()\n",
        "df = df[['image_name', \"target\"]]"
      ],
      "execution_count": null,
      "outputs": []
    },
    {
      "cell_type": "code",
      "metadata": {
        "id": "yn1GkDGzcusC"
      },
      "source": [
        "print(df.shape)\n",
        "df.head()"
      ],
      "execution_count": null,
      "outputs": []
    },
    {
      "cell_type": "code",
      "metadata": {
        "id": "5MGs6tOxQHsS"
      },
      "source": [
        "# image name\n",
        "\n",
        "# refactor lambda since not able to pickle when export later\n",
        "def get_x_func(x):\n",
        "  return os.path.join(dicom_path, f'{x[0]}.dcm')\n",
        "\n",
        "# image label\n",
        "def get_y_func(x):\n",
        "  return x[1]\n",
        "# or:\n",
        "# get_y_func = ColReader('target')"
      ],
      "execution_count": null,
      "outputs": []
    },
    {
      "cell_type": "code",
      "metadata": {
        "id": "E0AiqGATQHsU"
      },
      "source": [
        "# since Colorspace not in RGB use customized PILDicom\n",
        "class PILDicom2(PILBase):\n",
        "    _open_args,_tensor_cls,_show_args = {},TensorDicom,TensorDicom._show_args\n",
        "    @classmethod\n",
        "    def create(cls, fn:(Path,str,bytes), mode=None)->None:\n",
        "        \"Open a `DICOM file` from path `fn` or bytes `fn` and load it as a `PIL Image`\"\n",
        "        dimg = pydicom.dcmread(fn) \n",
        "        # if DICOM file read error in train persists\n",
        "        # use .dcmread(force=True)\n",
        "        arr = dimg.pixel_array; \n",
        "        convert = convert_color_space(arr,'YBR_FULL_422', 'RGB')\n",
        "        im = Image.fromarray(convert)\n",
        "        im.load()\n",
        "        im = im._new(im.im)\n",
        "        return cls(im.convert(mode) if mode else im)\n"
      ],
      "execution_count": null,
      "outputs": []
    },
    {
      "cell_type": "code",
      "metadata": {
        "id": "CpYBzxc8QHsU"
      },
      "source": [
        "#check which transforms available, choose appropriate\n",
        "# aug_transforms()"
      ],
      "execution_count": null,
      "outputs": []
    },
    {
      "cell_type": "code",
      "metadata": {
        "id": "Wy3836U7QHsV"
      },
      "source": [
        "# 1x ImageBlock and 1 CategoryBlock for Labels\n",
        "blocks = (ImageBlock(cls=PILDicom2), CategoryBlock)"
      ],
      "execution_count": null,
      "outputs": []
    },
    {
      "cell_type": "code",
      "metadata": {
        "id": "-vcZyaiAQHsV"
      },
      "source": [
        "melanoma_dblock = DataBlock(blocks = blocks,\n",
        "                    get_x = get_x_func,\n",
        "                    get_y = get_y_func,\n",
        "                    splitter = RandomSplitter(),\n",
        "                    item_tfms = Resize(224),\n",
        "                    batch_tfms=[Normalize.from_stats(*imagenet_stats), \n",
        "                                *aug_transforms(flip_vert=True, max_lighting=0.1)]\n",
        "                            # , max_zoom=1.05, max_warp=0. \n",
        "                    )"
      ],
      "execution_count": null,
      "outputs": []
    },
    {
      "cell_type": "code",
      "metadata": {
        "id": "i77zhhLNV6oU"
      },
      "source": [
        "# split df for training batches\n",
        "df1 = df.sample(frac=0.3, random_state=random_seed)\n",
        "tmp_df = df.drop(df1.index)\n",
        "df2 = tmp_df.sample(frac=0.5, random_state=random_seed)\n",
        "df3 = tmp_df.drop(df2.index)\n",
        "\n",
        "assert len(df) == len(df1) + len(df2) + len(df3), \"Dataset sizes don't add up\"\n",
        "del tmp_df"
      ],
      "execution_count": null,
      "outputs": []
    },
    {
      "cell_type": "code",
      "metadata": {
        "id": "jJQaj8gUQHsW"
      },
      "source": [
        "# dataloader with only 5000 samples for testing so that faster training\n",
        "dls = melanoma_dblock.dataloaders(df1, bs=64)\n",
        "dls"
      ],
      "execution_count": null,
      "outputs": []
    },
    {
      "cell_type": "code",
      "metadata": {
        "id": "Jelia9NBQHsW"
      },
      "source": [
        "dls = dls.cuda()\n",
        "dls"
      ],
      "execution_count": null,
      "outputs": []
    },
    {
      "cell_type": "code",
      "metadata": {
        "id": "KE45JcIIZBEP"
      },
      "source": [
        "print(len(dls.train_ds), len(dls.valid_ds))"
      ],
      "execution_count": null,
      "outputs": []
    },
    {
      "cell_type": "code",
      "metadata": {
        "id": "1vvyhbY4QHsX"
      },
      "source": [
        "# dls.show_batch(max_n = 10, nrows=3, ncols=4)"
      ],
      "execution_count": null,
      "outputs": []
    },
    {
      "cell_type": "code",
      "metadata": {
        "id": "dIzok_lRQHsY"
      },
      "source": [
        "# check batch\n",
        "# xb, yb = dls.one_batch()\n",
        "# print(f'Input shape: {xb.shape}, target shape: {yb.shape}.')"
      ],
      "execution_count": null,
      "outputs": []
    },
    {
      "cell_type": "markdown",
      "metadata": {
        "id": "F669Ko6kQHsZ"
      },
      "source": [
        "## 3. Pytorch DenseNet121 Model\n",
        "\n",
        "- \n"
      ]
    },
    {
      "cell_type": "markdown",
      "metadata": {
        "id": "GfhHAH65EDas"
      },
      "source": [
        "### 3.1 Create Model"
      ]
    },
    {
      "cell_type": "code",
      "metadata": {
        "id": "p_wMtSOHQHsZ"
      },
      "source": [
        "# FASTAI V1 - not tested for fastai V2\n",
        "###########################\n",
        "\n",
        "from sklearn.metrics import roc_auc_score\n",
        "\n",
        "def get_auc_score(y_true, y_pred, tens = True):\n",
        "    score = roc_auc_score(y_true, torch.sigmoid(y_pred)[:,1])\n",
        "    if tens:\n",
        "        score = tensor(score)\n",
        "    return score\n",
        "\n",
        "def auroc_score(input, target):\n",
        "    input, target = input.cpu().numpy()[:,1], target.cpu().numpy()\n",
        "    return roc_auc_score(target, input)\n",
        "\n",
        "# from: https://forums.fast.ai/t/using-auc-as-metric-in-fastai/38917/7\n",
        "class AUROC(Callback):\n",
        "    _order = -20 #Needs to run before the recorder\n",
        "\n",
        "    def __init__(self, learn, **kwargs): self.learn = learn\n",
        "    def on_train_begin(self, **kwargs): self.learn.recorder.add_metric_names(['AUROC'])\n",
        "    def on_epoch_begin(self, **kwargs): self.output, self.target = [], []\n",
        "    \n",
        "    def on_batch_end(self, last_target, last_output, train, **kwargs):\n",
        "        if not train:\n",
        "            self.output.append(last_output)\n",
        "            self.target.append(last_target)\n",
        "                \n",
        "    def on_epoch_end(self, last_target, last_output, **kwargs):\n",
        "        if len(self.output) > 0:\n",
        "            output = torch.cat(self.output)\n",
        "            target = torch.cat(self.target)\n",
        "            preds = F.softmax(output, dim=1)\n",
        "            metric = auroc_score(preds, target)\n",
        "            self.learn.recorder.add_metrics([metric])\n",
        "    \n",
        "#     use in : learn = text_classifier_learner(data_clf, drop_mult=0.3, callback_fns=AUROC)"
      ],
      "execution_count": null,
      "outputs": []
    },
    {
      "cell_type": "code",
      "metadata": {
        "id": "vdac30FKQHsa"
      },
      "source": [
        "# model (small first, n_outputs define with dataloaders.c attribute)\n",
        "# model = models.xresnet18_deep(n_out = dls.c)\n",
        "model1 = models.resnet34\n",
        "model2 = models.densenet121\n",
        "\n",
        "# metrics\n",
        "# roc = RocAuc()\n",
        "# acc_02 = partial(accuracy_thresh, thresh=0.2)\n",
        "# f_score = partial(fbeta, thresh=0.2)\n",
        "\n",
        "acc = accuracy\n",
        "metrics = [acc]\n",
        "learn = cnn_learner(dls, \n",
        "                     model2, \n",
        "                     metrics= metrics, \n",
        "                     loss_func= LabelSmoothingCrossEntropy(), \n",
        "                    ps=0.25,\n",
        "                    model_dir='/content/gdrive/MyDrive/Colab Notebooks/kaggle/melanoma/models',\n",
        "                     cbs = ShowGraphCallback(),\n",
        "                     )\n"
      ],
      "execution_count": null,
      "outputs": []
    },
    {
      "cell_type": "code",
      "metadata": {
        "id": "JvN99FLfQizc"
      },
      "source": [
        "learn.arch"
      ],
      "execution_count": null,
      "outputs": []
    },
    {
      "cell_type": "code",
      "metadata": {
        "id": "HPntNFs-jRxL"
      },
      "source": [
        "# if GPU enabled:\n",
        "if torch.cuda.is_available():\n",
        "    learn.model.cuda()"
      ],
      "execution_count": null,
      "outputs": []
    },
    {
      "cell_type": "code",
      "metadata": {
        "id": "I0tdIkjEiiLF"
      },
      "source": [
        "# defince Callbacks\n",
        "earlyStop = EarlyStoppingCallback(monitor='valid_loss', \n",
        "                                  min_delta=0.1, \n",
        "                                  patience=2)\n",
        "saveModel = SaveModelCallback(every_epoch=True, \n",
        "                              fname='melanoma_DICOM_resnet34')\n",
        "reduceLR = ReduceLROnPlateau(monitor='valid_loss', comp=None, \n",
        "                             min_delta=0.0, patience=1, factor=10.0, \n",
        "                             min_lr=0, reset_on_fit=True)\n",
        "callbacks =[earlyStop, reduceLR, saveModel]"
      ],
      "execution_count": null,
      "outputs": []
    },
    {
      "cell_type": "markdown",
      "metadata": {
        "id": "QNAt-nN--6lr"
      },
      "source": [
        "### 3.2. train model"
      ]
    },
    {
      "cell_type": "markdown",
      "metadata": {
        "id": "rWpI2Hofh6rL"
      },
      "source": [
        "20.04.2021:\n",
        "\n",
        "In \"Manage Session\" GPU only UTC-8 16:001.45GB / 21:00 1.69GB Used - \n",
        "always with batch_tfms=[Normalize.from_stats(*imagenet_stats), *aug_transforms(flip_vert=True, max_lighting=0.1, max_zoom=1.05, max_warp=0.)]\n",
        "\n",
        "1. densenet121with df.sample(100), bs=10, item_tfms=Resize(64)\n",
        "- lr_find() : 30min / fit_one_cycle: 3min\n",
        "2. with df (11.000 dicom files), bs=32, item_tfms=Resize(64)\n",
        "- lr_find() : 4hr / fit_one_cycle: 3.5 hr both estimations not executed - same with bs=8\n",
        "3. with df (full aka 500 dicom files), bs=32, item_tfms=Resize(64)\n",
        "- lr_find() : 1.5hr / fit_one_cycle: 1.5 hr both estimations not executed\n",
        "4. resnet34, df=5000, bs=32, aug_transforms(flip_vert=True, max_lighting=0.1) Items_tfmsResize(64)"
      ]
    },
    {
      "cell_type": "markdown",
      "metadata": {
        "id": "5t9eEiaFA6o9"
      },
      "source": [
        "### 3.2.1 First run"
      ]
    },
    {
      "cell_type": "code",
      "metadata": {
        "colab": {
          "base_uri": "https://localhost:8080/",
          "height": 355
        },
        "id": "TyF4Sk9eQHsc",
        "outputId": "b6afea92-5cb1-4d59-d6c7-1a833b63aff1"
      },
      "source": [
        "# learn.fit_one_cycle(2)"
      ],
      "execution_count": null,
      "outputs": [
        {
          "output_type": "display_data",
          "data": {
            "text/html": [
              "<table border=\"1\" class=\"dataframe\">\n",
              "  <thead>\n",
              "    <tr style=\"text-align: left;\">\n",
              "      <th>epoch</th>\n",
              "      <th>train_loss</th>\n",
              "      <th>valid_loss</th>\n",
              "      <th>accuracy</th>\n",
              "      <th>time</th>\n",
              "    </tr>\n",
              "  </thead>\n",
              "  <tbody>\n",
              "    <tr>\n",
              "      <td>0</td>\n",
              "      <td>1.028180</td>\n",
              "      <td>0.792630</td>\n",
              "      <td>0.537500</td>\n",
              "      <td>51:50</td>\n",
              "    </tr>\n",
              "    <tr>\n",
              "      <td>1</td>\n",
              "      <td>0.859702</td>\n",
              "      <td>0.617933</td>\n",
              "      <td>0.690000</td>\n",
              "      <td>46:47</td>\n",
              "    </tr>\n",
              "  </tbody>\n",
              "</table>"
            ],
            "text/plain": [
              "<IPython.core.display.HTML object>"
            ]
          },
          "metadata": {
            "tags": []
          }
        },
        {
          "output_type": "display_data",
          "data": {
            "image/png": "[encoded data removed]",
            "text/plain": [
              "<Figure size 432x288 with 1 Axes>"
            ]
          },
          "metadata": {
            "tags": []
          }
        }
      ]
    },
    {
      "cell_type": "code",
      "metadata": {
        "colab": {
          "base_uri": "https://localhost:8080/"
        },
        "id": "u-LhKp2WQHsc",
        "outputId": "08b881f9-4ba2-4d34-b3f0-5c410d55c3bf"
      },
      "source": [
        "# learn.save('melanoma-DICOM-densenet121-stage1')"
      ],
      "execution_count": null,
      "outputs": [
        {
          "output_type": "execute_result",
          "data": {
            "text/plain": [
              "Path('/content/gdrive/MyDrive/Colab Notebooks/kaggle/melanoma/models/melanoma-DICOM-densenet121-stage1.pth')"
            ]
          },
          "metadata": {
            "tags": []
          },
          "execution_count": 46
        }
      ]
    },
    {
      "cell_type": "code",
      "metadata": {
        "id": "lsws5YauQHsc"
      },
      "source": [
        "# make the rest of the layers trainable\n",
        "learn.unfreeze()"
      ],
      "execution_count": null,
      "outputs": []
    },
    {
      "cell_type": "code",
      "metadata": {
        "colab": {
          "base_uri": "https://localhost:8080/",
          "height": 799
        },
        "id": "PNb8FGktQHsd",
        "outputId": "f74aaf64-19ad-44c3-d969-1c87b17af1e3"
      },
      "source": [
        "learn.fit_one_cycle(4, cbs=[SaveModelCallback(every_epoch=True, fname='melanoma_DICOM_densenet121_stage1',\n",
        "                                              ])\n",
        ")"
      ],
      "execution_count": null,
      "outputs": [
        {
          "output_type": "display_data",
          "data": {
            "text/html": [
              "\n",
              "    <div>\n",
              "        <style>\n",
              "            /* Turns off some styling */\n",
              "            progress {\n",
              "                /* gets rid of default border in Firefox and Opera. */\n",
              "                border: none;\n",
              "                /* Needs to be in here for Safari polyfill so background images work as expected. */\n",
              "                background-size: auto;\n",
              "            }\n",
              "            .progress-bar-interrupted, .progress-bar-interrupted::-webkit-progress-bar {\n",
              "                background: #F44336;\n",
              "            }\n",
              "        </style>\n",
              "      <progress value='2' class='' max='4' style='width:300px; height:20px; vertical-align: middle;'></progress>\n",
              "      50.00% [2/4 1:34:29<1:34:29]\n",
              "    </div>\n",
              "    \n",
              "<table border=\"1\" class=\"dataframe\">\n",
              "  <thead>\n",
              "    <tr style=\"text-align: left;\">\n",
              "      <th>epoch</th>\n",
              "      <th>train_loss</th>\n",
              "      <th>valid_loss</th>\n",
              "      <th>accuracy</th>\n",
              "      <th>time</th>\n",
              "    </tr>\n",
              "  </thead>\n",
              "  <tbody>\n",
              "    <tr>\n",
              "      <td>0</td>\n",
              "      <td>0.675704</td>\n",
              "      <td>0.367537</td>\n",
              "      <td>0.935000</td>\n",
              "      <td>47:07</td>\n",
              "    </tr>\n",
              "    <tr>\n",
              "      <td>1</td>\n",
              "      <td>0.541942</td>\n",
              "      <td>0.312557</td>\n",
              "      <td>0.987500</td>\n",
              "      <td>47:20</td>\n",
              "    </tr>\n",
              "  </tbody>\n",
              "</table><p>\n",
              "\n",
              "    <div>\n",
              "        <style>\n",
              "            /* Turns off some styling */\n",
              "            progress {\n",
              "                /* gets rid of default border in Firefox and Opera. */\n",
              "                border: none;\n",
              "                /* Needs to be in here for Safari polyfill so background images work as expected. */\n",
              "                background-size: auto;\n",
              "            }\n",
              "            .progress-bar-interrupted, .progress-bar-interrupted::-webkit-progress-bar {\n",
              "                background: #F44336;\n",
              "            }\n",
              "        </style>\n",
              "      <progress value='2' class='' max='7' style='width:300px; height:20px; vertical-align: middle;'></progress>\n",
              "      28.57% [2/7 02:48<07:00 0.4468]\n",
              "    </div>\n",
              "    "
            ],
            "text/plain": [
              "<IPython.core.display.HTML object>"
            ]
          },
          "metadata": {
            "tags": []
          }
        },
        {
          "output_type": "display_data",
          "data": {
            "image/png": "[encoded data removed]",
            "text/plain": [
              "<Figure size 432x288 with 1 Axes>"
            ]
          },
          "metadata": {
            "tags": []
          }
        },
        {
          "output_type": "display_data",
          "data": {
            "text/html": [
              "<table border=\"1\" class=\"dataframe\">\n",
              "  <thead>\n",
              "    <tr style=\"text-align: left;\">\n",
              "      <th>epoch</th>\n",
              "      <th>train_loss</th>\n",
              "      <th>valid_loss</th>\n",
              "      <th>accuracy</th>\n",
              "      <th>time</th>\n",
              "    </tr>\n",
              "  </thead>\n",
              "  <tbody>\n",
              "    <tr>\n",
              "      <td>0</td>\n",
              "      <td>0.675704</td>\n",
              "      <td>0.367537</td>\n",
              "      <td>0.935000</td>\n",
              "      <td>47:07</td>\n",
              "    </tr>\n",
              "    <tr>\n",
              "      <td>1</td>\n",
              "      <td>0.541942</td>\n",
              "      <td>0.312557</td>\n",
              "      <td>0.987500</td>\n",
              "      <td>47:20</td>\n",
              "    </tr>\n",
              "    <tr>\n",
              "      <td>2</td>\n",
              "      <td>0.446787</td>\n",
              "      <td>0.277393</td>\n",
              "      <td>0.990000</td>\n",
              "      <td>46:57</td>\n",
              "    </tr>\n",
              "    <tr>\n",
              "      <td>3</td>\n",
              "      <td>0.383028</td>\n",
              "      <td>0.266376</td>\n",
              "      <td>0.990000</td>\n",
              "      <td>46:56</td>\n",
              "    </tr>\n",
              "  </tbody>\n",
              "</table>"
            ],
            "text/plain": [
              "<IPython.core.display.HTML object>"
            ]
          },
          "metadata": {
            "tags": []
          }
        },
        {
          "output_type": "display_data",
          "data": {
            "image/png": "[encoded data removed]",
            "text/plain": [
              "<Figure size 432x288 with 1 Axes>"
            ]
          },
          "metadata": {
            "tags": []
          }
        }
      ]
    },
    {
      "cell_type": "code",
      "metadata": {
        "id": "eRp1jvSxpcA7"
      },
      "source": [
        "from google.colab import drive\n",
        "drive.mount('/content/drive')"
      ],
      "execution_count": null,
      "outputs": []
    },
    {
      "cell_type": "code",
      "metadata": {
        "id": "gy05KdP-QHse"
      },
      "source": [
        "# learn.save('melanoma-DICOM-densenet121-stage1')"
      ],
      "execution_count": null,
      "outputs": []
    },
    {
      "cell_type": "markdown",
      "metadata": {
        "id": "wVmSFVkDBKgZ"
      },
      "source": [
        "### 3.2.2 Second Train Phase"
      ]
    },
    {
      "cell_type": "code",
      "metadata": {
        "id": "508LJvHgBEuv"
      },
      "source": [
        "# learn.load('/content/gdrive/MyDrive/Colab Notebooks/kaggle/melanoma/models/melanoma-DICOM-densenet121-sta')"
      ],
      "execution_count": null,
      "outputs": []
    },
    {
      "cell_type": "code",
      "metadata": {
        "id": "Q04SQKX3BbRz"
      },
      "source": [
        "## add more images with bigger img size to dls\n",
        "\n",
        "melanoma_dblock2 = DataBlock(blocks = blocks,\n",
        "                    get_x = get_x_func,\n",
        "                    get_y = get_y_func,\n",
        "                    splitter = RandomSplitter(),\n",
        "                    item_tfms = Resize(224),\n",
        "                    batch_tfms=[Normalize.from_stats(*imagenet_stats), \n",
        "                                *aug_transforms(flip_vert=True, max_lighting=0.1)]\n",
        "                    )\n",
        "\n",
        "dls2 = melanoma_dblock2.dataloaders(df.sample(5000), bs= 32)\n",
        "dls2 = dls2.cuda()\n",
        "learn.dls = dls2"
      ],
      "execution_count": null,
      "outputs": []
    },
    {
      "cell_type": "code",
      "metadata": {
        "id": "S4znX6P-C4TH"
      },
      "source": [
        "print(len(learn.dls.train_ds))\n",
        "dls.train_ds[0][0].shape"
      ],
      "execution_count": null,
      "outputs": []
    },
    {
      "cell_type": "code",
      "metadata": {
        "id": "4BP724lcQEOc"
      },
      "source": [
        "learn.freeze()"
      ],
      "execution_count": null,
      "outputs": []
    },
    {
      "cell_type": "code",
      "metadata": {
        "id": "lqwRslddOqrV"
      },
      "source": [
        "# learn.lr_find()"
      ],
      "execution_count": null,
      "outputs": []
    },
    {
      "cell_type": "code",
      "metadata": {
        "id": "_ol8dnRADGxY"
      },
      "source": [
        "learn.fit_one_cycle(n_epoch=4, \n",
        "                    cbs = callbacks,\n",
        "                    # cbs=[SaveModelCallback(every_epoch=True, \n",
        "                    #                       fname='melanoma_DICOM_densenet121_stage2'),\n",
        "                    #      EarlyStoppingCallback(monitor='valid_loss', \n",
        "                    #               min_delta=0.1, \n",
        "                    #               patience=2)]\n",
        "                    )"
      ],
      "execution_count": null,
      "outputs": []
    },
    {
      "cell_type": "code",
      "metadata": {
        "id": "MH-717TlSzh_"
      },
      "source": [
        "learn.save('melanoma_DICOM_densenet121_stage2_best')"
      ],
      "execution_count": null,
      "outputs": []
    },
    {
      "cell_type": "code",
      "metadata": {
        "id": "W7p-GPrQSaTO"
      },
      "source": [
        "learn.unfreeze()"
      ],
      "execution_count": null,
      "outputs": []
    },
    {
      "cell_type": "code",
      "metadata": {
        "id": "pJX2-X6KSfJi"
      },
      "source": [
        "# learn.lr_find()"
      ],
      "execution_count": null,
      "outputs": []
    },
    {
      "cell_type": "code",
      "metadata": {
        "id": "qBS2MmbLShgw"
      },
      "source": [
        "learn.fit_one_cycle(n_epoch=3,\n",
        "                    cbs=[SaveModelCallback(every_epoch=True, \n",
        "                                          fname='melanoma_DICOM_densenet121_stage2'),\n",
        "                         EarlyStoppingCallback(monitor='valid_loss', \n",
        "                                  min_delta=0.1, \n",
        "                                  patience=2)]\n",
        "                    )"
      ],
      "execution_count": null,
      "outputs": []
    },
    {
      "cell_type": "code",
      "metadata": {
        "id": "zTcuqZFAS4kj"
      },
      "source": [
        "learn.save('melanoma_DICOM_densenet121_stage3')"
      ],
      "execution_count": null,
      "outputs": []
    },
    {
      "cell_type": "code",
      "metadata": {
        "id": "4TaXiMQtSc55"
      },
      "source": [
        "learn.export('/content/gdrive/MyDrive/Colab Notebooks/kaggle/melanoma/models/melanoma_DICOM_densenet121_stage3_best')"
      ],
      "execution_count": null,
      "outputs": []
    },
    {
      "cell_type": "markdown",
      "metadata": {
        "id": "2aUFStoS9qH2"
      },
      "source": [
        "### 3.3 Fine Tuning"
      ]
    },
    {
      "cell_type": "code",
      "metadata": {
        "id": "QSPjSEQeuFH8"
      },
      "source": [
        "# learn.load('')"
      ],
      "execution_count": null,
      "outputs": []
    },
    {
      "cell_type": "code",
      "metadata": {
        "id": "v_sWUxVCEXbN"
      },
      "source": [
        "# clean cache and free up GPU\n",
        "# import gc\n",
        "# gc.collect()\n",
        "# torch.cuda.empty_cache()"
      ],
      "execution_count": null,
      "outputs": []
    },
    {
      "cell_type": "code",
      "metadata": {
        "id": "_tcYMVgnTI_q"
      },
      "source": [
        "learn.freeze()"
      ],
      "execution_count": null,
      "outputs": []
    },
    {
      "cell_type": "code",
      "metadata": {
        "id": "C3zsIyVBTLhD"
      },
      "source": [
        "# learn.lr_find()"
      ],
      "execution_count": null,
      "outputs": []
    },
    {
      "cell_type": "code",
      "metadata": {
        "id": "GmzsTeLETNxL"
      },
      "source": [
        "learn.fit_one_cycle(n_epoch=2, \n",
        "                    cbs=[SaveModelCallback(every_epoch=True, \n",
        "                                          fname='melanoma_DICOM_densenet121_stage5'),\n",
        "                         EarlyStoppingCallback(monitor='valid_loss', \n",
        "                                  min_delta=0.1, \n",
        "                                  patience=2)]\n",
        "                    )"
      ],
      "execution_count": null,
      "outputs": []
    },
    {
      "cell_type": "code",
      "metadata": {
        "id": "_ZOnoeGBTcI0"
      },
      "source": [
        "learn.unfreeze()"
      ],
      "execution_count": null,
      "outputs": []
    },
    {
      "cell_type": "code",
      "metadata": {
        "id": "oSi8QdheEq8Y"
      },
      "source": [
        "learn.fine_tune(2)"
      ],
      "execution_count": null,
      "outputs": []
    },
    {
      "cell_type": "code",
      "metadata": {
        "id": "YjX7NufMQHsf"
      },
      "source": [
        "learn.save('melanoma-DICOM-densenet121-final')"
      ],
      "execution_count": null,
      "outputs": []
    },
    {
      "cell_type": "code",
      "metadata": {
        "id": "k9qCXUFRTgAP"
      },
      "source": [
        "learn.export(fname='/content/gdrive/MyDrive/Colab Notebooks/kaggle/melanoma/models/Melanoma_DICOM_densenet121_final')"
      ],
      "execution_count": null,
      "outputs": []
    },
    {
      "cell_type": "markdown",
      "metadata": {
        "id": "evEKnTFpQHsg"
      },
      "source": [
        "## 4. Results"
      ]
    },
    {
      "cell_type": "code",
      "metadata": {
        "id": "wZ4sf2OOQHsg"
      },
      "source": [
        "# test with one img\n",
        "# test = os.listdir(dicom_path)[10]\n",
        "test = train_files[10]\n",
        "learn.predict(test)"
      ],
      "execution_count": null,
      "outputs": []
    },
    {
      "cell_type": "code",
      "metadata": {
        "id": "O13JY6k9_cN9"
      },
      "source": [
        "learn.show_results(max_n=6)"
      ],
      "execution_count": null,
      "outputs": []
    },
    {
      "cell_type": "code",
      "metadata": {
        "id": "RojvQbJbQHsg"
      },
      "source": [
        "interp = Interpretation.from_learner(learn)"
      ],
      "execution_count": null,
      "outputs": []
    },
    {
      "cell_type": "code",
      "metadata": {
        "id": "U3Jq7Rx3QHsh"
      },
      "source": [
        "interp.plot_top_losses(12)"
      ],
      "execution_count": null,
      "outputs": []
    },
    {
      "cell_type": "code",
      "metadata": {
        "id": "G0YXc175fucZ"
      },
      "source": [
        "# Confusion Matrix\n",
        "\n",
        "int_confusion = ClassificationInterpretation.from_learner(learn)\n",
        "\n",
        "losses, idxs = int_confusion.top_losses()\n",
        "len(dls.valid_ds)==len(losses)==len(idxs)\n",
        "int_confusion.plot_confusion_matrix(figsize=(8,8))"
      ],
      "execution_count": null,
      "outputs": []
    },
    {
      "cell_type": "code",
      "metadata": {
        "id": "3fA6gV2Cg1_9"
      },
      "source": [
        "# Sensitivity and Specificity\n",
        "\n",
        "upp, low = int_confusion.confusion_matrix()\n",
        "tn, fp = upp[0], upp[1]\n",
        "fn, tp = low[0], low[1]\n",
        "print(tn, fp, fn, tp)\n",
        "\n",
        "sensitivity = tp/(tp + fn)\n",
        "print(f'Sensitivity is : {sensitivity}')\n",
        "\n",
        "specificity = tn /(tn + fp)\n",
        "print(f'Sepcificity is : {specificity}')"
      ],
      "execution_count": null,
      "outputs": []
    },
    {
      "cell_type": "markdown",
      "metadata": {
        "id": "K8jFKiwNQHsh"
      },
      "source": [
        "## 4.2 Results on test set and submission\n",
        "\n"
      ]
    },
    {
      "cell_type": "code",
      "metadata": {
        "id": "Y6lee79vQHsi"
      },
      "source": [
        "# get the test files\n",
        "\n",
        "test_path = path/'test'\n",
        "test_img = get_dicom_files(test_path)\n",
        "\n",
        "# for testing purpose only firs 100 instances\n",
        "\n",
        "test_set = test_img[:100]"
      ],
      "execution_count": null,
      "outputs": []
    },
    {
      "cell_type": "code",
      "metadata": {
        "id": "MYJI7Om2QHsj"
      },
      "source": [
        "## 4.3 create submission file\n",
        "\n",
        "sample_df = pd.read_csv('sample_submission.csv')\n",
        "\n",
        "# delete entries in target col since place for predictions\n",
        "del sample_df['target']\n",
        "\n",
        "# get predictions for sample_df\n",
        "\n",
        "sample_list = []\n",
        "\n",
        "for i in test_set:\n",
        "    pred = learn.predict(i)\n",
        "    pred_class = pred[2][1] # need convert to float() ?\n",
        "    sample_list.append(pred_class)\n",
        "    \n"
      ],
      "execution_count": null,
      "outputs": []
    },
    {
      "cell_type": "code",
      "metadata": {
        "id": "Wo3pxAFRQHsj"
      },
      "source": [
        "results_df = pd.DataFrame({'image_name': sample_df['image_name'], 'target': sample_list })\n",
        "\n",
        "results_df.head()"
      ],
      "execution_count": null,
      "outputs": []
    },
    {
      "cell_type": "code",
      "metadata": {
        "id": "JkcMW2aPQHsj"
      },
      "source": [
        "results_df.to_csv('submission.csv', index= False)"
      ],
      "execution_count": null,
      "outputs": []
    },
    {
      "cell_type": "markdown",
      "metadata": {
        "id": "hv0j0lB-R_dP"
      },
      "source": [
        "# Notes\n",
        "\n",
        "### Option 1: DICOM files\n",
        "#### 2021\n",
        "* Version 5: \n",
        "- adding roc_auc to metrics\n",
        "- import gc for performance\n",
        "- speed up training with num_workers=4 (dataloaders)\n",
        "\n",
        "* 30.03.2021: no GPU Supoort for fastaiV2, training super long\n",
        "* 02.04.2021: move to colab\n",
        "\n",
        "#### 2020\n",
        "* 29.06.2020: NEW Notebook in GDrive w Colab\n",
        "* 30.06.2020\n",
        "    - switcht to Kaggle since dataset to big for gDrive\n",
        "    - lr_find 2.5hours -> image Resize 128 -> 64 / bs 32 -> 16, sample 100 -> 50\n",
        "\n",
        "DICOM Files Start\n",
        "https://www.kaggle.com/avirdee/fastai2-dicom-starter/notebook\n",
        "\n",
        "### Option 2: with JPEG (see colab)\n",
        "\n",
        "\n",
        "### Option 3: different tfrecord dataset (in various size available)\n",
        "https://www.kaggle.com/cdeotte/melanoma-256x256\n",
        "\n"
      ]
    },
    {
      "cell_type": "code",
      "metadata": {
        "id": "d4tsHv53SBsX"
      },
      "source": [
        ""
      ],
      "execution_count": null,
      "outputs": []
    }
  ]
}