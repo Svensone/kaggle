{
  "nbformat": 4,
  "nbformat_minor": 0,
  "metadata": {
    "accelerator": "GPU",
    "colab": {
      "name": "2021.04.05- [fastai1] Kaggle Bulldozer Regression.ipynb",
      "provenance": [],
      "collapsed_sections": []
    },
    "kernelspec": {
      "display_name": "Python 3",
      "name": "python3"
    }
  },
  "cells": [
    {
      "cell_type": "markdown",
      "metadata": {
        "id": "onPQXsgmT9KE"
      },
      "source": [
        "# Project\n",
        "\n",
        "1. Setup\n",
        "2. Data\n",
        "3. Model\n",
        "4. Inference\n",
        "5. Submission"
      ]
    },
    {
      "cell_type": "code",
      "metadata": {
        "id": "KVUWIMTCSkXX"
      },
      "source": [
        "# Setup\n",
        "\n",
        "%reload_ext autoreload\n",
        "%autoreload 2\n",
        "%matplotlib inline\n",
        "\n",
        "# import necessary libaries\n",
        "\n",
        "from fastai import *\n",
        "from fastai.tabular import *\n",
        "\n",
        "# ignore warnings\n",
        "import warnings\n",
        "warnings.filterwarnings('ignore')"
      ],
      "execution_count": 2,
      "outputs": []
    },
    {
      "cell_type": "code",
      "metadata": {
        "id": "sFSoMS2_VwuG"
      },
      "source": [
        "# basic bash & create folder structure for Project\n",
        "\n",
        "# !mkdir abc\n",
        "# !echo \"file\" > abc/123.txt\n",
        "\n",
        "# import os\n",
        "# os.chdir('abc')\n",
        "\n",
        "# # Now the directory 'abc' is the current working directory.\n",
        "# # and will show 123.txt.\n",
        "# !ls\n",
        "\n",
        "# #change working directory\n",
        "# %cd folder/folder\n",
        "\n",
        "# # check \n",
        "# !pwd"
      ],
      "execution_count": 3,
      "outputs": []
    },
    {
      "cell_type": "code",
      "metadata": {
        "id": "iAVh1fBYSvT8"
      },
      "source": [
        "# connect to kaggle\n",
        "\n",
        "# from google.colab import files\n",
        "# files.upload()\n",
        "\n",
        "# !mkdir -p ~/.kaggle\n",
        "# !cp kaggle.json ~/.kaggle/\n",
        "\n",
        "# # !pip install kaggle\n",
        "# !chmod 600 /root/.kaggle/kaggle.json"
      ],
      "execution_count": 4,
      "outputs": []
    },
    {
      "cell_type": "markdown",
      "metadata": {
        "id": "GviWm0QjUJ5B"
      },
      "source": [
        "## 2. Data"
      ]
    },
    {
      "cell_type": "code",
      "metadata": {
        "id": "-p3jisakTBaV"
      },
      "source": [
        "#list \n",
        "\n",
        "# list and download kaggle dataset\n",
        "# ! kaggle competitions list -s bluebook\n",
        "# ! kaggle competitions download -c 'name of data' -f 'train-jpg.tar.7z' -p {path where to download}\n",
        "\n",
        "#download data\n",
        "# !kaggle competitions download -c bluebook-for-bulldozers -p 'drive/My Drive/Colab Notebooks/kaggle/Bulldozer'\n"
      ],
      "execution_count": 5,
      "outputs": []
    },
    {
      "cell_type": "code",
      "metadata": {
        "id": "aAHW3N446w9L"
      },
      "source": [
        "path = Path('/content/drive/My Drive/Colab Notebooks/kaggle/Bulldozer')\n"
      ],
      "execution_count": 6,
      "outputs": []
    },
    {
      "cell_type": "code",
      "metadata": {
        "colab": {
          "base_uri": "https://localhost:8080/"
        },
        "id": "nC7p-Vlc6vLh",
        "outputId": "14d40e06-c1f4-4d58-f573-87850c7ee657"
      },
      "source": [
        "path.ls()"
      ],
      "execution_count": 7,
      "outputs": [
        {
          "output_type": "execute_result",
          "data": {
            "text/plain": [
              "[PosixPath('/content/drive/My Drive/Colab Notebooks/kaggle/Bulldozer/Data%20Dictionary.xlsx'),\n",
              " PosixPath('/content/drive/My Drive/Colab Notebooks/kaggle/Bulldozer/TrainAndValid.csv.zip'),\n",
              " PosixPath('/content/drive/My Drive/Colab Notebooks/kaggle/Bulldozer/ValidSolution.csv'),\n",
              " PosixPath('/content/drive/My Drive/Colab Notebooks/kaggle/Bulldozer/Test.csv.zip'),\n",
              " PosixPath('/content/drive/My Drive/Colab Notebooks/kaggle/Bulldozer/Train.zip'),\n",
              " PosixPath('/content/drive/My Drive/Colab Notebooks/kaggle/Bulldozer/Machine_Appendix.csv.zip'),\n",
              " PosixPath('/content/drive/My Drive/Colab Notebooks/kaggle/Bulldozer/Valid.csv.zip'),\n",
              " PosixPath('/content/drive/My Drive/Colab Notebooks/kaggle/Bulldozer/TrainAndValid.7z'),\n",
              " PosixPath('/content/drive/My Drive/Colab Notebooks/kaggle/Bulldozer/median_benchmark.csv'),\n",
              " PosixPath('/content/drive/My Drive/Colab Notebooks/kaggle/Bulldozer/Valid.7z'),\n",
              " PosixPath('/content/drive/My Drive/Colab Notebooks/kaggle/Bulldozer/Train.7z'),\n",
              " PosixPath('/content/drive/My Drive/Colab Notebooks/kaggle/Bulldozer/Valid.zip'),\n",
              " PosixPath('/content/drive/My Drive/Colab Notebooks/kaggle/Bulldozer/TrainAndValid.zip'),\n",
              " PosixPath('/content/drive/My Drive/Colab Notebooks/kaggle/Bulldozer/random_forest_benchmark_test.csv'),\n",
              " PosixPath('/content/drive/My Drive/Colab Notebooks/kaggle/Bulldozer/Train'),\n",
              " PosixPath('/content/drive/My Drive/Colab Notebooks/kaggle/Bulldozer/models'),\n",
              " PosixPath('/content/drive/My Drive/Colab Notebooks/kaggle/Bulldozer/2021.04.05- [fastai] Kaggle Bulldozer Regression.ipynb')]"
            ]
          },
          "metadata": {
            "tags": []
          },
          "execution_count": 7
        }
      ]
    },
    {
      "cell_type": "code",
      "metadata": {
        "id": "10ycB1Nv9mc3"
      },
      "source": [
        "train_df = pd.read_csv(path/'Train/Train.csv', low_memory=False, parse_dates=['saledate'])\n",
        "\n",
        "test_df = pd.read_csv(path/'Test.csv.zip', low_memory = False, parse_dates=['saledate'])\n",
        "\n",
        "valid_df = pd.read_csv(path/'Valid.csv.zip', low_memory= False, parse_dates=['saledate'])"
      ],
      "execution_count": 8,
      "outputs": []
    },
    {
      "cell_type": "code",
      "metadata": {
        "colab": {
          "base_uri": "https://localhost:8080/"
        },
        "id": "BO6PosMe-Gww",
        "outputId": "0922e9e8-b900-4d86-ddc2-a261fd064b55"
      },
      "source": [
        "# train_df.head()\n",
        "# test_df.head()\n",
        "valid_df.saledate.min()"
      ],
      "execution_count": 9,
      "outputs": [
        {
          "output_type": "execute_result",
          "data": {
            "text/plain": [
              "Timestamp('2012-01-01 00:00:00')"
            ]
          },
          "metadata": {
            "tags": []
          },
          "execution_count": 9
        }
      ]
    },
    {
      "cell_type": "code",
      "metadata": {
        "colab": {
          "base_uri": "https://localhost:8080/"
        },
        "id": "mEMx4IwUD4Hn",
        "outputId": "86fcc8b0-da3a-4a3d-8706-b1a2ee6aea13"
      },
      "source": [
        "len(train_df), len(test_df), len(valid_df)"
      ],
      "execution_count": 10,
      "outputs": [
        {
          "output_type": "execute_result",
          "data": {
            "text/plain": [
              "(401125, 12457, 11573)"
            ]
          },
          "metadata": {
            "tags": []
          },
          "execution_count": 10
        }
      ]
    },
    {
      "cell_type": "markdown",
      "metadata": {
        "id": "kfLOw-h1EKgE"
      },
      "source": [
        "## 2.2 Data Preprocessing\n",
        "\n",
        "- sort by date\n",
        "- change saleprice to log (since metric RMSLE)\n",
        "\n",
        "## 2.3 Feature Engineering \n",
        "\n",
        "-add_datepart()"
      ]
    },
    {
      "cell_type": "code",
      "metadata": {
        "colab": {
          "base_uri": "https://localhost:8080/",
          "height": 350
        },
        "id": "yyw64XYCD4EW",
        "outputId": "013421d5-9f98-4bbe-c4f9-1d7129dcc9e9"
      },
      "source": [
        "train_df = train_df.sort_values(by = 'saledate', ascending=False)\n",
        "\n",
        "train_df = train_df.reset_index(drop=True)\n",
        "train_df.head()"
      ],
      "execution_count": 11,
      "outputs": [
        {
          "output_type": "execute_result",
          "data": {
            "text/html": [
              "<div>\n",
              "<style scoped>\n",
              "    .dataframe tbody tr th:only-of-type {\n",
              "        vertical-align: middle;\n",
              "    }\n",
              "\n",
              "    .dataframe tbody tr th {\n",
              "        vertical-align: top;\n",
              "    }\n",
              "\n",
              "    .dataframe thead th {\n",
              "        text-align: right;\n",
              "    }\n",
              "</style>\n",
              "<table border=\"1\" class=\"dataframe\">\n",
              "  <thead>\n",
              "    <tr style=\"text-align: right;\">\n",
              "      <th></th>\n",
              "      <th>SalesID</th>\n",
              "      <th>SalePrice</th>\n",
              "      <th>MachineID</th>\n",
              "      <th>ModelID</th>\n",
              "      <th>datasource</th>\n",
              "      <th>auctioneerID</th>\n",
              "      <th>YearMade</th>\n",
              "      <th>MachineHoursCurrentMeter</th>\n",
              "      <th>UsageBand</th>\n",
              "      <th>saledate</th>\n",
              "      <th>fiModelDesc</th>\n",
              "      <th>fiBaseModel</th>\n",
              "      <th>fiSecondaryDesc</th>\n",
              "      <th>fiModelSeries</th>\n",
              "      <th>fiModelDescriptor</th>\n",
              "      <th>ProductSize</th>\n",
              "      <th>fiProductClassDesc</th>\n",
              "      <th>state</th>\n",
              "      <th>ProductGroup</th>\n",
              "      <th>ProductGroupDesc</th>\n",
              "      <th>Drive_System</th>\n",
              "      <th>Enclosure</th>\n",
              "      <th>Forks</th>\n",
              "      <th>Pad_Type</th>\n",
              "      <th>Ride_Control</th>\n",
              "      <th>Stick</th>\n",
              "      <th>Transmission</th>\n",
              "      <th>Turbocharged</th>\n",
              "      <th>Blade_Extension</th>\n",
              "      <th>Blade_Width</th>\n",
              "      <th>Enclosure_Type</th>\n",
              "      <th>Engine_Horsepower</th>\n",
              "      <th>Hydraulics</th>\n",
              "      <th>Pushblock</th>\n",
              "      <th>Ripper</th>\n",
              "      <th>Scarifier</th>\n",
              "      <th>Tip_Control</th>\n",
              "      <th>Tire_Size</th>\n",
              "      <th>Coupler</th>\n",
              "      <th>Coupler_System</th>\n",
              "      <th>Grouser_Tracks</th>\n",
              "      <th>Hydraulics_Flow</th>\n",
              "      <th>Track_Type</th>\n",
              "      <th>Undercarriage_Pad_Width</th>\n",
              "      <th>Stick_Length</th>\n",
              "      <th>Thumb</th>\n",
              "      <th>Pattern_Changer</th>\n",
              "      <th>Grouser_Type</th>\n",
              "      <th>Backhoe_Mounting</th>\n",
              "      <th>Blade_Type</th>\n",
              "      <th>Travel_Controls</th>\n",
              "      <th>Differential_Type</th>\n",
              "      <th>Steering_Controls</th>\n",
              "    </tr>\n",
              "  </thead>\n",
              "  <tbody>\n",
              "    <tr>\n",
              "      <th>0</th>\n",
              "      <td>6269664</td>\n",
              "      <td>22000</td>\n",
              "      <td>1881427</td>\n",
              "      <td>7624</td>\n",
              "      <td>149</td>\n",
              "      <td>2.0</td>\n",
              "      <td>1000</td>\n",
              "      <td>NaN</td>\n",
              "      <td>NaN</td>\n",
              "      <td>2011-12-30</td>\n",
              "      <td>IT28</td>\n",
              "      <td>IT28</td>\n",
              "      <td>NaN</td>\n",
              "      <td>NaN</td>\n",
              "      <td>NaN</td>\n",
              "      <td>NaN</td>\n",
              "      <td>Wheel Loader - 100.0 to 110.0 Horsepower</td>\n",
              "      <td>New York</td>\n",
              "      <td>WL</td>\n",
              "      <td>Wheel Loader</td>\n",
              "      <td>NaN</td>\n",
              "      <td>EROPS w AC</td>\n",
              "      <td>None or Unspecified</td>\n",
              "      <td>NaN</td>\n",
              "      <td>None or Unspecified</td>\n",
              "      <td>NaN</td>\n",
              "      <td>NaN</td>\n",
              "      <td>NaN</td>\n",
              "      <td>NaN</td>\n",
              "      <td>NaN</td>\n",
              "      <td>NaN</td>\n",
              "      <td>NaN</td>\n",
              "      <td>3 Valve</td>\n",
              "      <td>NaN</td>\n",
              "      <td>NaN</td>\n",
              "      <td>NaN</td>\n",
              "      <td>NaN</td>\n",
              "      <td>None or Unspecified</td>\n",
              "      <td>None or Unspecified</td>\n",
              "      <td>NaN</td>\n",
              "      <td>NaN</td>\n",
              "      <td>NaN</td>\n",
              "      <td>NaN</td>\n",
              "      <td>NaN</td>\n",
              "      <td>NaN</td>\n",
              "      <td>NaN</td>\n",
              "      <td>NaN</td>\n",
              "      <td>NaN</td>\n",
              "      <td>NaN</td>\n",
              "      <td>NaN</td>\n",
              "      <td>NaN</td>\n",
              "      <td>Standard</td>\n",
              "      <td>Conventional</td>\n",
              "    </tr>\n",
              "    <tr>\n",
              "      <th>1</th>\n",
              "      <td>6312170</td>\n",
              "      <td>11000</td>\n",
              "      <td>1812622</td>\n",
              "      <td>9580</td>\n",
              "      <td>149</td>\n",
              "      <td>2.0</td>\n",
              "      <td>2005</td>\n",
              "      <td>NaN</td>\n",
              "      <td>NaN</td>\n",
              "      <td>2011-12-30</td>\n",
              "      <td>T190</td>\n",
              "      <td>T190</td>\n",
              "      <td>NaN</td>\n",
              "      <td>NaN</td>\n",
              "      <td>NaN</td>\n",
              "      <td>NaN</td>\n",
              "      <td>Skid Steer Loader - 1751.0 to 2201.0 Lb Operat...</td>\n",
              "      <td>New York</td>\n",
              "      <td>SSL</td>\n",
              "      <td>Skid Steer Loaders</td>\n",
              "      <td>NaN</td>\n",
              "      <td>OROPS</td>\n",
              "      <td>None or Unspecified</td>\n",
              "      <td>NaN</td>\n",
              "      <td>NaN</td>\n",
              "      <td>NaN</td>\n",
              "      <td>NaN</td>\n",
              "      <td>NaN</td>\n",
              "      <td>NaN</td>\n",
              "      <td>NaN</td>\n",
              "      <td>NaN</td>\n",
              "      <td>NaN</td>\n",
              "      <td>Auxiliary</td>\n",
              "      <td>NaN</td>\n",
              "      <td>NaN</td>\n",
              "      <td>NaN</td>\n",
              "      <td>NaN</td>\n",
              "      <td>NaN</td>\n",
              "      <td>None or Unspecified</td>\n",
              "      <td>None or Unspecified</td>\n",
              "      <td>None or Unspecified</td>\n",
              "      <td>Standard</td>\n",
              "      <td>NaN</td>\n",
              "      <td>NaN</td>\n",
              "      <td>NaN</td>\n",
              "      <td>NaN</td>\n",
              "      <td>NaN</td>\n",
              "      <td>NaN</td>\n",
              "      <td>NaN</td>\n",
              "      <td>NaN</td>\n",
              "      <td>NaN</td>\n",
              "      <td>NaN</td>\n",
              "      <td>NaN</td>\n",
              "    </tr>\n",
              "    <tr>\n",
              "      <th>2</th>\n",
              "      <td>6265707</td>\n",
              "      <td>12500</td>\n",
              "      <td>1873075</td>\n",
              "      <td>43</td>\n",
              "      <td>149</td>\n",
              "      <td>2.0</td>\n",
              "      <td>1000</td>\n",
              "      <td>NaN</td>\n",
              "      <td>NaN</td>\n",
              "      <td>2011-12-30</td>\n",
              "      <td>416II</td>\n",
              "      <td>416</td>\n",
              "      <td>NaN</td>\n",
              "      <td>II</td>\n",
              "      <td>NaN</td>\n",
              "      <td>NaN</td>\n",
              "      <td>Backhoe Loader - 14.0 to 15.0 Ft Standard Digg...</td>\n",
              "      <td>New York</td>\n",
              "      <td>BL</td>\n",
              "      <td>Backhoe Loaders</td>\n",
              "      <td>Two Wheel Drive</td>\n",
              "      <td>EROPS</td>\n",
              "      <td>None or Unspecified</td>\n",
              "      <td>None or Unspecified</td>\n",
              "      <td>No</td>\n",
              "      <td>Standard</td>\n",
              "      <td>Standard</td>\n",
              "      <td>None or Unspecified</td>\n",
              "      <td>NaN</td>\n",
              "      <td>NaN</td>\n",
              "      <td>NaN</td>\n",
              "      <td>NaN</td>\n",
              "      <td>NaN</td>\n",
              "      <td>NaN</td>\n",
              "      <td>NaN</td>\n",
              "      <td>NaN</td>\n",
              "      <td>NaN</td>\n",
              "      <td>NaN</td>\n",
              "      <td>NaN</td>\n",
              "      <td>NaN</td>\n",
              "      <td>NaN</td>\n",
              "      <td>NaN</td>\n",
              "      <td>NaN</td>\n",
              "      <td>NaN</td>\n",
              "      <td>NaN</td>\n",
              "      <td>NaN</td>\n",
              "      <td>NaN</td>\n",
              "      <td>NaN</td>\n",
              "      <td>NaN</td>\n",
              "      <td>NaN</td>\n",
              "      <td>NaN</td>\n",
              "      <td>NaN</td>\n",
              "      <td>NaN</td>\n",
              "    </tr>\n",
              "    <tr>\n",
              "      <th>3</th>\n",
              "      <td>6296711</td>\n",
              "      <td>27500</td>\n",
              "      <td>1918428</td>\n",
              "      <td>24719</td>\n",
              "      <td>149</td>\n",
              "      <td>2.0</td>\n",
              "      <td>1000</td>\n",
              "      <td>NaN</td>\n",
              "      <td>NaN</td>\n",
              "      <td>2011-12-30</td>\n",
              "      <td>436B</td>\n",
              "      <td>436</td>\n",
              "      <td>B</td>\n",
              "      <td>NaN</td>\n",
              "      <td>NaN</td>\n",
              "      <td>Medium</td>\n",
              "      <td>Wheel Loader - 175.0 to 200.0 Horsepower</td>\n",
              "      <td>New York</td>\n",
              "      <td>WL</td>\n",
              "      <td>Wheel Loader</td>\n",
              "      <td>NaN</td>\n",
              "      <td>EROPS w AC</td>\n",
              "      <td>None or Unspecified</td>\n",
              "      <td>NaN</td>\n",
              "      <td>None or Unspecified</td>\n",
              "      <td>NaN</td>\n",
              "      <td>NaN</td>\n",
              "      <td>NaN</td>\n",
              "      <td>NaN</td>\n",
              "      <td>NaN</td>\n",
              "      <td>NaN</td>\n",
              "      <td>NaN</td>\n",
              "      <td>2 Valve</td>\n",
              "      <td>NaN</td>\n",
              "      <td>NaN</td>\n",
              "      <td>NaN</td>\n",
              "      <td>NaN</td>\n",
              "      <td>None or Unspecified</td>\n",
              "      <td>Manual</td>\n",
              "      <td>NaN</td>\n",
              "      <td>NaN</td>\n",
              "      <td>NaN</td>\n",
              "      <td>NaN</td>\n",
              "      <td>NaN</td>\n",
              "      <td>NaN</td>\n",
              "      <td>NaN</td>\n",
              "      <td>NaN</td>\n",
              "      <td>NaN</td>\n",
              "      <td>NaN</td>\n",
              "      <td>NaN</td>\n",
              "      <td>NaN</td>\n",
              "      <td>Standard</td>\n",
              "      <td>Conventional</td>\n",
              "    </tr>\n",
              "    <tr>\n",
              "      <th>4</th>\n",
              "      <td>6295141</td>\n",
              "      <td>21500</td>\n",
              "      <td>1805359</td>\n",
              "      <td>15972</td>\n",
              "      <td>149</td>\n",
              "      <td>2.0</td>\n",
              "      <td>2005</td>\n",
              "      <td>NaN</td>\n",
              "      <td>NaN</td>\n",
              "      <td>2011-12-30</td>\n",
              "      <td>8080ZTS</td>\n",
              "      <td>8080</td>\n",
              "      <td>NaN</td>\n",
              "      <td>NaN</td>\n",
              "      <td>ZTS</td>\n",
              "      <td>Small</td>\n",
              "      <td>Hydraulic Excavator, Track - 8.0 to 11.0 Metri...</td>\n",
              "      <td>New York</td>\n",
              "      <td>TEX</td>\n",
              "      <td>Track Excavators</td>\n",
              "      <td>NaN</td>\n",
              "      <td>EROPS w AC</td>\n",
              "      <td>NaN</td>\n",
              "      <td>NaN</td>\n",
              "      <td>NaN</td>\n",
              "      <td>NaN</td>\n",
              "      <td>NaN</td>\n",
              "      <td>NaN</td>\n",
              "      <td>NaN</td>\n",
              "      <td>NaN</td>\n",
              "      <td>NaN</td>\n",
              "      <td>NaN</td>\n",
              "      <td>Auxiliary</td>\n",
              "      <td>NaN</td>\n",
              "      <td>NaN</td>\n",
              "      <td>NaN</td>\n",
              "      <td>NaN</td>\n",
              "      <td>NaN</td>\n",
              "      <td>None or Unspecified</td>\n",
              "      <td>NaN</td>\n",
              "      <td>NaN</td>\n",
              "      <td>NaN</td>\n",
              "      <td>Rubber</td>\n",
              "      <td>None or Unspecified</td>\n",
              "      <td>None or Unspecified</td>\n",
              "      <td>None or Unspecified</td>\n",
              "      <td>None or Unspecified</td>\n",
              "      <td>Double</td>\n",
              "      <td>NaN</td>\n",
              "      <td>NaN</td>\n",
              "      <td>NaN</td>\n",
              "      <td>NaN</td>\n",
              "      <td>NaN</td>\n",
              "    </tr>\n",
              "  </tbody>\n",
              "</table>\n",
              "</div>"
            ],
            "text/plain": [
              "   SalesID  SalePrice  ...  Differential_Type  Steering_Controls\n",
              "0  6269664      22000  ...           Standard       Conventional\n",
              "1  6312170      11000  ...                NaN                NaN\n",
              "2  6265707      12500  ...                NaN                NaN\n",
              "3  6296711      27500  ...           Standard       Conventional\n",
              "4  6295141      21500  ...                NaN                NaN\n",
              "\n",
              "[5 rows x 53 columns]"
            ]
          },
          "metadata": {
            "tags": []
          },
          "execution_count": 11
        }
      ]
    },
    {
      "cell_type": "code",
      "metadata": {
        "colab": {
          "base_uri": "https://localhost:8080/",
          "height": 350
        },
        "id": "ZWeAJF4qD4Bx",
        "outputId": "9c612f91-d5f6-4a77-9fa9-64cd38bab613"
      },
      "source": [
        "# change Saleprice to log (since metric RMSLE)\n",
        "\n",
        "train_df['SalePrice'] = np.log(train_df['SalePrice'])\n",
        "train_df.head()"
      ],
      "execution_count": 12,
      "outputs": [
        {
          "output_type": "execute_result",
          "data": {
            "text/html": [
              "<div>\n",
              "<style scoped>\n",
              "    .dataframe tbody tr th:only-of-type {\n",
              "        vertical-align: middle;\n",
              "    }\n",
              "\n",
              "    .dataframe tbody tr th {\n",
              "        vertical-align: top;\n",
              "    }\n",
              "\n",
              "    .dataframe thead th {\n",
              "        text-align: right;\n",
              "    }\n",
              "</style>\n",
              "<table border=\"1\" class=\"dataframe\">\n",
              "  <thead>\n",
              "    <tr style=\"text-align: right;\">\n",
              "      <th></th>\n",
              "      <th>SalesID</th>\n",
              "      <th>SalePrice</th>\n",
              "      <th>MachineID</th>\n",
              "      <th>ModelID</th>\n",
              "      <th>datasource</th>\n",
              "      <th>auctioneerID</th>\n",
              "      <th>YearMade</th>\n",
              "      <th>MachineHoursCurrentMeter</th>\n",
              "      <th>UsageBand</th>\n",
              "      <th>saledate</th>\n",
              "      <th>fiModelDesc</th>\n",
              "      <th>fiBaseModel</th>\n",
              "      <th>fiSecondaryDesc</th>\n",
              "      <th>fiModelSeries</th>\n",
              "      <th>fiModelDescriptor</th>\n",
              "      <th>ProductSize</th>\n",
              "      <th>fiProductClassDesc</th>\n",
              "      <th>state</th>\n",
              "      <th>ProductGroup</th>\n",
              "      <th>ProductGroupDesc</th>\n",
              "      <th>Drive_System</th>\n",
              "      <th>Enclosure</th>\n",
              "      <th>Forks</th>\n",
              "      <th>Pad_Type</th>\n",
              "      <th>Ride_Control</th>\n",
              "      <th>Stick</th>\n",
              "      <th>Transmission</th>\n",
              "      <th>Turbocharged</th>\n",
              "      <th>Blade_Extension</th>\n",
              "      <th>Blade_Width</th>\n",
              "      <th>Enclosure_Type</th>\n",
              "      <th>Engine_Horsepower</th>\n",
              "      <th>Hydraulics</th>\n",
              "      <th>Pushblock</th>\n",
              "      <th>Ripper</th>\n",
              "      <th>Scarifier</th>\n",
              "      <th>Tip_Control</th>\n",
              "      <th>Tire_Size</th>\n",
              "      <th>Coupler</th>\n",
              "      <th>Coupler_System</th>\n",
              "      <th>Grouser_Tracks</th>\n",
              "      <th>Hydraulics_Flow</th>\n",
              "      <th>Track_Type</th>\n",
              "      <th>Undercarriage_Pad_Width</th>\n",
              "      <th>Stick_Length</th>\n",
              "      <th>Thumb</th>\n",
              "      <th>Pattern_Changer</th>\n",
              "      <th>Grouser_Type</th>\n",
              "      <th>Backhoe_Mounting</th>\n",
              "      <th>Blade_Type</th>\n",
              "      <th>Travel_Controls</th>\n",
              "      <th>Differential_Type</th>\n",
              "      <th>Steering_Controls</th>\n",
              "    </tr>\n",
              "  </thead>\n",
              "  <tbody>\n",
              "    <tr>\n",
              "      <th>0</th>\n",
              "      <td>6269664</td>\n",
              "      <td>9.998798</td>\n",
              "      <td>1881427</td>\n",
              "      <td>7624</td>\n",
              "      <td>149</td>\n",
              "      <td>2.0</td>\n",
              "      <td>1000</td>\n",
              "      <td>NaN</td>\n",
              "      <td>NaN</td>\n",
              "      <td>2011-12-30</td>\n",
              "      <td>IT28</td>\n",
              "      <td>IT28</td>\n",
              "      <td>NaN</td>\n",
              "      <td>NaN</td>\n",
              "      <td>NaN</td>\n",
              "      <td>NaN</td>\n",
              "      <td>Wheel Loader - 100.0 to 110.0 Horsepower</td>\n",
              "      <td>New York</td>\n",
              "      <td>WL</td>\n",
              "      <td>Wheel Loader</td>\n",
              "      <td>NaN</td>\n",
              "      <td>EROPS w AC</td>\n",
              "      <td>None or Unspecified</td>\n",
              "      <td>NaN</td>\n",
              "      <td>None or Unspecified</td>\n",
              "      <td>NaN</td>\n",
              "      <td>NaN</td>\n",
              "      <td>NaN</td>\n",
              "      <td>NaN</td>\n",
              "      <td>NaN</td>\n",
              "      <td>NaN</td>\n",
              "      <td>NaN</td>\n",
              "      <td>3 Valve</td>\n",
              "      <td>NaN</td>\n",
              "      <td>NaN</td>\n",
              "      <td>NaN</td>\n",
              "      <td>NaN</td>\n",
              "      <td>None or Unspecified</td>\n",
              "      <td>None or Unspecified</td>\n",
              "      <td>NaN</td>\n",
              "      <td>NaN</td>\n",
              "      <td>NaN</td>\n",
              "      <td>NaN</td>\n",
              "      <td>NaN</td>\n",
              "      <td>NaN</td>\n",
              "      <td>NaN</td>\n",
              "      <td>NaN</td>\n",
              "      <td>NaN</td>\n",
              "      <td>NaN</td>\n",
              "      <td>NaN</td>\n",
              "      <td>NaN</td>\n",
              "      <td>Standard</td>\n",
              "      <td>Conventional</td>\n",
              "    </tr>\n",
              "    <tr>\n",
              "      <th>1</th>\n",
              "      <td>6312170</td>\n",
              "      <td>9.305651</td>\n",
              "      <td>1812622</td>\n",
              "      <td>9580</td>\n",
              "      <td>149</td>\n",
              "      <td>2.0</td>\n",
              "      <td>2005</td>\n",
              "      <td>NaN</td>\n",
              "      <td>NaN</td>\n",
              "      <td>2011-12-30</td>\n",
              "      <td>T190</td>\n",
              "      <td>T190</td>\n",
              "      <td>NaN</td>\n",
              "      <td>NaN</td>\n",
              "      <td>NaN</td>\n",
              "      <td>NaN</td>\n",
              "      <td>Skid Steer Loader - 1751.0 to 2201.0 Lb Operat...</td>\n",
              "      <td>New York</td>\n",
              "      <td>SSL</td>\n",
              "      <td>Skid Steer Loaders</td>\n",
              "      <td>NaN</td>\n",
              "      <td>OROPS</td>\n",
              "      <td>None or Unspecified</td>\n",
              "      <td>NaN</td>\n",
              "      <td>NaN</td>\n",
              "      <td>NaN</td>\n",
              "      <td>NaN</td>\n",
              "      <td>NaN</td>\n",
              "      <td>NaN</td>\n",
              "      <td>NaN</td>\n",
              "      <td>NaN</td>\n",
              "      <td>NaN</td>\n",
              "      <td>Auxiliary</td>\n",
              "      <td>NaN</td>\n",
              "      <td>NaN</td>\n",
              "      <td>NaN</td>\n",
              "      <td>NaN</td>\n",
              "      <td>NaN</td>\n",
              "      <td>None or Unspecified</td>\n",
              "      <td>None or Unspecified</td>\n",
              "      <td>None or Unspecified</td>\n",
              "      <td>Standard</td>\n",
              "      <td>NaN</td>\n",
              "      <td>NaN</td>\n",
              "      <td>NaN</td>\n",
              "      <td>NaN</td>\n",
              "      <td>NaN</td>\n",
              "      <td>NaN</td>\n",
              "      <td>NaN</td>\n",
              "      <td>NaN</td>\n",
              "      <td>NaN</td>\n",
              "      <td>NaN</td>\n",
              "      <td>NaN</td>\n",
              "    </tr>\n",
              "    <tr>\n",
              "      <th>2</th>\n",
              "      <td>6265707</td>\n",
              "      <td>9.433484</td>\n",
              "      <td>1873075</td>\n",
              "      <td>43</td>\n",
              "      <td>149</td>\n",
              "      <td>2.0</td>\n",
              "      <td>1000</td>\n",
              "      <td>NaN</td>\n",
              "      <td>NaN</td>\n",
              "      <td>2011-12-30</td>\n",
              "      <td>416II</td>\n",
              "      <td>416</td>\n",
              "      <td>NaN</td>\n",
              "      <td>II</td>\n",
              "      <td>NaN</td>\n",
              "      <td>NaN</td>\n",
              "      <td>Backhoe Loader - 14.0 to 15.0 Ft Standard Digg...</td>\n",
              "      <td>New York</td>\n",
              "      <td>BL</td>\n",
              "      <td>Backhoe Loaders</td>\n",
              "      <td>Two Wheel Drive</td>\n",
              "      <td>EROPS</td>\n",
              "      <td>None or Unspecified</td>\n",
              "      <td>None or Unspecified</td>\n",
              "      <td>No</td>\n",
              "      <td>Standard</td>\n",
              "      <td>Standard</td>\n",
              "      <td>None or Unspecified</td>\n",
              "      <td>NaN</td>\n",
              "      <td>NaN</td>\n",
              "      <td>NaN</td>\n",
              "      <td>NaN</td>\n",
              "      <td>NaN</td>\n",
              "      <td>NaN</td>\n",
              "      <td>NaN</td>\n",
              "      <td>NaN</td>\n",
              "      <td>NaN</td>\n",
              "      <td>NaN</td>\n",
              "      <td>NaN</td>\n",
              "      <td>NaN</td>\n",
              "      <td>NaN</td>\n",
              "      <td>NaN</td>\n",
              "      <td>NaN</td>\n",
              "      <td>NaN</td>\n",
              "      <td>NaN</td>\n",
              "      <td>NaN</td>\n",
              "      <td>NaN</td>\n",
              "      <td>NaN</td>\n",
              "      <td>NaN</td>\n",
              "      <td>NaN</td>\n",
              "      <td>NaN</td>\n",
              "      <td>NaN</td>\n",
              "      <td>NaN</td>\n",
              "    </tr>\n",
              "    <tr>\n",
              "      <th>3</th>\n",
              "      <td>6296711</td>\n",
              "      <td>10.221941</td>\n",
              "      <td>1918428</td>\n",
              "      <td>24719</td>\n",
              "      <td>149</td>\n",
              "      <td>2.0</td>\n",
              "      <td>1000</td>\n",
              "      <td>NaN</td>\n",
              "      <td>NaN</td>\n",
              "      <td>2011-12-30</td>\n",
              "      <td>436B</td>\n",
              "      <td>436</td>\n",
              "      <td>B</td>\n",
              "      <td>NaN</td>\n",
              "      <td>NaN</td>\n",
              "      <td>Medium</td>\n",
              "      <td>Wheel Loader - 175.0 to 200.0 Horsepower</td>\n",
              "      <td>New York</td>\n",
              "      <td>WL</td>\n",
              "      <td>Wheel Loader</td>\n",
              "      <td>NaN</td>\n",
              "      <td>EROPS w AC</td>\n",
              "      <td>None or Unspecified</td>\n",
              "      <td>NaN</td>\n",
              "      <td>None or Unspecified</td>\n",
              "      <td>NaN</td>\n",
              "      <td>NaN</td>\n",
              "      <td>NaN</td>\n",
              "      <td>NaN</td>\n",
              "      <td>NaN</td>\n",
              "      <td>NaN</td>\n",
              "      <td>NaN</td>\n",
              "      <td>2 Valve</td>\n",
              "      <td>NaN</td>\n",
              "      <td>NaN</td>\n",
              "      <td>NaN</td>\n",
              "      <td>NaN</td>\n",
              "      <td>None or Unspecified</td>\n",
              "      <td>Manual</td>\n",
              "      <td>NaN</td>\n",
              "      <td>NaN</td>\n",
              "      <td>NaN</td>\n",
              "      <td>NaN</td>\n",
              "      <td>NaN</td>\n",
              "      <td>NaN</td>\n",
              "      <td>NaN</td>\n",
              "      <td>NaN</td>\n",
              "      <td>NaN</td>\n",
              "      <td>NaN</td>\n",
              "      <td>NaN</td>\n",
              "      <td>NaN</td>\n",
              "      <td>Standard</td>\n",
              "      <td>Conventional</td>\n",
              "    </tr>\n",
              "    <tr>\n",
              "      <th>4</th>\n",
              "      <td>6295141</td>\n",
              "      <td>9.975808</td>\n",
              "      <td>1805359</td>\n",
              "      <td>15972</td>\n",
              "      <td>149</td>\n",
              "      <td>2.0</td>\n",
              "      <td>2005</td>\n",
              "      <td>NaN</td>\n",
              "      <td>NaN</td>\n",
              "      <td>2011-12-30</td>\n",
              "      <td>8080ZTS</td>\n",
              "      <td>8080</td>\n",
              "      <td>NaN</td>\n",
              "      <td>NaN</td>\n",
              "      <td>ZTS</td>\n",
              "      <td>Small</td>\n",
              "      <td>Hydraulic Excavator, Track - 8.0 to 11.0 Metri...</td>\n",
              "      <td>New York</td>\n",
              "      <td>TEX</td>\n",
              "      <td>Track Excavators</td>\n",
              "      <td>NaN</td>\n",
              "      <td>EROPS w AC</td>\n",
              "      <td>NaN</td>\n",
              "      <td>NaN</td>\n",
              "      <td>NaN</td>\n",
              "      <td>NaN</td>\n",
              "      <td>NaN</td>\n",
              "      <td>NaN</td>\n",
              "      <td>NaN</td>\n",
              "      <td>NaN</td>\n",
              "      <td>NaN</td>\n",
              "      <td>NaN</td>\n",
              "      <td>Auxiliary</td>\n",
              "      <td>NaN</td>\n",
              "      <td>NaN</td>\n",
              "      <td>NaN</td>\n",
              "      <td>NaN</td>\n",
              "      <td>NaN</td>\n",
              "      <td>None or Unspecified</td>\n",
              "      <td>NaN</td>\n",
              "      <td>NaN</td>\n",
              "      <td>NaN</td>\n",
              "      <td>Rubber</td>\n",
              "      <td>None or Unspecified</td>\n",
              "      <td>None or Unspecified</td>\n",
              "      <td>None or Unspecified</td>\n",
              "      <td>None or Unspecified</td>\n",
              "      <td>Double</td>\n",
              "      <td>NaN</td>\n",
              "      <td>NaN</td>\n",
              "      <td>NaN</td>\n",
              "      <td>NaN</td>\n",
              "      <td>NaN</td>\n",
              "    </tr>\n",
              "  </tbody>\n",
              "</table>\n",
              "</div>"
            ],
            "text/plain": [
              "   SalesID  SalePrice  ...  Differential_Type  Steering_Controls\n",
              "0  6269664   9.998798  ...           Standard       Conventional\n",
              "1  6312170   9.305651  ...                NaN                NaN\n",
              "2  6265707   9.433484  ...                NaN                NaN\n",
              "3  6296711  10.221941  ...           Standard       Conventional\n",
              "4  6295141   9.975808  ...                NaN                NaN\n",
              "\n",
              "[5 rows x 53 columns]"
            ]
          },
          "metadata": {
            "tags": []
          },
          "execution_count": 12
        }
      ]
    },
    {
      "cell_type": "code",
      "metadata": {
        "colab": {
          "base_uri": "https://localhost:8080/",
          "height": 404
        },
        "id": "lcJbmVLBD4AM",
        "outputId": "dd64017c-4f54-4cdf-d7ee-e795609cf137"
      },
      "source": [
        "# feature engineering (add_datepart)\n",
        "\n",
        "add_datepart(train_df, 'saledate', drop=False)\n",
        "add_datepart(test_df, 'saledate', drop=False)\n",
        "\n",
        "train_df.tail().T"
      ],
      "execution_count": 13,
      "outputs": [
        {
          "output_type": "execute_result",
          "data": {
            "text/html": [
              "<div>\n",
              "<style scoped>\n",
              "    .dataframe tbody tr th:only-of-type {\n",
              "        vertical-align: middle;\n",
              "    }\n",
              "\n",
              "    .dataframe tbody tr th {\n",
              "        vertical-align: top;\n",
              "    }\n",
              "\n",
              "    .dataframe thead th {\n",
              "        text-align: right;\n",
              "    }\n",
              "</style>\n",
              "<table border=\"1\" class=\"dataframe\">\n",
              "  <thead>\n",
              "    <tr style=\"text-align: right;\">\n",
              "      <th></th>\n",
              "      <th>401120</th>\n",
              "      <th>401121</th>\n",
              "      <th>401122</th>\n",
              "      <th>401123</th>\n",
              "      <th>401124</th>\n",
              "    </tr>\n",
              "  </thead>\n",
              "  <tbody>\n",
              "    <tr>\n",
              "      <th>SalesID</th>\n",
              "      <td>1508502</td>\n",
              "      <td>1421628</td>\n",
              "      <td>1475641</td>\n",
              "      <td>1475662</td>\n",
              "      <td>1646770</td>\n",
              "    </tr>\n",
              "    <tr>\n",
              "      <th>SalePrice</th>\n",
              "      <td>9.95228</td>\n",
              "      <td>11.2385</td>\n",
              "      <td>10.0648</td>\n",
              "      <td>9.9988</td>\n",
              "      <td>9.15905</td>\n",
              "    </tr>\n",
              "    <tr>\n",
              "      <th>MachineID</th>\n",
              "      <td>1153157</td>\n",
              "      <td>1453580</td>\n",
              "      <td>1194367</td>\n",
              "      <td>1242833</td>\n",
              "      <td>1126363</td>\n",
              "    </tr>\n",
              "    <tr>\n",
              "      <th>ModelID</th>\n",
              "      <td>4138</td>\n",
              "      <td>3877</td>\n",
              "      <td>7277</td>\n",
              "      <td>7277</td>\n",
              "      <td>8434</td>\n",
              "    </tr>\n",
              "    <tr>\n",
              "      <th>datasource</th>\n",
              "      <td>132</td>\n",
              "      <td>132</td>\n",
              "      <td>132</td>\n",
              "      <td>132</td>\n",
              "      <td>132</td>\n",
              "    </tr>\n",
              "    <tr>\n",
              "      <th>...</th>\n",
              "      <td>...</td>\n",
              "      <td>...</td>\n",
              "      <td>...</td>\n",
              "      <td>...</td>\n",
              "      <td>...</td>\n",
              "    </tr>\n",
              "    <tr>\n",
              "      <th>saleIs_quarter_end</th>\n",
              "      <td>False</td>\n",
              "      <td>False</td>\n",
              "      <td>False</td>\n",
              "      <td>False</td>\n",
              "      <td>False</td>\n",
              "    </tr>\n",
              "    <tr>\n",
              "      <th>saleIs_quarter_start</th>\n",
              "      <td>False</td>\n",
              "      <td>False</td>\n",
              "      <td>False</td>\n",
              "      <td>False</td>\n",
              "      <td>False</td>\n",
              "    </tr>\n",
              "    <tr>\n",
              "      <th>saleIs_year_end</th>\n",
              "      <td>False</td>\n",
              "      <td>False</td>\n",
              "      <td>False</td>\n",
              "      <td>False</td>\n",
              "      <td>False</td>\n",
              "    </tr>\n",
              "    <tr>\n",
              "      <th>saleIs_year_start</th>\n",
              "      <td>False</td>\n",
              "      <td>False</td>\n",
              "      <td>False</td>\n",
              "      <td>False</td>\n",
              "      <td>False</td>\n",
              "    </tr>\n",
              "    <tr>\n",
              "      <th>saleElapsed</th>\n",
              "      <td>602208000</td>\n",
              "      <td>602208000</td>\n",
              "      <td>602208000</td>\n",
              "      <td>602208000</td>\n",
              "      <td>600998400</td>\n",
              "    </tr>\n",
              "  </tbody>\n",
              "</table>\n",
              "<p>66 rows × 5 columns</p>\n",
              "</div>"
            ],
            "text/plain": [
              "                         401120     401121     401122     401123     401124\n",
              "SalesID                 1508502    1421628    1475641    1475662    1646770\n",
              "SalePrice               9.95228    11.2385    10.0648     9.9988    9.15905\n",
              "MachineID               1153157    1453580    1194367    1242833    1126363\n",
              "ModelID                    4138       3877       7277       7277       8434\n",
              "datasource                  132        132        132        132        132\n",
              "...                         ...        ...        ...        ...        ...\n",
              "saleIs_quarter_end        False      False      False      False      False\n",
              "saleIs_quarter_start      False      False      False      False      False\n",
              "saleIs_year_end           False      False      False      False      False\n",
              "saleIs_year_start         False      False      False      False      False\n",
              "saleElapsed           602208000  602208000  602208000  602208000  600998400\n",
              "\n",
              "[66 rows x 5 columns]"
            ]
          },
          "metadata": {
            "tags": []
          },
          "execution_count": 13
        }
      ]
    },
    {
      "cell_type": "code",
      "metadata": {
        "id": "Z8-VnQslD38j"
      },
      "source": [
        "## Processing\n",
        "\n",
        "procs = [FillMissing, Categorify, Normalize]\n"
      ],
      "execution_count": 14,
      "outputs": []
    },
    {
      "cell_type": "code",
      "metadata": {
        "colab": {
          "base_uri": "https://localhost:8080/"
        },
        "id": "ffiYHM6HJBGu",
        "outputId": "646f9cab-2722-46f7-ffaa-359650936cd6"
      },
      "source": [
        "# get cat. and cont. colums\n",
        "\n",
        "train_df.dtypes\n",
        "\n",
        "cols = train_df.columns.to_series().groupby(train_df.dtypes).groups\n",
        "cols\n"
      ],
      "execution_count": 15,
      "outputs": [
        {
          "output_type": "execute_result",
          "data": {
            "text/plain": [
              "{int64: ['SalesID', 'MachineID', 'ModelID', 'datasource', 'YearMade', 'saleYear', 'saleMonth', 'saleWeek', 'saleDay', 'saleDayofweek', 'saleDayofyear', 'saleElapsed'], float64: ['SalePrice', 'auctioneerID', 'MachineHoursCurrentMeter'], datetime64[ns]: ['saledate'], bool: ['saleIs_month_end', 'saleIs_month_start', 'saleIs_quarter_end', 'saleIs_quarter_start', 'saleIs_year_end', 'saleIs_year_start'], object: ['UsageBand', 'fiModelDesc', 'fiBaseModel', 'fiSecondaryDesc', 'fiModelSeries', 'fiModelDescriptor', 'ProductSize', 'fiProductClassDesc', 'state', 'ProductGroup', 'ProductGroupDesc', 'Drive_System', 'Enclosure', 'Forks', 'Pad_Type', 'Ride_Control', 'Stick', 'Transmission', 'Turbocharged', 'Blade_Extension', 'Blade_Width', 'Enclosure_Type', 'Engine_Horsepower', 'Hydraulics', 'Pushblock', 'Ripper', 'Scarifier', 'Tip_Control', 'Tire_Size', 'Coupler', 'Coupler_System', 'Grouser_Tracks', 'Hydraulics_Flow', 'Track_Type', 'Undercarriage_Pad_Width', 'Stick_Length', 'Thumb', 'Pattern_Changer', 'Grouser_Type', 'Backhoe_Mounting', 'Blade_Type', 'Travel_Controls', 'Differential_Type', 'Steering_Controls']}"
            ]
          },
          "metadata": {
            "tags": []
          },
          "execution_count": 15
        }
      ]
    },
    {
      "cell_type": "code",
      "metadata": {
        "id": "pAhASa3NMVfv"
      },
      "source": [
        "cat_vars = ['SalesID', 'YearMade', 'MachineID', 'ModelID', 'datasource', 'auctioneerID', 'UsageBand', 'fiModelDesc', 'fiBaseModel', 'fiSecondaryDesc', 'fiModelSeries', 'fiModelDescriptor', 'ProductSize', \n",
        "            'fiProductClassDesc', 'state', 'ProductGroup', 'ProductGroupDesc', 'Drive_System', 'Enclosure', 'Forks', 'Pad_Type', 'Ride_Control', 'Stick', 'Transmission', 'Turbocharged', 'Blade_Extension', \n",
        "            'Blade_Width', 'Enclosure_Type', 'Engine_Horsepower', 'Hydraulics', 'Pushblock', 'Ripper', 'Scarifier', 'Tip_Control', 'Tire_Size', 'Coupler', 'Coupler_System', 'Grouser_Tracks', 'Hydraulics_Flow', \n",
        "            'Track_Type', 'Undercarriage_Pad_Width', 'Stick_Length', 'Thumb', 'Pattern_Changer', 'Grouser_Type', 'Backhoe_Mounting', 'Blade_Type', 'Travel_Controls', 'Differential_Type', 'Steering_Controls', \n",
        "            'saleYear', 'saleMonth', 'saleWeek', 'saleDay', 'saleDayofweek', 'saleDayofyear', 'saleIs_month_end', 'saleIs_month_start', 'saleIs_quarter_end', 'saleIs_quarter_start', 'saleIs_year_end', \n",
        "            'saleIs_year_start'\n",
        "           ]\n",
        "cont_names = [\"MachineHoursCurrentMeter\", \"saleElapsed\"]\n",
        "dep_var = 'SalePrice' \n",
        "\n",
        "# final df\n",
        "\n",
        "df = train_df[cat_vars + cont_names + [dep_var, 'saledate']].copy()"
      ],
      "execution_count": 16,
      "outputs": []
    },
    {
      "cell_type": "markdown",
      "metadata": {
        "id": "f5IGJl3Fxg6f"
      },
      "source": [
        "# create Valid Set and make sure that dates are AFTER train-set\n",
        "\n",
        "warum nicht das eigentlich valid_df nutzen ?"
      ]
    },
    {
      "cell_type": "code",
      "metadata": {
        "colab": {
          "base_uri": "https://localhost:8080/"
        },
        "id": "leznDNAtxHCC",
        "outputId": "e9d759e5-c9f3-4681-e05a-e766d22a080e"
      },
      "source": [
        "test_df['saledate'].min(), test_df['saledate'].max()"
      ],
      "execution_count": 17,
      "outputs": [
        {
          "output_type": "execute_result",
          "data": {
            "text/plain": [
              "(Timestamp('2012-05-01 00:00:00'), Timestamp('2012-11-16 00:00:00'))"
            ]
          },
          "metadata": {
            "tags": []
          },
          "execution_count": 17
        }
      ]
    },
    {
      "cell_type": "code",
      "metadata": {
        "colab": {
          "base_uri": "https://localhost:8080/"
        },
        "id": "V3QN3PW4xdjG",
        "outputId": "4e66bfbd-63d5-40f1-c346-825d655c730d"
      },
      "source": [
        "valid_df['saledate'].max(), valid_df['saledate'].min()"
      ],
      "execution_count": 18,
      "outputs": [
        {
          "output_type": "execute_result",
          "data": {
            "text/plain": [
              "(Timestamp('2012-04-28 00:00:00'), Timestamp('2012-01-01 00:00:00'))"
            ]
          },
          "metadata": {
            "tags": []
          },
          "execution_count": 18
        }
      ]
    },
    {
      "cell_type": "code",
      "metadata": {
        "colab": {
          "base_uri": "https://localhost:8080/"
        },
        "id": "5LPvCk_6xG8i",
        "outputId": "9f07e01c-0951-47e9-80f8-ac7e7af3e9d2"
      },
      "source": [
        "train_df['saledate'].max()"
      ],
      "execution_count": 19,
      "outputs": [
        {
          "output_type": "execute_result",
          "data": {
            "text/plain": [
              "Timestamp('2011-12-30 00:00:00')"
            ]
          },
          "metadata": {
            "tags": []
          },
          "execution_count": 19
        }
      ]
    },
    {
      "cell_type": "code",
      "metadata": {
        "colab": {
          "base_uri": "https://localhost:8080/"
        },
        "id": "MVTrYbHkxGw7",
        "outputId": "8cc26712-4c8b-4065-917b-d87eaf808832"
      },
      "source": [
        "# to learn\n",
        "cut = train_df['saledate'][(train_df['saledate'] == train_df['saledate'][len(test_df)])].index.max()\n",
        "cut"
      ],
      "execution_count": 20,
      "outputs": [
        {
          "output_type": "execute_result",
          "data": {
            "text/plain": [
              "12621"
            ]
          },
          "metadata": {
            "tags": []
          },
          "execution_count": 20
        }
      ]
    },
    {
      "cell_type": "code",
      "metadata": {
        "colab": {
          "base_uri": "https://localhost:8080/"
        },
        "id": "YG7XDBGZxGth",
        "outputId": "d33683d2-f270-4b6c-d451-e02eecf6f511"
      },
      "source": [
        "len(test_df)"
      ],
      "execution_count": 21,
      "outputs": [
        {
          "output_type": "execute_result",
          "data": {
            "text/plain": [
              "12457"
            ]
          },
          "metadata": {
            "tags": []
          },
          "execution_count": 21
        }
      ]
    },
    {
      "cell_type": "code",
      "metadata": {
        "colab": {
          "base_uri": "https://localhost:8080/"
        },
        "id": "8RNK7O09zaNH",
        "outputId": "61f3e0fe-1b0d-4099-b4ac-d977ac707f4f"
      },
      "source": [
        "valid_idx = range(cut)\n",
        "valid_idx"
      ],
      "execution_count": 22,
      "outputs": [
        {
          "output_type": "execute_result",
          "data": {
            "text/plain": [
              "range(0, 12621)"
            ]
          },
          "metadata": {
            "tags": []
          },
          "execution_count": 22
        }
      ]
    },
    {
      "cell_type": "code",
      "metadata": {
        "id": "l-jK00NKIvQZ"
      },
      "source": [
        "# DataBunch\n",
        "\n",
        "data = (TabularList\n",
        "        .from_df(df, path= path, cont_names=cont_names, cat_names=cat_vars, procs=procs)\n",
        "        .split_by_idx(valid_idx)\n",
        "        .label_from_df(cols=dep_var, label_cls = FloatList).\n",
        "        databunch())\n",
        "\n",
        "# notes:\n",
        "# label_from_df with label_cls=Floatlist so autom. regression\n",
        "# no test_set added (probably since only now, after competition ended test_set availabel)\n",
        "# maybe same for valid ?"
      ],
      "execution_count": 23,
      "outputs": []
    },
    {
      "cell_type": "code",
      "metadata": {
        "colab": {
          "base_uri": "https://localhost:8080/",
          "height": 224
        },
        "id": "lur0NBpc1u_P",
        "outputId": "5f0bcf6d-465f-45dc-825d-8a53c3cc2b71"
      },
      "source": [
        "data.show_batch(3)"
      ],
      "execution_count": 24,
      "outputs": [
        {
          "output_type": "display_data",
          "data": {
            "text/html": [
              "<table border=\"1\" class=\"dataframe\">\n",
              "  <thead>\n",
              "    <tr style=\"text-align: right;\">\n",
              "      <th>SalesID</th>\n",
              "      <th>YearMade</th>\n",
              "      <th>MachineID</th>\n",
              "      <th>ModelID</th>\n",
              "      <th>datasource</th>\n",
              "      <th>auctioneerID</th>\n",
              "      <th>UsageBand</th>\n",
              "      <th>fiModelDesc</th>\n",
              "      <th>fiBaseModel</th>\n",
              "      <th>fiSecondaryDesc</th>\n",
              "      <th>fiModelSeries</th>\n",
              "      <th>fiModelDescriptor</th>\n",
              "      <th>ProductSize</th>\n",
              "      <th>fiProductClassDesc</th>\n",
              "      <th>state</th>\n",
              "      <th>ProductGroup</th>\n",
              "      <th>ProductGroupDesc</th>\n",
              "      <th>Drive_System</th>\n",
              "      <th>Enclosure</th>\n",
              "      <th>Forks</th>\n",
              "      <th>Pad_Type</th>\n",
              "      <th>Ride_Control</th>\n",
              "      <th>Stick</th>\n",
              "      <th>Transmission</th>\n",
              "      <th>Turbocharged</th>\n",
              "      <th>Blade_Extension</th>\n",
              "      <th>Blade_Width</th>\n",
              "      <th>Enclosure_Type</th>\n",
              "      <th>Engine_Horsepower</th>\n",
              "      <th>Hydraulics</th>\n",
              "      <th>Pushblock</th>\n",
              "      <th>Ripper</th>\n",
              "      <th>Scarifier</th>\n",
              "      <th>Tip_Control</th>\n",
              "      <th>Tire_Size</th>\n",
              "      <th>Coupler</th>\n",
              "      <th>Coupler_System</th>\n",
              "      <th>Grouser_Tracks</th>\n",
              "      <th>Hydraulics_Flow</th>\n",
              "      <th>Track_Type</th>\n",
              "      <th>Undercarriage_Pad_Width</th>\n",
              "      <th>Stick_Length</th>\n",
              "      <th>Thumb</th>\n",
              "      <th>Pattern_Changer</th>\n",
              "      <th>Grouser_Type</th>\n",
              "      <th>Backhoe_Mounting</th>\n",
              "      <th>Blade_Type</th>\n",
              "      <th>Travel_Controls</th>\n",
              "      <th>Differential_Type</th>\n",
              "      <th>Steering_Controls</th>\n",
              "      <th>saleYear</th>\n",
              "      <th>saleMonth</th>\n",
              "      <th>saleWeek</th>\n",
              "      <th>saleDay</th>\n",
              "      <th>saleDayofweek</th>\n",
              "      <th>saleDayofyear</th>\n",
              "      <th>saleIs_month_end</th>\n",
              "      <th>saleIs_month_start</th>\n",
              "      <th>saleIs_quarter_end</th>\n",
              "      <th>saleIs_quarter_start</th>\n",
              "      <th>saleIs_year_end</th>\n",
              "      <th>saleIs_year_start</th>\n",
              "      <th>MachineHoursCurrentMeter_na</th>\n",
              "      <th>MachineHoursCurrentMeter</th>\n",
              "      <th>saleElapsed</th>\n",
              "      <th>target</th>\n",
              "    </tr>\n",
              "  </thead>\n",
              "  <tbody>\n",
              "    <tr>\n",
              "      <td>1658658</td>\n",
              "      <td>1000</td>\n",
              "      <td>1355281</td>\n",
              "      <td>4956</td>\n",
              "      <td>132</td>\n",
              "      <td>6.0</td>\n",
              "      <td>#na#</td>\n",
              "      <td>645B</td>\n",
              "      <td>645</td>\n",
              "      <td>B</td>\n",
              "      <td>#na#</td>\n",
              "      <td>#na#</td>\n",
              "      <td>Medium</td>\n",
              "      <td>Wheel Loader - 135.0 to 150.0 Horsepower</td>\n",
              "      <td>Kentucky</td>\n",
              "      <td>WL</td>\n",
              "      <td>Wheel Loader</td>\n",
              "      <td>#na#</td>\n",
              "      <td>EROPS</td>\n",
              "      <td>Yes</td>\n",
              "      <td>#na#</td>\n",
              "      <td>None or Unspecified</td>\n",
              "      <td>#na#</td>\n",
              "      <td>#na#</td>\n",
              "      <td>#na#</td>\n",
              "      <td>#na#</td>\n",
              "      <td>#na#</td>\n",
              "      <td>#na#</td>\n",
              "      <td>#na#</td>\n",
              "      <td>2 Valve</td>\n",
              "      <td>#na#</td>\n",
              "      <td>#na#</td>\n",
              "      <td>#na#</td>\n",
              "      <td>#na#</td>\n",
              "      <td>None or Unspecified</td>\n",
              "      <td>None or Unspecified</td>\n",
              "      <td>#na#</td>\n",
              "      <td>#na#</td>\n",
              "      <td>#na#</td>\n",
              "      <td>#na#</td>\n",
              "      <td>#na#</td>\n",
              "      <td>#na#</td>\n",
              "      <td>#na#</td>\n",
              "      <td>#na#</td>\n",
              "      <td>#na#</td>\n",
              "      <td>#na#</td>\n",
              "      <td>#na#</td>\n",
              "      <td>#na#</td>\n",
              "      <td>Standard</td>\n",
              "      <td>Conventional</td>\n",
              "      <td>1994</td>\n",
              "      <td>12</td>\n",
              "      <td>50</td>\n",
              "      <td>12</td>\n",
              "      <td>0</td>\n",
              "      <td>346</td>\n",
              "      <td>False</td>\n",
              "      <td>False</td>\n",
              "      <td>False</td>\n",
              "      <td>False</td>\n",
              "      <td>False</td>\n",
              "      <td>False</td>\n",
              "      <td>True</td>\n",
              "      <td>-0.0709</td>\n",
              "      <td>-1.6506</td>\n",
              "      <td>9.581903</td>\n",
              "    </tr>\n",
              "    <tr>\n",
              "      <td>1431685</td>\n",
              "      <td>1996</td>\n",
              "      <td>70766</td>\n",
              "      <td>1263</td>\n",
              "      <td>132</td>\n",
              "      <td>8.0</td>\n",
              "      <td>#na#</td>\n",
              "      <td>330BL</td>\n",
              "      <td>330</td>\n",
              "      <td>B</td>\n",
              "      <td>#na#</td>\n",
              "      <td>L</td>\n",
              "      <td>Large / Medium</td>\n",
              "      <td>Hydraulic Excavator, Track - 33.0 to 40.0 Metric Tons</td>\n",
              "      <td>Tennessee</td>\n",
              "      <td>TEX</td>\n",
              "      <td>Track Excavators</td>\n",
              "      <td>#na#</td>\n",
              "      <td>EROPS</td>\n",
              "      <td>#na#</td>\n",
              "      <td>#na#</td>\n",
              "      <td>#na#</td>\n",
              "      <td>#na#</td>\n",
              "      <td>#na#</td>\n",
              "      <td>#na#</td>\n",
              "      <td>#na#</td>\n",
              "      <td>#na#</td>\n",
              "      <td>#na#</td>\n",
              "      <td>#na#</td>\n",
              "      <td>Standard</td>\n",
              "      <td>#na#</td>\n",
              "      <td>#na#</td>\n",
              "      <td>#na#</td>\n",
              "      <td>#na#</td>\n",
              "      <td>#na#</td>\n",
              "      <td>None or Unspecified</td>\n",
              "      <td>#na#</td>\n",
              "      <td>#na#</td>\n",
              "      <td>#na#</td>\n",
              "      <td>Steel</td>\n",
              "      <td>None or Unspecified</td>\n",
              "      <td>None or Unspecified</td>\n",
              "      <td>None or Unspecified</td>\n",
              "      <td>None or Unspecified</td>\n",
              "      <td>Double</td>\n",
              "      <td>#na#</td>\n",
              "      <td>#na#</td>\n",
              "      <td>#na#</td>\n",
              "      <td>#na#</td>\n",
              "      <td>#na#</td>\n",
              "      <td>2003</td>\n",
              "      <td>6</td>\n",
              "      <td>25</td>\n",
              "      <td>19</td>\n",
              "      <td>3</td>\n",
              "      <td>170</td>\n",
              "      <td>False</td>\n",
              "      <td>False</td>\n",
              "      <td>False</td>\n",
              "      <td>False</td>\n",
              "      <td>False</td>\n",
              "      <td>False</td>\n",
              "      <td>True</td>\n",
              "      <td>-0.0709</td>\n",
              "      <td>-0.1559</td>\n",
              "      <td>11.156251</td>\n",
              "    </tr>\n",
              "    <tr>\n",
              "      <td>2412338</td>\n",
              "      <td>1000</td>\n",
              "      <td>1484792</td>\n",
              "      <td>603</td>\n",
              "      <td>136</td>\n",
              "      <td>2.0</td>\n",
              "      <td>#na#</td>\n",
              "      <td>WA320-1</td>\n",
              "      <td>WA320</td>\n",
              "      <td>#na#</td>\n",
              "      <td>-1</td>\n",
              "      <td>#na#</td>\n",
              "      <td>Medium</td>\n",
              "      <td>Wheel Loader - 150.0 to 175.0 Horsepower</td>\n",
              "      <td>Massachusetts</td>\n",
              "      <td>WL</td>\n",
              "      <td>Wheel Loader</td>\n",
              "      <td>#na#</td>\n",
              "      <td>EROPS</td>\n",
              "      <td>None or Unspecified</td>\n",
              "      <td>#na#</td>\n",
              "      <td>None or Unspecified</td>\n",
              "      <td>#na#</td>\n",
              "      <td>#na#</td>\n",
              "      <td>#na#</td>\n",
              "      <td>#na#</td>\n",
              "      <td>#na#</td>\n",
              "      <td>#na#</td>\n",
              "      <td>#na#</td>\n",
              "      <td>2 Valve</td>\n",
              "      <td>#na#</td>\n",
              "      <td>#na#</td>\n",
              "      <td>#na#</td>\n",
              "      <td>#na#</td>\n",
              "      <td>20.5</td>\n",
              "      <td>None or Unspecified</td>\n",
              "      <td>#na#</td>\n",
              "      <td>#na#</td>\n",
              "      <td>#na#</td>\n",
              "      <td>#na#</td>\n",
              "      <td>#na#</td>\n",
              "      <td>#na#</td>\n",
              "      <td>#na#</td>\n",
              "      <td>#na#</td>\n",
              "      <td>#na#</td>\n",
              "      <td>#na#</td>\n",
              "      <td>#na#</td>\n",
              "      <td>#na#</td>\n",
              "      <td>Standard</td>\n",
              "      <td>Conventional</td>\n",
              "      <td>2009</td>\n",
              "      <td>9</td>\n",
              "      <td>37</td>\n",
              "      <td>12</td>\n",
              "      <td>5</td>\n",
              "      <td>255</td>\n",
              "      <td>False</td>\n",
              "      <td>False</td>\n",
              "      <td>False</td>\n",
              "      <td>False</td>\n",
              "      <td>False</td>\n",
              "      <td>False</td>\n",
              "      <td>False</td>\n",
              "      <td>-0.0709</td>\n",
              "      <td>0.9380</td>\n",
              "      <td>10.126631</td>\n",
              "    </tr>\n",
              "  </tbody>\n",
              "</table>"
            ],
            "text/plain": [
              "<IPython.core.display.HTML object>"
            ]
          },
          "metadata": {
            "tags": []
          }
        }
      ]
    },
    {
      "cell_type": "markdown",
      "metadata": {
        "id": "riMsK7MKIgqw"
      },
      "source": [
        "## 3. Model\n",
        "\n",
        "1. Build\n",
        "\n",
        "y_range, layers, (tensor), dropout, emb_drop, metrics\n",
        "\n",
        "2. Train\n",
        "3. Fine-tune\n"
      ]
    },
    {
      "cell_type": "code",
      "metadata": {
        "colab": {
          "base_uri": "https://localhost:8080/"
        },
        "id": "w9yf7pVOInFE",
        "outputId": "057d6def-fd68-4a60-be07-473b1fee5320"
      },
      "source": [
        "y_range_max = df.SalePrice.max() * 1.2\n",
        "y_range = torch.tensor([0, y_range_max], device=defaults.device)\n",
        "y_range"
      ],
      "execution_count": 25,
      "outputs": [
        {
          "output_type": "execute_result",
          "data": {
            "text/plain": [
              "tensor([ 0.0000, 14.2363])"
            ]
          },
          "metadata": {
            "tags": []
          },
          "execution_count": 25
        }
      ]
    },
    {
      "cell_type": "code",
      "metadata": {
        "id": "66fYr_de2zwK"
      },
      "source": [
        "\n",
        "learn = tabular_learner(data, layers=[1000, 500], ps=[1e-3, 1e-2],\n",
        "                        emb_drop=0.04, y_range= y_range, metrics = rmse)\n",
        "# learn.model"
      ],
      "execution_count": 26,
      "outputs": []
    },
    {
      "cell_type": "code",
      "metadata": {
        "colab": {
          "base_uri": "https://localhost:8080/",
          "height": 372
        },
        "id": "9ZJoCZVH4Qq5",
        "outputId": "4746b858-2d1a-4561-c741-6ef9d74ac5c1"
      },
      "source": [
        "# Train\n",
        "\n",
        "learn.lr_find()"
      ],
      "execution_count": 26,
      "outputs": [
        {
          "output_type": "display_data",
          "data": {
            "text/html": [
              "\n",
              "    <div>\n",
              "        <style>\n",
              "            /* Turns off some styling */\n",
              "            progress {\n",
              "                /* gets rid of default border in Firefox and Opera. */\n",
              "                border: none;\n",
              "                /* Needs to be in here for Safari polyfill so background images work as expected. */\n",
              "                background-size: auto;\n",
              "            }\n",
              "            .progress-bar-interrupted, .progress-bar-interrupted::-webkit-progress-bar {\n",
              "                background: #F44336;\n",
              "            }\n",
              "        </style>\n",
              "      <progress value='0' class='' max='1' style='width:300px; height:20px; vertical-align: middle;'></progress>\n",
              "      0.00% [0/1 00:00<00:00]\n",
              "    </div>\n",
              "    \n",
              "<table border=\"1\" class=\"dataframe\">\n",
              "  <thead>\n",
              "    <tr style=\"text-align: left;\">\n",
              "      <th>epoch</th>\n",
              "      <th>train_loss</th>\n",
              "      <th>valid_loss</th>\n",
              "      <th>root_mean_squared_error</th>\n",
              "      <th>time</th>\n",
              "    </tr>\n",
              "  </thead>\n",
              "  <tbody>\n",
              "  </tbody>\n",
              "</table><p>\n",
              "\n",
              "    <div>\n",
              "        <style>\n",
              "            /* Turns off some styling */\n",
              "            progress {\n",
              "                /* gets rid of default border in Firefox and Opera. */\n",
              "                border: none;\n",
              "                /* Needs to be in here for Safari polyfill so background images work as expected. */\n",
              "                background-size: auto;\n",
              "            }\n",
              "            .progress-bar-interrupted, .progress-bar-interrupted::-webkit-progress-bar {\n",
              "                background: #F44336;\n",
              "            }\n",
              "        </style>\n",
              "      <progress value='99' class='' max='6070' style='width:300px; height:20px; vertical-align: middle;'></progress>\n",
              "      1.63% [99/6070 00:21<21:30 13.9269]\n",
              "    </div>\n",
              "    "
            ],
            "text/plain": [
              "<IPython.core.display.HTML object>"
            ]
          },
          "metadata": {
            "tags": []
          }
        },
        {
          "output_type": "stream",
          "text": [
            "LR Finder is complete, type {learner_name}.recorder.plot() to see the graph.\n"
          ],
          "name": "stdout"
        },
        {
          "output_type": "display_data",
          "data": {
            "image/png": "[encoded data removed]",
            "text/plain": [
              "<Figure size 432x288 with 1 Axes>"
            ]
          },
          "metadata": {
            "tags": [],
            "needs_background": "light"
          }
        }
      ]
    },
    {
      "cell_type": "code",
      "metadata": {
        "id": "0DS041kIHDbh"
      },
      "source": [
        "learn.recorder.plot(suggesstion=True)"
      ],
      "execution_count": null,
      "outputs": []
    },
    {
      "cell_type": "code",
      "metadata": {
        "colab": {
          "base_uri": "https://localhost:8080/",
          "height": 107
        },
        "id": "T8wbaBdI4YkX",
        "outputId": "88f1140a-1ee2-4207-b483-564a0a366939"
      },
      "source": [
        "lr_rate = 1e-2\n",
        "learn.fit_one_cycle(2, lr_rate, wd=0.2, cbs=[SaveModelCallback(every_epoch=True, fname='bulldozer_stage1',\n",
        "                                              ])"
      ],
      "execution_count": 27,
      "outputs": [
        {
          "output_type": "display_data",
          "data": {
            "text/html": [
              "<table border=\"1\" class=\"dataframe\">\n",
              "  <thead>\n",
              "    <tr style=\"text-align: left;\">\n",
              "      <th>epoch</th>\n",
              "      <th>train_loss</th>\n",
              "      <th>valid_loss</th>\n",
              "      <th>root_mean_squared_error</th>\n",
              "      <th>time</th>\n",
              "    </tr>\n",
              "  </thead>\n",
              "  <tbody>\n",
              "    <tr>\n",
              "      <td>0</td>\n",
              "      <td>0.091379</td>\n",
              "      <td>0.076238</td>\n",
              "      <td>0.271652</td>\n",
              "      <td>21:17</td>\n",
              "    </tr>\n",
              "    <tr>\n",
              "      <td>1</td>\n",
              "      <td>0.053447</td>\n",
              "      <td>0.055794</td>\n",
              "      <td>0.232779</td>\n",
              "      <td>21:18</td>\n",
              "    </tr>\n",
              "  </tbody>\n",
              "</table>"
            ],
            "text/plain": [
              "<IPython.core.display.HTML object>"
            ]
          },
          "metadata": {
            "tags": []
          }
        }
      ]
    },
    {
      "cell_type": "code",
      "metadata": {
        "id": "gbZDHKli4YgU"
      },
      "source": [
        "learn.save('1')"
      ],
      "execution_count": 28,
      "outputs": []
    },
    {
      "cell_type": "code",
      "metadata": {
        "colab": {
          "base_uri": "https://localhost:8080/"
        },
        "id": "unSh5lJhXSDk",
        "outputId": "35990e56-2775-435e-b8f9-bbc0525b8993"
      },
      "source": [
        "learn.load('1')"
      ],
      "execution_count": 27,
      "outputs": [
        {
          "output_type": "execute_result",
          "data": {
            "text/plain": [
              "Learner(data=TabularDataBunch;\n",
              "\n",
              "Train: LabelList (388504 items)\n",
              "x: TabularList\n",
              "SalesID 6273731; YearMade 2003; MachineID 787126; ModelID 3460; datasource 149; auctioneerID 1.0; UsageBand #na#; fiModelDesc 307C; fiBaseModel 307; fiSecondaryDesc C; fiModelSeries #na#; fiModelDescriptor #na#; ProductSize Mini; fiProductClassDesc Hydraulic Excavator, Track - 6.0 to 8.0 Metric Tons; state Florida; ProductGroup TEX; ProductGroupDesc Track Excavators; Drive_System #na#; Enclosure EROPS w AC; Forks #na#; Pad_Type #na#; Ride_Control #na#; Stick #na#; Transmission #na#; Turbocharged #na#; Blade_Extension #na#; Blade_Width #na#; Enclosure_Type #na#; Engine_Horsepower #na#; Hydraulics Standard; Pushblock #na#; Ripper #na#; Scarifier #na#; Tip_Control #na#; Tire_Size #na#; Coupler None or Unspecified; Coupler_System #na#; Grouser_Tracks #na#; Hydraulics_Flow #na#; Track_Type Rubber; Undercarriage_Pad_Width None or Unspecified; Stick_Length None or Unspecified; Thumb None or Unspecified; Pattern_Changer None or Unspecified; Grouser_Type Double; Backhoe_Mounting #na#; Blade_Type #na#; Travel_Controls #na#; Differential_Type #na#; Steering_Controls #na#; saleYear 2011; saleMonth 8; saleWeek 33; saleDay 17; saleDayofweek 2; saleDayofyear 229; saleIs_month_end False; saleIs_month_start False; saleIs_quarter_end False; saleIs_quarter_start False; saleIs_year_end False; saleIs_year_start False; MachineHoursCurrentMeter_na True; MachineHoursCurrentMeter -0.0709; saleElapsed 1.2763; ,SalesID 4393492; YearMade 2006; MachineID 2278474; ModelID 5857; datasource 172; auctioneerID 1.0; UsageBand Low; fiModelDesc EC55B     ; fiBaseModel EC55; fiSecondaryDesc B     ; fiModelSeries #na#; fiModelDescriptor #na#; ProductSize Mini; fiProductClassDesc Hydraulic Excavator, Track - 5.0 to 6.0 Metric Tons; state Florida; ProductGroup TEX; ProductGroupDesc Track Excavators; Drive_System #na#; Enclosure EROPS w AC; Forks #na#; Pad_Type #na#; Ride_Control #na#; Stick #na#; Transmission #na#; Turbocharged #na#; Blade_Extension #na#; Blade_Width #na#; Enclosure_Type #na#; Engine_Horsepower #na#; Hydraulics Auxiliary; Pushblock #na#; Ripper #na#; Scarifier #na#; Tip_Control #na#; Tire_Size #na#; Coupler None or Unspecified; Coupler_System #na#; Grouser_Tracks #na#; Hydraulics_Flow #na#; Track_Type Rubber; Undercarriage_Pad_Width None or Unspecified; Stick_Length None or Unspecified; Thumb None or Unspecified; Pattern_Changer None or Unspecified; Grouser_Type Double; Backhoe_Mounting #na#; Blade_Type #na#; Travel_Controls #na#; Differential_Type #na#; Steering_Controls #na#; saleYear 2011; saleMonth 8; saleWeek 33; saleDay 16; saleDayofweek 1; saleDayofyear 228; saleIs_month_end False; saleIs_month_start False; saleIs_quarter_end False; saleIs_quarter_start False; saleIs_year_end False; saleIs_year_start False; MachineHoursCurrentMeter_na False; MachineHoursCurrentMeter 0.0493; saleElapsed 1.2758; ,SalesID 4393792; YearMade 1998; MachineID 2276099; ModelID 5864; datasource 172; auctioneerID 1.0; UsageBand Medium; fiModelDesc L120C; fiBaseModel L120; fiSecondaryDesc C; fiModelSeries #na#; fiModelDescriptor #na#; ProductSize Medium; fiProductClassDesc Wheel Loader - 200.0 to 225.0 Horsepower; state Florida; ProductGroup WL; ProductGroupDesc Wheel Loader; Drive_System #na#; Enclosure EROPS w AC; Forks Yes; Pad_Type #na#; Ride_Control Yes; Stick #na#; Transmission #na#; Turbocharged #na#; Blade_Extension #na#; Blade_Width #na#; Enclosure_Type #na#; Engine_Horsepower #na#; Hydraulics 2 Valve; Pushblock #na#; Ripper #na#; Scarifier #na#; Tip_Control #na#; Tire_Size 23.5; Coupler None or Unspecified; Coupler_System #na#; Grouser_Tracks #na#; Hydraulics_Flow #na#; Track_Type #na#; Undercarriage_Pad_Width #na#; Stick_Length #na#; Thumb #na#; Pattern_Changer #na#; Grouser_Type #na#; Backhoe_Mounting #na#; Blade_Type #na#; Travel_Controls #na#; Differential_Type Standard; Steering_Controls Conventional; saleYear 2011; saleMonth 8; saleWeek 33; saleDay 16; saleDayofweek 1; saleDayofyear 228; saleIs_month_end False; saleIs_month_start False; saleIs_quarter_end False; saleIs_quarter_start False; saleIs_year_end False; saleIs_year_start False; MachineHoursCurrentMeter_na False; MachineHoursCurrentMeter 0.8489; saleElapsed 1.2758; ,SalesID 4268613; YearMade 2001; MachineID 1940508; ModelID 3824; datasource 172; auctioneerID 1.0; UsageBand Low; fiModelDesc 950G; fiBaseModel 950; fiSecondaryDesc G; fiModelSeries #na#; fiModelDescriptor #na#; ProductSize Medium; fiProductClassDesc Wheel Loader - 175.0 to 200.0 Horsepower; state Florida; ProductGroup WL; ProductGroupDesc Wheel Loader; Drive_System #na#; Enclosure EROPS w AC; Forks None or Unspecified; Pad_Type #na#; Ride_Control Yes; Stick #na#; Transmission #na#; Turbocharged #na#; Blade_Extension #na#; Blade_Width #na#; Enclosure_Type #na#; Engine_Horsepower #na#; Hydraulics 2 Valve; Pushblock #na#; Ripper #na#; Scarifier #na#; Tip_Control #na#; Tire_Size 20.5; Coupler Manual; Coupler_System #na#; Grouser_Tracks #na#; Hydraulics_Flow #na#; Track_Type #na#; Undercarriage_Pad_Width #na#; Stick_Length #na#; Thumb #na#; Pattern_Changer #na#; Grouser_Type #na#; Backhoe_Mounting #na#; Blade_Type #na#; Travel_Controls #na#; Differential_Type Standard; Steering_Controls Conventional; saleYear 2011; saleMonth 8; saleWeek 33; saleDay 16; saleDayofweek 1; saleDayofyear 228; saleIs_month_end False; saleIs_month_start False; saleIs_quarter_end False; saleIs_quarter_start False; saleIs_year_end False; saleIs_year_start False; MachineHoursCurrentMeter_na False; MachineHoursCurrentMeter 0.1347; saleElapsed 1.2758; ,SalesID 6265006; YearMade 1986; MachineID 1704335; ModelID 4148; datasource 149; auctioneerID 2.0; UsageBand #na#; fiModelDesc D8L; fiBaseModel D8; fiSecondaryDesc L; fiModelSeries #na#; fiModelDescriptor #na#; ProductSize Large; fiProductClassDesc Track Type Tractor, Dozer - 260.0 + Horsepower; state Florida; ProductGroup TTT; ProductGroupDesc Track Type Tractors; Drive_System #na#; Enclosure OROPS; Forks #na#; Pad_Type #na#; Ride_Control #na#; Stick #na#; Transmission Standard; Turbocharged #na#; Blade_Extension #na#; Blade_Width #na#; Enclosure_Type #na#; Engine_Horsepower #na#; Hydraulics 2 Valve; Pushblock #na#; Ripper None or Unspecified; Scarifier #na#; Tip_Control #na#; Tire_Size #na#; Coupler #na#; Coupler_System #na#; Grouser_Tracks #na#; Hydraulics_Flow #na#; Track_Type #na#; Undercarriage_Pad_Width #na#; Stick_Length #na#; Thumb #na#; Pattern_Changer #na#; Grouser_Type #na#; Backhoe_Mounting None or Unspecified; Blade_Type Semi U; Travel_Controls None or Unspecified; Differential_Type #na#; Steering_Controls #na#; saleYear 2011; saleMonth 8; saleWeek 33; saleDay 16; saleDayofweek 1; saleDayofyear 228; saleIs_month_end False; saleIs_month_start False; saleIs_quarter_end False; saleIs_quarter_start False; saleIs_year_end False; saleIs_year_start False; MachineHoursCurrentMeter_na True; MachineHoursCurrentMeter -0.0709; saleElapsed 1.2758; \n",
              "y: FloatList\n",
              "10.165852,9.952278,10.714417,11.066638,10.950807\n",
              "Path: /content/drive/My Drive/Colab Notebooks/kaggle/Bulldozer;\n",
              "\n",
              "Valid: LabelList (12621 items)\n",
              "x: TabularList\n",
              "SalesID #na#; YearMade 1000; MachineID #na#; ModelID 7624; datasource 149; auctioneerID 2.0; UsageBand #na#; fiModelDesc IT28; fiBaseModel IT28; fiSecondaryDesc #na#; fiModelSeries #na#; fiModelDescriptor #na#; ProductSize #na#; fiProductClassDesc Wheel Loader - 100.0 to 110.0 Horsepower; state New York; ProductGroup WL; ProductGroupDesc Wheel Loader; Drive_System #na#; Enclosure EROPS w AC; Forks None or Unspecified; Pad_Type #na#; Ride_Control None or Unspecified; Stick #na#; Transmission #na#; Turbocharged #na#; Blade_Extension #na#; Blade_Width #na#; Enclosure_Type #na#; Engine_Horsepower #na#; Hydraulics 3 Valve; Pushblock #na#; Ripper #na#; Scarifier #na#; Tip_Control #na#; Tire_Size None or Unspecified; Coupler None or Unspecified; Coupler_System #na#; Grouser_Tracks #na#; Hydraulics_Flow #na#; Track_Type #na#; Undercarriage_Pad_Width #na#; Stick_Length #na#; Thumb #na#; Pattern_Changer #na#; Grouser_Type #na#; Backhoe_Mounting #na#; Blade_Type #na#; Travel_Controls #na#; Differential_Type Standard; Steering_Controls Conventional; saleYear 2011; saleMonth 12; saleWeek 52; saleDay 30; saleDayofweek 4; saleDayofyear 364; saleIs_month_end False; saleIs_month_start False; saleIs_quarter_end False; saleIs_quarter_start False; saleIs_year_end False; saleIs_year_start False; MachineHoursCurrentMeter_na True; MachineHoursCurrentMeter -0.0709; saleElapsed 1.3411; ,SalesID #na#; YearMade 2005; MachineID #na#; ModelID 9580; datasource 149; auctioneerID 2.0; UsageBand #na#; fiModelDesc T190; fiBaseModel T190; fiSecondaryDesc #na#; fiModelSeries #na#; fiModelDescriptor #na#; ProductSize #na#; fiProductClassDesc Skid Steer Loader - 1751.0 to 2201.0 Lb Operating Capacity; state New York; ProductGroup SSL; ProductGroupDesc Skid Steer Loaders; Drive_System #na#; Enclosure OROPS; Forks None or Unspecified; Pad_Type #na#; Ride_Control #na#; Stick #na#; Transmission #na#; Turbocharged #na#; Blade_Extension #na#; Blade_Width #na#; Enclosure_Type #na#; Engine_Horsepower #na#; Hydraulics Auxiliary; Pushblock #na#; Ripper #na#; Scarifier #na#; Tip_Control #na#; Tire_Size #na#; Coupler None or Unspecified; Coupler_System None or Unspecified; Grouser_Tracks None or Unspecified; Hydraulics_Flow Standard; Track_Type #na#; Undercarriage_Pad_Width #na#; Stick_Length #na#; Thumb #na#; Pattern_Changer #na#; Grouser_Type #na#; Backhoe_Mounting #na#; Blade_Type #na#; Travel_Controls #na#; Differential_Type #na#; Steering_Controls #na#; saleYear 2011; saleMonth 12; saleWeek 52; saleDay 30; saleDayofweek 4; saleDayofyear 364; saleIs_month_end False; saleIs_month_start False; saleIs_quarter_end False; saleIs_quarter_start False; saleIs_year_end False; saleIs_year_start False; MachineHoursCurrentMeter_na True; MachineHoursCurrentMeter -0.0709; saleElapsed 1.3411; ,SalesID #na#; YearMade 1000; MachineID #na#; ModelID 43; datasource 149; auctioneerID 2.0; UsageBand #na#; fiModelDesc 416II; fiBaseModel 416; fiSecondaryDesc #na#; fiModelSeries II; fiModelDescriptor #na#; ProductSize #na#; fiProductClassDesc Backhoe Loader - 14.0 to 15.0 Ft Standard Digging Depth; state New York; ProductGroup BL; ProductGroupDesc Backhoe Loaders; Drive_System Two Wheel Drive; Enclosure EROPS; Forks None or Unspecified; Pad_Type None or Unspecified; Ride_Control No; Stick Standard; Transmission Standard; Turbocharged None or Unspecified; Blade_Extension #na#; Blade_Width #na#; Enclosure_Type #na#; Engine_Horsepower #na#; Hydraulics #na#; Pushblock #na#; Ripper #na#; Scarifier #na#; Tip_Control #na#; Tire_Size #na#; Coupler #na#; Coupler_System #na#; Grouser_Tracks #na#; Hydraulics_Flow #na#; Track_Type #na#; Undercarriage_Pad_Width #na#; Stick_Length #na#; Thumb #na#; Pattern_Changer #na#; Grouser_Type #na#; Backhoe_Mounting #na#; Blade_Type #na#; Travel_Controls #na#; Differential_Type #na#; Steering_Controls #na#; saleYear 2011; saleMonth 12; saleWeek 52; saleDay 30; saleDayofweek 4; saleDayofyear 364; saleIs_month_end False; saleIs_month_start False; saleIs_quarter_end False; saleIs_quarter_start False; saleIs_year_end False; saleIs_year_start False; MachineHoursCurrentMeter_na True; MachineHoursCurrentMeter -0.0709; saleElapsed 1.3411; ,SalesID #na#; YearMade 1000; MachineID #na#; ModelID 24719; datasource 149; auctioneerID 2.0; UsageBand #na#; fiModelDesc 436B; fiBaseModel 436; fiSecondaryDesc B; fiModelSeries #na#; fiModelDescriptor #na#; ProductSize Medium; fiProductClassDesc Wheel Loader - 175.0 to 200.0 Horsepower; state New York; ProductGroup WL; ProductGroupDesc Wheel Loader; Drive_System #na#; Enclosure EROPS w AC; Forks None or Unspecified; Pad_Type #na#; Ride_Control None or Unspecified; Stick #na#; Transmission #na#; Turbocharged #na#; Blade_Extension #na#; Blade_Width #na#; Enclosure_Type #na#; Engine_Horsepower #na#; Hydraulics 2 Valve; Pushblock #na#; Ripper #na#; Scarifier #na#; Tip_Control #na#; Tire_Size None or Unspecified; Coupler Manual; Coupler_System #na#; Grouser_Tracks #na#; Hydraulics_Flow #na#; Track_Type #na#; Undercarriage_Pad_Width #na#; Stick_Length #na#; Thumb #na#; Pattern_Changer #na#; Grouser_Type #na#; Backhoe_Mounting #na#; Blade_Type #na#; Travel_Controls #na#; Differential_Type Standard; Steering_Controls Conventional; saleYear 2011; saleMonth 12; saleWeek 52; saleDay 30; saleDayofweek 4; saleDayofyear 364; saleIs_month_end False; saleIs_month_start False; saleIs_quarter_end False; saleIs_quarter_start False; saleIs_year_end False; saleIs_year_start False; MachineHoursCurrentMeter_na True; MachineHoursCurrentMeter -0.0709; saleElapsed 1.3411; ,SalesID #na#; YearMade 2005; MachineID #na#; ModelID 15972; datasource 149; auctioneerID 2.0; UsageBand #na#; fiModelDesc 8080ZTS; fiBaseModel 8080; fiSecondaryDesc #na#; fiModelSeries #na#; fiModelDescriptor ZTS; ProductSize Small; fiProductClassDesc Hydraulic Excavator, Track - 8.0 to 11.0 Metric Tons; state New York; ProductGroup TEX; ProductGroupDesc Track Excavators; Drive_System #na#; Enclosure EROPS w AC; Forks #na#; Pad_Type #na#; Ride_Control #na#; Stick #na#; Transmission #na#; Turbocharged #na#; Blade_Extension #na#; Blade_Width #na#; Enclosure_Type #na#; Engine_Horsepower #na#; Hydraulics Auxiliary; Pushblock #na#; Ripper #na#; Scarifier #na#; Tip_Control #na#; Tire_Size #na#; Coupler None or Unspecified; Coupler_System #na#; Grouser_Tracks #na#; Hydraulics_Flow #na#; Track_Type Rubber; Undercarriage_Pad_Width None or Unspecified; Stick_Length None or Unspecified; Thumb None or Unspecified; Pattern_Changer None or Unspecified; Grouser_Type Double; Backhoe_Mounting #na#; Blade_Type #na#; Travel_Controls #na#; Differential_Type #na#; Steering_Controls #na#; saleYear 2011; saleMonth 12; saleWeek 52; saleDay 30; saleDayofweek 4; saleDayofyear 364; saleIs_month_end False; saleIs_month_start False; saleIs_quarter_end False; saleIs_quarter_start False; saleIs_year_end False; saleIs_year_start False; MachineHoursCurrentMeter_na True; MachineHoursCurrentMeter -0.0709; saleElapsed 1.3411; \n",
              "y: FloatList\n",
              "9.998797,9.305651,9.433484,10.221941,9.975808\n",
              "Path: /content/drive/My Drive/Colab Notebooks/kaggle/Bulldozer;\n",
              "\n",
              "Test: None, model=TabularModel(\n",
              "  (embeds): ModuleList(\n",
              "    (0): Embedding(388505, 600)\n",
              "    (1): Embedding(72, 18)\n",
              "    (2): Embedding(331868, 600)\n",
              "    (3): Embedding(5155, 192)\n",
              "    (4): Embedding(6, 4)\n",
              "    (5): Embedding(31, 11)\n",
              "    (6): Embedding(4, 3)\n",
              "    (7): Embedding(4939, 187)\n",
              "    (8): Embedding(1935, 111)\n",
              "    (9): Embedding(174, 29)\n",
              "    (10): Embedding(122, 24)\n",
              "    (11): Embedding(139, 25)\n",
              "    (12): Embedding(7, 5)\n",
              "    (13): Embedding(75, 18)\n",
              "    (14): Embedding(54, 15)\n",
              "    (15): Embedding(7, 5)\n",
              "    (16): Embedding(7, 5)\n",
              "    (17): Embedding(5, 4)\n",
              "    (18): Embedding(7, 5)\n",
              "    (19): Embedding(3, 3)\n",
              "    (20): Embedding(5, 4)\n",
              "    (21): Embedding(4, 3)\n",
              "    (22): Embedding(3, 3)\n",
              "    (23): Embedding(9, 5)\n",
              "    (24): Embedding(3, 3)\n",
              "    (25): Embedding(3, 3)\n",
              "    (26): Embedding(7, 5)\n",
              "    (27): Embedding(4, 3)\n",
              "    (28): Embedding(3, 3)\n",
              "    (29): Embedding(13, 7)\n",
              "    (30): Embedding(3, 3)\n",
              "    (31): Embedding(5, 4)\n",
              "    (32): Embedding(3, 3)\n",
              "    (33): Embedding(4, 3)\n",
              "    (34): Embedding(18, 8)\n",
              "    (35): Embedding(4, 3)\n",
              "    (36): Embedding(3, 3)\n",
              "    (37): Embedding(3, 3)\n",
              "    (38): Embedding(4, 3)\n",
              "    (39): Embedding(3, 3)\n",
              "    (40): Embedding(20, 9)\n",
              "    (41): Embedding(30, 11)\n",
              "    (42): Embedding(4, 3)\n",
              "    (43): Embedding(4, 3)\n",
              "    (44): Embedding(4, 3)\n",
              "    (45): Embedding(3, 3)\n",
              "    (46): Embedding(11, 6)\n",
              "    (47): Embedding(8, 5)\n",
              "    (48): Embedding(5, 4)\n",
              "    (49): Embedding(6, 4)\n",
              "    (50): Embedding(24, 9)\n",
              "    (51): Embedding(13, 7)\n",
              "    (52): Embedding(54, 15)\n",
              "    (53): Embedding(32, 11)\n",
              "    (54): Embedding(8, 5)\n",
              "    (55): Embedding(361, 43)\n",
              "    (56): Embedding(3, 3)\n",
              "    (57): Embedding(3, 3)\n",
              "    (58): Embedding(3, 3)\n",
              "    (59): Embedding(3, 3)\n",
              "    (60): Embedding(3, 3)\n",
              "    (61): Embedding(2, 2)\n",
              "    (62): Embedding(3, 3)\n",
              "  )\n",
              "  (emb_drop): Dropout(p=0.04, inplace=False)\n",
              "  (bn_cont): BatchNorm1d(2, eps=1e-05, momentum=0.1, affine=True, track_running_stats=True)\n",
              "  (layers): Sequential(\n",
              "    (0): Linear(in_features=2102, out_features=1000, bias=True)\n",
              "    (1): ReLU(inplace=True)\n",
              "    (2): BatchNorm1d(1000, eps=1e-05, momentum=0.1, affine=True, track_running_stats=True)\n",
              "    (3): Dropout(p=0.001, inplace=False)\n",
              "    (4): Linear(in_features=1000, out_features=500, bias=True)\n",
              "    (5): ReLU(inplace=True)\n",
              "    (6): BatchNorm1d(500, eps=1e-05, momentum=0.1, affine=True, track_running_stats=True)\n",
              "    (7): Dropout(p=0.01, inplace=False)\n",
              "    (8): Linear(in_features=500, out_features=1, bias=True)\n",
              "  )\n",
              "), opt_func=functools.partial(<class 'torch.optim.adam.Adam'>, betas=(0.9, 0.99)), loss_func=FlattenedLoss of MSELoss(), metrics=[<function root_mean_squared_error at 0x7f6a3f5a4830>], true_wd=True, bn_wd=True, wd=0.01, train_bn=True, path=PosixPath('/content/drive/My Drive/Colab Notebooks/kaggle/Bulldozer'), model_dir='models', callback_fns=[functools.partial(<class 'fastai.basic_train.Recorder'>, add_time=True, silent=False)], callbacks=[], layer_groups=[Sequential(\n",
              "  (0): Embedding(388505, 600)\n",
              "  (1): Embedding(72, 18)\n",
              "  (2): Embedding(331868, 600)\n",
              "  (3): Embedding(5155, 192)\n",
              "  (4): Embedding(6, 4)\n",
              "  (5): Embedding(31, 11)\n",
              "  (6): Embedding(4, 3)\n",
              "  (7): Embedding(4939, 187)\n",
              "  (8): Embedding(1935, 111)\n",
              "  (9): Embedding(174, 29)\n",
              "  (10): Embedding(122, 24)\n",
              "  (11): Embedding(139, 25)\n",
              "  (12): Embedding(7, 5)\n",
              "  (13): Embedding(75, 18)\n",
              "  (14): Embedding(54, 15)\n",
              "  (15): Embedding(7, 5)\n",
              "  (16): Embedding(7, 5)\n",
              "  (17): Embedding(5, 4)\n",
              "  (18): Embedding(7, 5)\n",
              "  (19): Embedding(3, 3)\n",
              "  (20): Embedding(5, 4)\n",
              "  (21): Embedding(4, 3)\n",
              "  (22): Embedding(3, 3)\n",
              "  (23): Embedding(9, 5)\n",
              "  (24): Embedding(3, 3)\n",
              "  (25): Embedding(3, 3)\n",
              "  (26): Embedding(7, 5)\n",
              "  (27): Embedding(4, 3)\n",
              "  (28): Embedding(3, 3)\n",
              "  (29): Embedding(13, 7)\n",
              "  (30): Embedding(3, 3)\n",
              "  (31): Embedding(5, 4)\n",
              "  (32): Embedding(3, 3)\n",
              "  (33): Embedding(4, 3)\n",
              "  (34): Embedding(18, 8)\n",
              "  (35): Embedding(4, 3)\n",
              "  (36): Embedding(3, 3)\n",
              "  (37): Embedding(3, 3)\n",
              "  (38): Embedding(4, 3)\n",
              "  (39): Embedding(3, 3)\n",
              "  (40): Embedding(20, 9)\n",
              "  (41): Embedding(30, 11)\n",
              "  (42): Embedding(4, 3)\n",
              "  (43): Embedding(4, 3)\n",
              "  (44): Embedding(4, 3)\n",
              "  (45): Embedding(3, 3)\n",
              "  (46): Embedding(11, 6)\n",
              "  (47): Embedding(8, 5)\n",
              "  (48): Embedding(5, 4)\n",
              "  (49): Embedding(6, 4)\n",
              "  (50): Embedding(24, 9)\n",
              "  (51): Embedding(13, 7)\n",
              "  (52): Embedding(54, 15)\n",
              "  (53): Embedding(32, 11)\n",
              "  (54): Embedding(8, 5)\n",
              "  (55): Embedding(361, 43)\n",
              "  (56): Embedding(3, 3)\n",
              "  (57): Embedding(3, 3)\n",
              "  (58): Embedding(3, 3)\n",
              "  (59): Embedding(3, 3)\n",
              "  (60): Embedding(3, 3)\n",
              "  (61): Embedding(2, 2)\n",
              "  (62): Embedding(3, 3)\n",
              "  (63): Dropout(p=0.04, inplace=False)\n",
              "  (64): BatchNorm1d(2, eps=1e-05, momentum=0.1, affine=True, track_running_stats=True)\n",
              "  (65): Linear(in_features=2102, out_features=1000, bias=True)\n",
              "  (66): ReLU(inplace=True)\n",
              "  (67): BatchNorm1d(1000, eps=1e-05, momentum=0.1, affine=True, track_running_stats=True)\n",
              "  (68): Dropout(p=0.001, inplace=False)\n",
              "  (69): Linear(in_features=1000, out_features=500, bias=True)\n",
              "  (70): ReLU(inplace=True)\n",
              "  (71): BatchNorm1d(500, eps=1e-05, momentum=0.1, affine=True, track_running_stats=True)\n",
              "  (72): Dropout(p=0.01, inplace=False)\n",
              "  (73): Linear(in_features=500, out_features=1, bias=True)\n",
              ")], add_time=True, silent=False)"
            ]
          },
          "metadata": {
            "tags": []
          },
          "execution_count": 27
        }
      ]
    },
    {
      "cell_type": "code",
      "metadata": {
        "id": "c02fOCU04YZv"
      },
      "source": [
        "learn.lr_find()\n",
        "learn.recorder.plot(suggestion=True)"
      ],
      "execution_count": null,
      "outputs": []
    },
    {
      "cell_type": "code",
      "metadata": {
        "id": "tS_ERMnmFIv2"
      },
      "source": [
        "# from fastai.callback.all import *\n",
        "import fastai\n",
        "print('Using fastai version ',fastai.__version__)\n"
      ],
      "execution_count": null,
      "outputs": []
    },
    {
      "cell_type": "code",
      "metadata": {
        "colab": {
          "base_uri": "https://localhost:8080/",
          "height": 396
        },
        "id": "UjVXCvC24YVm",
        "outputId": "024d07fe-b190-48ad-a239-ecd82ce46f8b"
      },
      "source": [
        "lr_rate = 2.51E-03\n",
        "learn.fit_one_cycle(3, slice(lr_rate), wd=0.2)"
      ],
      "execution_count": 34,
      "outputs": [
        {
          "output_type": "display_data",
          "data": {
            "text/html": [
              "\n",
              "    <div>\n",
              "        <style>\n",
              "            /* Turns off some styling */\n",
              "            progress {\n",
              "                /* gets rid of default border in Firefox and Opera. */\n",
              "                border: none;\n",
              "                /* Needs to be in here for Safari polyfill so background images work as expected. */\n",
              "                background-size: auto;\n",
              "            }\n",
              "            .progress-bar-interrupted, .progress-bar-interrupted::-webkit-progress-bar {\n",
              "                background: #F44336;\n",
              "            }\n",
              "        </style>\n",
              "      <progress value='0' class='' max='3' style='width:300px; height:20px; vertical-align: middle;'></progress>\n",
              "      0.00% [0/3 00:00<00:00]\n",
              "    </div>\n",
              "    \n",
              "<table border=\"1\" class=\"dataframe\">\n",
              "  <thead>\n",
              "    <tr style=\"text-align: left;\">\n",
              "      <th>epoch</th>\n",
              "      <th>train_loss</th>\n",
              "      <th>valid_loss</th>\n",
              "      <th>root_mean_squared_error</th>\n",
              "      <th>time</th>\n",
              "    </tr>\n",
              "  </thead>\n",
              "  <tbody>\n",
              "  </tbody>\n",
              "</table><p>\n",
              "\n",
              "    <div>\n",
              "        <style>\n",
              "            /* Turns off some styling */\n",
              "            progress {\n",
              "                /* gets rid of default border in Firefox and Opera. */\n",
              "                border: none;\n",
              "                /* Needs to be in here for Safari polyfill so background images work as expected. */\n",
              "                background-size: auto;\n",
              "            }\n",
              "            .progress-bar-interrupted, .progress-bar-interrupted::-webkit-progress-bar {\n",
              "                background: #F44336;\n",
              "            }\n",
              "        </style>\n",
              "      <progress value='0' class='' max='6070' style='width:300px; height:20px; vertical-align: middle;'></progress>\n",
              "      0.00% [0/6070 00:00<00:00]\n",
              "    </div>\n",
              "    "
            ],
            "text/plain": [
              "<IPython.core.display.HTML object>"
            ]
          },
          "metadata": {
            "tags": []
          }
        },
        {
          "output_type": "error",
          "ename": "RuntimeError",
          "evalue": "ignored",
          "traceback": [
            "\u001b[0;31m---------------------------------------------------------------------------\u001b[0m",
            "\u001b[0;31mRuntimeError\u001b[0m                              Traceback (most recent call last)",
            "\u001b[0;32m<ipython-input-34-d1a5234a6a25>\u001b[0m in \u001b[0;36m<module>\u001b[0;34m()\u001b[0m\n\u001b[1;32m      1\u001b[0m \u001b[0mlr_rate\u001b[0m \u001b[0;34m=\u001b[0m \u001b[0;36m2.51E-03\u001b[0m\u001b[0;34m\u001b[0m\u001b[0;34m\u001b[0m\u001b[0m\n\u001b[0;32m----> 2\u001b[0;31m \u001b[0mlearn\u001b[0m\u001b[0;34m.\u001b[0m\u001b[0mfit_one_cycle\u001b[0m\u001b[0;34m(\u001b[0m\u001b[0;36m3\u001b[0m\u001b[0;34m,\u001b[0m \u001b[0mslice\u001b[0m\u001b[0;34m(\u001b[0m\u001b[0mlr_rate\u001b[0m\u001b[0;34m)\u001b[0m\u001b[0;34m,\u001b[0m \u001b[0mwd\u001b[0m\u001b[0;34m=\u001b[0m\u001b[0;36m0.2\u001b[0m\u001b[0;34m)\u001b[0m\u001b[0;34m\u001b[0m\u001b[0;34m\u001b[0m\u001b[0m\n\u001b[0m",
            "\u001b[0;32m/usr/local/lib/python3.7/dist-packages/fastai/train.py\u001b[0m in \u001b[0;36mfit_one_cycle\u001b[0;34m(learn, cyc_len, max_lr, moms, div_factor, pct_start, final_div, wd, callbacks, tot_epochs, start_epoch)\u001b[0m\n\u001b[1;32m     21\u001b[0m     callbacks.append(OneCycleScheduler(learn, max_lr, moms=moms, div_factor=div_factor, pct_start=pct_start,\n\u001b[1;32m     22\u001b[0m                                        final_div=final_div, tot_epochs=tot_epochs, start_epoch=start_epoch))\n\u001b[0;32m---> 23\u001b[0;31m     \u001b[0mlearn\u001b[0m\u001b[0;34m.\u001b[0m\u001b[0mfit\u001b[0m\u001b[0;34m(\u001b[0m\u001b[0mcyc_len\u001b[0m\u001b[0;34m,\u001b[0m \u001b[0mmax_lr\u001b[0m\u001b[0;34m,\u001b[0m \u001b[0mwd\u001b[0m\u001b[0;34m=\u001b[0m\u001b[0mwd\u001b[0m\u001b[0;34m,\u001b[0m \u001b[0mcallbacks\u001b[0m\u001b[0;34m=\u001b[0m\u001b[0mcallbacks\u001b[0m\u001b[0;34m)\u001b[0m\u001b[0;34m\u001b[0m\u001b[0;34m\u001b[0m\u001b[0m\n\u001b[0m\u001b[1;32m     24\u001b[0m \u001b[0;34m\u001b[0m\u001b[0m\n\u001b[1;32m     25\u001b[0m def fit_fc(learn:Learner, tot_epochs:int=1, lr:float=defaults.lr,  moms:Tuple[float,float]=(0.95,0.85), start_pct:float=0.72,\n",
            "\u001b[0;32m/usr/local/lib/python3.7/dist-packages/fastai/basic_train.py\u001b[0m in \u001b[0;36mfit\u001b[0;34m(self, epochs, lr, wd, callbacks)\u001b[0m\n\u001b[1;32m    198\u001b[0m         \u001b[0;32melse\u001b[0m\u001b[0;34m:\u001b[0m \u001b[0mself\u001b[0m\u001b[0;34m.\u001b[0m\u001b[0mopt\u001b[0m\u001b[0;34m.\u001b[0m\u001b[0mlr\u001b[0m\u001b[0;34m,\u001b[0m\u001b[0mself\u001b[0m\u001b[0;34m.\u001b[0m\u001b[0mopt\u001b[0m\u001b[0;34m.\u001b[0m\u001b[0mwd\u001b[0m \u001b[0;34m=\u001b[0m \u001b[0mlr\u001b[0m\u001b[0;34m,\u001b[0m\u001b[0mwd\u001b[0m\u001b[0;34m\u001b[0m\u001b[0;34m\u001b[0m\u001b[0m\n\u001b[1;32m    199\u001b[0m         \u001b[0mcallbacks\u001b[0m \u001b[0;34m=\u001b[0m \u001b[0;34m[\u001b[0m\u001b[0mcb\u001b[0m\u001b[0;34m(\u001b[0m\u001b[0mself\u001b[0m\u001b[0;34m)\u001b[0m \u001b[0;32mfor\u001b[0m \u001b[0mcb\u001b[0m \u001b[0;32min\u001b[0m \u001b[0mself\u001b[0m\u001b[0;34m.\u001b[0m\u001b[0mcallback_fns\u001b[0m \u001b[0;34m+\u001b[0m \u001b[0mlistify\u001b[0m\u001b[0;34m(\u001b[0m\u001b[0mdefaults\u001b[0m\u001b[0;34m.\u001b[0m\u001b[0mextra_callback_fns\u001b[0m\u001b[0;34m)\u001b[0m\u001b[0;34m]\u001b[0m \u001b[0;34m+\u001b[0m \u001b[0mlistify\u001b[0m\u001b[0;34m(\u001b[0m\u001b[0mcallbacks\u001b[0m\u001b[0;34m)\u001b[0m\u001b[0;34m\u001b[0m\u001b[0;34m\u001b[0m\u001b[0m\n\u001b[0;32m--> 200\u001b[0;31m         \u001b[0mfit\u001b[0m\u001b[0;34m(\u001b[0m\u001b[0mepochs\u001b[0m\u001b[0;34m,\u001b[0m \u001b[0mself\u001b[0m\u001b[0;34m,\u001b[0m \u001b[0mmetrics\u001b[0m\u001b[0;34m=\u001b[0m\u001b[0mself\u001b[0m\u001b[0;34m.\u001b[0m\u001b[0mmetrics\u001b[0m\u001b[0;34m,\u001b[0m \u001b[0mcallbacks\u001b[0m\u001b[0;34m=\u001b[0m\u001b[0mself\u001b[0m\u001b[0;34m.\u001b[0m\u001b[0mcallbacks\u001b[0m\u001b[0;34m+\u001b[0m\u001b[0mcallbacks\u001b[0m\u001b[0;34m)\u001b[0m\u001b[0;34m\u001b[0m\u001b[0;34m\u001b[0m\u001b[0m\n\u001b[0m\u001b[1;32m    201\u001b[0m \u001b[0;34m\u001b[0m\u001b[0m\n\u001b[1;32m    202\u001b[0m     \u001b[0;32mdef\u001b[0m \u001b[0mcreate_opt\u001b[0m\u001b[0;34m(\u001b[0m\u001b[0mself\u001b[0m\u001b[0;34m,\u001b[0m \u001b[0mlr\u001b[0m\u001b[0;34m:\u001b[0m\u001b[0mFloats\u001b[0m\u001b[0;34m,\u001b[0m \u001b[0mwd\u001b[0m\u001b[0;34m:\u001b[0m\u001b[0mFloats\u001b[0m\u001b[0;34m=\u001b[0m\u001b[0;36m0.\u001b[0m\u001b[0;34m)\u001b[0m\u001b[0;34m->\u001b[0m\u001b[0;32mNone\u001b[0m\u001b[0;34m:\u001b[0m\u001b[0;34m\u001b[0m\u001b[0;34m\u001b[0m\u001b[0m\n",
            "\u001b[0;32m/usr/local/lib/python3.7/dist-packages/fastai/basic_train.py\u001b[0m in \u001b[0;36mfit\u001b[0;34m(epochs, learn, callbacks, metrics)\u001b[0m\n\u001b[1;32m     99\u001b[0m             \u001b[0;32mfor\u001b[0m \u001b[0mxb\u001b[0m\u001b[0;34m,\u001b[0m\u001b[0myb\u001b[0m \u001b[0;32min\u001b[0m \u001b[0mprogress_bar\u001b[0m\u001b[0;34m(\u001b[0m\u001b[0mlearn\u001b[0m\u001b[0;34m.\u001b[0m\u001b[0mdata\u001b[0m\u001b[0;34m.\u001b[0m\u001b[0mtrain_dl\u001b[0m\u001b[0;34m,\u001b[0m \u001b[0mparent\u001b[0m\u001b[0;34m=\u001b[0m\u001b[0mpbar\u001b[0m\u001b[0;34m)\u001b[0m\u001b[0;34m:\u001b[0m\u001b[0;34m\u001b[0m\u001b[0;34m\u001b[0m\u001b[0m\n\u001b[1;32m    100\u001b[0m                 \u001b[0mxb\u001b[0m\u001b[0;34m,\u001b[0m \u001b[0myb\u001b[0m \u001b[0;34m=\u001b[0m \u001b[0mcb_handler\u001b[0m\u001b[0;34m.\u001b[0m\u001b[0mon_batch_begin\u001b[0m\u001b[0;34m(\u001b[0m\u001b[0mxb\u001b[0m\u001b[0;34m,\u001b[0m \u001b[0myb\u001b[0m\u001b[0;34m)\u001b[0m\u001b[0;34m\u001b[0m\u001b[0;34m\u001b[0m\u001b[0m\n\u001b[0;32m--> 101\u001b[0;31m                 \u001b[0mloss\u001b[0m \u001b[0;34m=\u001b[0m \u001b[0mloss_batch\u001b[0m\u001b[0;34m(\u001b[0m\u001b[0mlearn\u001b[0m\u001b[0;34m.\u001b[0m\u001b[0mmodel\u001b[0m\u001b[0;34m,\u001b[0m \u001b[0mxb\u001b[0m\u001b[0;34m,\u001b[0m \u001b[0myb\u001b[0m\u001b[0;34m,\u001b[0m \u001b[0mlearn\u001b[0m\u001b[0;34m.\u001b[0m\u001b[0mloss_func\u001b[0m\u001b[0;34m,\u001b[0m \u001b[0mlearn\u001b[0m\u001b[0;34m.\u001b[0m\u001b[0mopt\u001b[0m\u001b[0;34m,\u001b[0m \u001b[0mcb_handler\u001b[0m\u001b[0;34m)\u001b[0m\u001b[0;34m\u001b[0m\u001b[0;34m\u001b[0m\u001b[0m\n\u001b[0m\u001b[1;32m    102\u001b[0m                 \u001b[0;32mif\u001b[0m \u001b[0mcb_handler\u001b[0m\u001b[0;34m.\u001b[0m\u001b[0mon_batch_end\u001b[0m\u001b[0;34m(\u001b[0m\u001b[0mloss\u001b[0m\u001b[0;34m)\u001b[0m\u001b[0;34m:\u001b[0m \u001b[0;32mbreak\u001b[0m\u001b[0;34m\u001b[0m\u001b[0;34m\u001b[0m\u001b[0m\n\u001b[1;32m    103\u001b[0m \u001b[0;34m\u001b[0m\u001b[0m\n",
            "\u001b[0;32m/usr/local/lib/python3.7/dist-packages/fastai/basic_train.py\u001b[0m in \u001b[0;36mloss_batch\u001b[0;34m(model, xb, yb, loss_func, opt, cb_handler)\u001b[0m\n\u001b[1;32m     33\u001b[0m         \u001b[0mloss\u001b[0m\u001b[0;34m,\u001b[0m\u001b[0mskip_bwd\u001b[0m \u001b[0;34m=\u001b[0m \u001b[0mcb_handler\u001b[0m\u001b[0;34m.\u001b[0m\u001b[0mon_backward_begin\u001b[0m\u001b[0;34m(\u001b[0m\u001b[0mloss\u001b[0m\u001b[0;34m)\u001b[0m\u001b[0;34m\u001b[0m\u001b[0;34m\u001b[0m\u001b[0m\n\u001b[1;32m     34\u001b[0m         \u001b[0;32mif\u001b[0m \u001b[0;32mnot\u001b[0m \u001b[0mskip_bwd\u001b[0m\u001b[0;34m:\u001b[0m                     \u001b[0mloss\u001b[0m\u001b[0;34m.\u001b[0m\u001b[0mbackward\u001b[0m\u001b[0;34m(\u001b[0m\u001b[0;34m)\u001b[0m\u001b[0;34m\u001b[0m\u001b[0;34m\u001b[0m\u001b[0m\n\u001b[0;32m---> 35\u001b[0;31m         \u001b[0;32mif\u001b[0m \u001b[0;32mnot\u001b[0m \u001b[0mcb_handler\u001b[0m\u001b[0;34m.\u001b[0m\u001b[0mon_backward_end\u001b[0m\u001b[0;34m(\u001b[0m\u001b[0;34m)\u001b[0m\u001b[0;34m:\u001b[0m \u001b[0mopt\u001b[0m\u001b[0;34m.\u001b[0m\u001b[0mstep\u001b[0m\u001b[0;34m(\u001b[0m\u001b[0;34m)\u001b[0m\u001b[0;34m\u001b[0m\u001b[0;34m\u001b[0m\u001b[0m\n\u001b[0m\u001b[1;32m     36\u001b[0m         \u001b[0;32mif\u001b[0m \u001b[0;32mnot\u001b[0m \u001b[0mcb_handler\u001b[0m\u001b[0;34m.\u001b[0m\u001b[0mon_step_end\u001b[0m\u001b[0;34m(\u001b[0m\u001b[0;34m)\u001b[0m\u001b[0;34m:\u001b[0m     \u001b[0mopt\u001b[0m\u001b[0;34m.\u001b[0m\u001b[0mzero_grad\u001b[0m\u001b[0;34m(\u001b[0m\u001b[0;34m)\u001b[0m\u001b[0;34m\u001b[0m\u001b[0;34m\u001b[0m\u001b[0m\n\u001b[1;32m     37\u001b[0m \u001b[0;34m\u001b[0m\u001b[0m\n",
            "\u001b[0;32m/usr/local/lib/python3.7/dist-packages/fastai/callback.py\u001b[0m in \u001b[0;36mstep\u001b[0;34m(self)\u001b[0m\n\u001b[1;32m     55\u001b[0m                     \u001b[0;32mfor\u001b[0m \u001b[0mp\u001b[0m \u001b[0;32min\u001b[0m \u001b[0mpg2\u001b[0m\u001b[0;34m[\u001b[0m\u001b[0;34m'params'\u001b[0m\u001b[0;34m]\u001b[0m\u001b[0;34m:\u001b[0m \u001b[0mp\u001b[0m\u001b[0;34m.\u001b[0m\u001b[0mdata\u001b[0m\u001b[0;34m.\u001b[0m\u001b[0mmul_\u001b[0m\u001b[0;34m(\u001b[0m\u001b[0;36m1\u001b[0m \u001b[0;34m-\u001b[0m \u001b[0mwd\u001b[0m\u001b[0;34m*\u001b[0m\u001b[0mlr\u001b[0m\u001b[0;34m)\u001b[0m\u001b[0;34m\u001b[0m\u001b[0;34m\u001b[0m\u001b[0m\n\u001b[1;32m     56\u001b[0m             \u001b[0mself\u001b[0m\u001b[0;34m.\u001b[0m\u001b[0mset_val\u001b[0m\u001b[0;34m(\u001b[0m\u001b[0;34m'weight_decay'\u001b[0m\u001b[0;34m,\u001b[0m \u001b[0mlistify\u001b[0m\u001b[0;34m(\u001b[0m\u001b[0;36m0\u001b[0m\u001b[0;34m,\u001b[0m \u001b[0mself\u001b[0m\u001b[0;34m.\u001b[0m\u001b[0m_wd\u001b[0m\u001b[0;34m)\u001b[0m\u001b[0;34m)\u001b[0m\u001b[0;34m\u001b[0m\u001b[0;34m\u001b[0m\u001b[0m\n\u001b[0;32m---> 57\u001b[0;31m         \u001b[0mself\u001b[0m\u001b[0;34m.\u001b[0m\u001b[0mopt\u001b[0m\u001b[0;34m.\u001b[0m\u001b[0mstep\u001b[0m\u001b[0;34m(\u001b[0m\u001b[0;34m)\u001b[0m\u001b[0;34m\u001b[0m\u001b[0;34m\u001b[0m\u001b[0m\n\u001b[0m\u001b[1;32m     58\u001b[0m \u001b[0;34m\u001b[0m\u001b[0m\n\u001b[1;32m     59\u001b[0m     \u001b[0;32mdef\u001b[0m \u001b[0mzero_grad\u001b[0m\u001b[0;34m(\u001b[0m\u001b[0mself\u001b[0m\u001b[0;34m)\u001b[0m\u001b[0;34m->\u001b[0m\u001b[0;32mNone\u001b[0m\u001b[0;34m:\u001b[0m\u001b[0;34m\u001b[0m\u001b[0;34m\u001b[0m\u001b[0m\n",
            "\u001b[0;32m/usr/local/lib/python3.7/dist-packages/torch/optim/optimizer.py\u001b[0m in \u001b[0;36mwrapper\u001b[0;34m(*args, **kwargs)\u001b[0m\n\u001b[1;32m     87\u001b[0m                 \u001b[0mprofile_name\u001b[0m \u001b[0;34m=\u001b[0m \u001b[0;34m\"Optimizer.step#{}.step\"\u001b[0m\u001b[0;34m.\u001b[0m\u001b[0mformat\u001b[0m\u001b[0;34m(\u001b[0m\u001b[0mobj\u001b[0m\u001b[0;34m.\u001b[0m\u001b[0m__class__\u001b[0m\u001b[0;34m.\u001b[0m\u001b[0m__name__\u001b[0m\u001b[0;34m)\u001b[0m\u001b[0;34m\u001b[0m\u001b[0;34m\u001b[0m\u001b[0m\n\u001b[1;32m     88\u001b[0m                 \u001b[0;32mwith\u001b[0m \u001b[0mtorch\u001b[0m\u001b[0;34m.\u001b[0m\u001b[0mautograd\u001b[0m\u001b[0;34m.\u001b[0m\u001b[0mprofiler\u001b[0m\u001b[0;34m.\u001b[0m\u001b[0mrecord_function\u001b[0m\u001b[0;34m(\u001b[0m\u001b[0mprofile_name\u001b[0m\u001b[0;34m)\u001b[0m\u001b[0;34m:\u001b[0m\u001b[0;34m\u001b[0m\u001b[0;34m\u001b[0m\u001b[0m\n\u001b[0;32m---> 89\u001b[0;31m                     \u001b[0;32mreturn\u001b[0m \u001b[0mfunc\u001b[0m\u001b[0;34m(\u001b[0m\u001b[0;34m*\u001b[0m\u001b[0margs\u001b[0m\u001b[0;34m,\u001b[0m \u001b[0;34m**\u001b[0m\u001b[0mkwargs\u001b[0m\u001b[0;34m)\u001b[0m\u001b[0;34m\u001b[0m\u001b[0;34m\u001b[0m\u001b[0m\n\u001b[0m\u001b[1;32m     90\u001b[0m             \u001b[0;32mreturn\u001b[0m \u001b[0mwrapper\u001b[0m\u001b[0;34m\u001b[0m\u001b[0;34m\u001b[0m\u001b[0m\n\u001b[1;32m     91\u001b[0m \u001b[0;34m\u001b[0m\u001b[0m\n",
            "\u001b[0;32m/usr/local/lib/python3.7/dist-packages/torch/autograd/grad_mode.py\u001b[0m in \u001b[0;36mdecorate_context\u001b[0;34m(*args, **kwargs)\u001b[0m\n\u001b[1;32m     25\u001b[0m         \u001b[0;32mdef\u001b[0m \u001b[0mdecorate_context\u001b[0m\u001b[0;34m(\u001b[0m\u001b[0;34m*\u001b[0m\u001b[0margs\u001b[0m\u001b[0;34m,\u001b[0m \u001b[0;34m**\u001b[0m\u001b[0mkwargs\u001b[0m\u001b[0;34m)\u001b[0m\u001b[0;34m:\u001b[0m\u001b[0;34m\u001b[0m\u001b[0;34m\u001b[0m\u001b[0m\n\u001b[1;32m     26\u001b[0m             \u001b[0;32mwith\u001b[0m \u001b[0mself\u001b[0m\u001b[0;34m.\u001b[0m\u001b[0m__class__\u001b[0m\u001b[0;34m(\u001b[0m\u001b[0;34m)\u001b[0m\u001b[0;34m:\u001b[0m\u001b[0;34m\u001b[0m\u001b[0;34m\u001b[0m\u001b[0m\n\u001b[0;32m---> 27\u001b[0;31m                 \u001b[0;32mreturn\u001b[0m \u001b[0mfunc\u001b[0m\u001b[0;34m(\u001b[0m\u001b[0;34m*\u001b[0m\u001b[0margs\u001b[0m\u001b[0;34m,\u001b[0m \u001b[0;34m**\u001b[0m\u001b[0mkwargs\u001b[0m\u001b[0;34m)\u001b[0m\u001b[0;34m\u001b[0m\u001b[0;34m\u001b[0m\u001b[0m\n\u001b[0m\u001b[1;32m     28\u001b[0m         \u001b[0;32mreturn\u001b[0m \u001b[0mcast\u001b[0m\u001b[0;34m(\u001b[0m\u001b[0mF\u001b[0m\u001b[0;34m,\u001b[0m \u001b[0mdecorate_context\u001b[0m\u001b[0;34m)\u001b[0m\u001b[0;34m\u001b[0m\u001b[0;34m\u001b[0m\u001b[0m\n\u001b[1;32m     29\u001b[0m \u001b[0;34m\u001b[0m\u001b[0m\n",
            "\u001b[0;32m/usr/local/lib/python3.7/dist-packages/torch/optim/adam.py\u001b[0m in \u001b[0;36mstep\u001b[0;34m(self, closure)\u001b[0m\n\u001b[1;32m    117\u001b[0m                    \u001b[0mgroup\u001b[0m\u001b[0;34m[\u001b[0m\u001b[0;34m'lr'\u001b[0m\u001b[0;34m]\u001b[0m\u001b[0;34m,\u001b[0m\u001b[0;34m\u001b[0m\u001b[0;34m\u001b[0m\u001b[0m\n\u001b[1;32m    118\u001b[0m                    \u001b[0mgroup\u001b[0m\u001b[0;34m[\u001b[0m\u001b[0;34m'weight_decay'\u001b[0m\u001b[0;34m]\u001b[0m\u001b[0;34m,\u001b[0m\u001b[0;34m\u001b[0m\u001b[0;34m\u001b[0m\u001b[0m\n\u001b[0;32m--> 119\u001b[0;31m                    group['eps'])\n\u001b[0m\u001b[1;32m    120\u001b[0m         \u001b[0;32mreturn\u001b[0m \u001b[0mloss\u001b[0m\u001b[0;34m\u001b[0m\u001b[0;34m\u001b[0m\u001b[0m\n",
            "\u001b[0;32m/usr/local/lib/python3.7/dist-packages/torch/optim/_functional.py\u001b[0m in \u001b[0;36madam\u001b[0;34m(params, grads, exp_avgs, exp_avg_sqs, max_exp_avg_sqs, state_steps, amsgrad, beta1, beta2, lr, weight_decay, eps)\u001b[0m\n\u001b[1;32m     82\u001b[0m \u001b[0;34m\u001b[0m\u001b[0m\n\u001b[1;32m     83\u001b[0m         \u001b[0;31m# Decay the first and second moment running average coefficient\u001b[0m\u001b[0;34m\u001b[0m\u001b[0;34m\u001b[0m\u001b[0;34m\u001b[0m\u001b[0m\n\u001b[0;32m---> 84\u001b[0;31m         \u001b[0mexp_avg\u001b[0m\u001b[0;34m.\u001b[0m\u001b[0mmul_\u001b[0m\u001b[0;34m(\u001b[0m\u001b[0mbeta1\u001b[0m\u001b[0;34m)\u001b[0m\u001b[0;34m.\u001b[0m\u001b[0madd_\u001b[0m\u001b[0;34m(\u001b[0m\u001b[0mgrad\u001b[0m\u001b[0;34m,\u001b[0m \u001b[0malpha\u001b[0m\u001b[0;34m=\u001b[0m\u001b[0;36m1\u001b[0m \u001b[0;34m-\u001b[0m \u001b[0mbeta1\u001b[0m\u001b[0;34m)\u001b[0m\u001b[0;34m\u001b[0m\u001b[0;34m\u001b[0m\u001b[0m\n\u001b[0m\u001b[1;32m     85\u001b[0m         \u001b[0mexp_avg_sq\u001b[0m\u001b[0;34m.\u001b[0m\u001b[0mmul_\u001b[0m\u001b[0;34m(\u001b[0m\u001b[0mbeta2\u001b[0m\u001b[0;34m)\u001b[0m\u001b[0;34m.\u001b[0m\u001b[0maddcmul_\u001b[0m\u001b[0;34m(\u001b[0m\u001b[0mgrad\u001b[0m\u001b[0;34m,\u001b[0m \u001b[0mgrad\u001b[0m\u001b[0;34m,\u001b[0m \u001b[0mvalue\u001b[0m\u001b[0;34m=\u001b[0m\u001b[0;36m1\u001b[0m \u001b[0;34m-\u001b[0m \u001b[0mbeta2\u001b[0m\u001b[0;34m)\u001b[0m\u001b[0;34m\u001b[0m\u001b[0;34m\u001b[0m\u001b[0m\n\u001b[1;32m     86\u001b[0m         \u001b[0;32mif\u001b[0m \u001b[0mamsgrad\u001b[0m\u001b[0;34m:\u001b[0m\u001b[0;34m\u001b[0m\u001b[0;34m\u001b[0m\u001b[0m\n",
            "\u001b[0;32m/usr/local/lib/python3.7/dist-packages/torch/utils/data/_utils/signal_handling.py\u001b[0m in \u001b[0;36mhandler\u001b[0;34m(signum, frame)\u001b[0m\n\u001b[1;32m     64\u001b[0m         \u001b[0;31m# This following call uses `waitid` with WNOHANG from C side. Therefore,\u001b[0m\u001b[0;34m\u001b[0m\u001b[0;34m\u001b[0m\u001b[0;34m\u001b[0m\u001b[0m\n\u001b[1;32m     65\u001b[0m         \u001b[0;31m# Python can still get and update the process status successfully.\u001b[0m\u001b[0;34m\u001b[0m\u001b[0;34m\u001b[0m\u001b[0;34m\u001b[0m\u001b[0m\n\u001b[0;32m---> 66\u001b[0;31m         \u001b[0m_error_if_any_worker_fails\u001b[0m\u001b[0;34m(\u001b[0m\u001b[0;34m)\u001b[0m\u001b[0;34m\u001b[0m\u001b[0;34m\u001b[0m\u001b[0m\n\u001b[0m\u001b[1;32m     67\u001b[0m         \u001b[0;32mif\u001b[0m \u001b[0mprevious_handler\u001b[0m \u001b[0;32mis\u001b[0m \u001b[0;32mnot\u001b[0m \u001b[0;32mNone\u001b[0m\u001b[0;34m:\u001b[0m\u001b[0;34m\u001b[0m\u001b[0;34m\u001b[0m\u001b[0m\n\u001b[1;32m     68\u001b[0m             \u001b[0;32massert\u001b[0m \u001b[0mcallable\u001b[0m\u001b[0;34m(\u001b[0m\u001b[0mprevious_handler\u001b[0m\u001b[0;34m)\u001b[0m\u001b[0;34m\u001b[0m\u001b[0;34m\u001b[0m\u001b[0m\n",
            "\u001b[0;31mRuntimeError\u001b[0m: DataLoader worker (pid 366) is killed by signal: Killed. "
          ]
        }
      ]
    },
    {
      "cell_type": "code",
      "metadata": {
        "id": "uzdUsr1dFm60"
      },
      "source": [
        "learn.save('bulldozer_stage2')"
      ],
      "execution_count": null,
      "outputs": []
    },
    {
      "cell_type": "code",
      "metadata": {
        "colab": {
          "base_uri": "https://localhost:8080/",
          "height": 170
        },
        "id": "H4UUc4zGYLMd",
        "outputId": "ce6a6dce-1881-4c59-d62a-0d9dba39815f"
      },
      "source": [
        "learn.fit_one_cycle(4, slice(lr_rate), wd=0.2, \n",
        "                    # cbs=[SaveModelCallback(every_epoch=True, fname='bulldozer_stage2'),\n",
        "                    #      EarlyStoppingCallback(monitor='valid_loss', min_delta=0.1, patience=2),\n",
        "                    #      ReduceLROnPlateau(monitor='valid_loss', comp=None, min_delta=0.0, patience=1, factor=10.0, min_lr=0, reset_on_fit=True)\n",
        "                    #      ]\n",
        "                    )"
      ],
      "execution_count": null,
      "outputs": [
        {
          "output_type": "display_data",
          "data": {
            "text/html": [
              "\n",
              "    <div>\n",
              "        <style>\n",
              "            /* Turns off some styling */\n",
              "            progress {\n",
              "                /* gets rid of default border in Firefox and Opera. */\n",
              "                border: none;\n",
              "                /* Needs to be in here for Safari polyfill so background images work as expected. */\n",
              "                background-size: auto;\n",
              "            }\n",
              "            .progress-bar-interrupted, .progress-bar-interrupted::-webkit-progress-bar {\n",
              "                background: #F44336;\n",
              "            }\n",
              "        </style>\n",
              "      <progress value='0' class='' max='4' style='width:300px; height:20px; vertical-align: middle;'></progress>\n",
              "      0.00% [0/4 00:00<00:00]\n",
              "    </div>\n",
              "    \n",
              "<table border=\"1\" class=\"dataframe\">\n",
              "  <thead>\n",
              "    <tr style=\"text-align: left;\">\n",
              "      <th>epoch</th>\n",
              "      <th>train_loss</th>\n",
              "      <th>valid_loss</th>\n",
              "      <th>root_mean_squared_error</th>\n",
              "      <th>time</th>\n",
              "    </tr>\n",
              "  </thead>\n",
              "  <tbody>\n",
              "  </tbody>\n",
              "</table><p>\n",
              "\n",
              "    <div>\n",
              "        <style>\n",
              "            /* Turns off some styling */\n",
              "            progress {\n",
              "                /* gets rid of default border in Firefox and Opera. */\n",
              "                border: none;\n",
              "                /* Needs to be in here for Safari polyfill so background images work as expected. */\n",
              "                background-size: auto;\n",
              "            }\n",
              "            .progress-bar-interrupted, .progress-bar-interrupted::-webkit-progress-bar {\n",
              "                background: #F44336;\n",
              "            }\n",
              "        </style>\n",
              "      <progress value='1659' class='' max='6070' style='width:300px; height:20px; vertical-align: middle;'></progress>\n",
              "      27.33% [1659/6070 05:49<15:28 0.0436]\n",
              "    </div>\n",
              "    "
            ],
            "text/plain": [
              "<IPython.core.display.HTML object>"
            ]
          },
          "metadata": {
            "tags": []
          }
        },
        {
          "output_type": "display_data",
          "data": {
            "text/html": [
              "\n",
              "    <div>\n",
              "        <style>\n",
              "            /* Turns off some styling */\n",
              "            progress {\n",
              "                /* gets rid of default border in Firefox and Opera. */\n",
              "                border: none;\n",
              "                /* Needs to be in here for Safari polyfill so background images work as expected. */\n",
              "                background-size: auto;\n",
              "            }\n",
              "            .progress-bar-interrupted, .progress-bar-interrupted::-webkit-progress-bar {\n",
              "                background: #F44336;\n",
              "            }\n",
              "        </style>\n",
              "      <progress value='0' class='' max='4' style='width:300px; height:20px; vertical-align: middle;'></progress>\n",
              "      0.00% [0/4 00:00<00:00]\n",
              "    </div>\n",
              "    \n",
              "<table border=\"1\" class=\"dataframe\">\n",
              "  <thead>\n",
              "    <tr style=\"text-align: left;\">\n",
              "      <th>epoch</th>\n",
              "      <th>train_loss</th>\n",
              "      <th>valid_loss</th>\n",
              "      <th>root_mean_squared_error</th>\n",
              "      <th>time</th>\n",
              "    </tr>\n",
              "  </thead>\n",
              "  <tbody>\n",
              "  </tbody>\n",
              "</table><p>\n",
              "\n",
              "    <div>\n",
              "        <style>\n",
              "            /* Turns off some styling */\n",
              "            progress {\n",
              "                /* gets rid of default border in Firefox and Opera. */\n",
              "                border: none;\n",
              "                /* Needs to be in here for Safari polyfill so background images work as expected. */\n",
              "                background-size: auto;\n",
              "            }\n",
              "            .progress-bar-interrupted, .progress-bar-interrupted::-webkit-progress-bar {\n",
              "                background: #F44336;\n",
              "            }\n",
              "        </style>\n",
              "      <progress value='3044' class='' max='6070' style='width:300px; height:20px; vertical-align: middle;'></progress>\n",
              "      50.15% [3044/6070 10:40<10:36 0.0621]\n",
              "    </div>\n",
              "    "
            ],
            "text/plain": [
              "<IPython.core.display.HTML object>"
            ]
          },
          "metadata": {
            "tags": []
          }
        }
      ]
    },
    {
      "cell_type": "code",
      "metadata": {
        "id": "65jigk_V4SOp"
      },
      "source": [
        "learn.save('bulldozer_stage3')"
      ],
      "execution_count": null,
      "outputs": []
    },
    {
      "cell_type": "markdown",
      "metadata": {
        "id": "5Bo4a2cT53Sf"
      },
      "source": [
        "## 4. Submission\n",
        "\n",
        "get sample_sub\n",
        "\n",
        "to_csv\n",
        "\n",
        "!kaggle competitions submit"
      ]
    },
    {
      "cell_type": "code",
      "metadata": {
        "id": "CotXmliSZBdI"
      },
      "source": [
        "\n",
        "# test_df[''] = test_preds[0].data.numpy().T[0]\n",
        "# test_df[['Id', '']] = test_df[['Id', 'Sales']].astype(int)\n",
        "# test_df.Sales.dtype\n",
        "# test_df[[\"Id\", \"\"]].to_csv(\"submission.csv\", index=False)\n",
        "\n",
        "\n",
        "from google.colab import files\n",
        "files.upload()\n",
        "\n",
        "!mkdir -p ~/.kaggle\n",
        "!cp kaggle.json ~/.kaggle/\n",
        "\n",
        "# !pip install kaggle\n",
        "!chmod 600 /root/.kaggle/kaggle.json\n",
        "\n",
        "!kaggle competitions list\n",
        "# !kaggle competitions download -c [COMPETITION]\n",
        "# !kaggle competitions submit -c [COMPETITION] -f [FILE] -m [MESSAGE]\n",
        "\n",
        "# !kaggle datasets list -s [KEYWORD]\n",
        "# !kaggle datasets download -d [DATASET"
      ],
      "execution_count": null,
      "outputs": []
    },
    {
      "cell_type": "markdown",
      "metadata": {
        "id": "f-PY51i3T5AH"
      },
      "source": [
        "## Submission"
      ]
    },
    {
      "cell_type": "code",
      "metadata": {
        "id": "ir8ztPl1T4o6"
      },
      "source": [
        "\n",
        "#upload\n",
        "!kaggle competitions submit \"\" -f '/content/drive/My Drive/Colab Notebooks/kaggle/ ------ion.csv' -m ''"
      ],
      "execution_count": null,
      "outputs": []
    }
  ]
}